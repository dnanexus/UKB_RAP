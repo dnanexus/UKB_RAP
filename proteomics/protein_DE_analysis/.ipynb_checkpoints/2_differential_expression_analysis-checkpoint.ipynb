{
 "cells": [
  {
   "cell_type": "markdown",
   "id": "e051103b",
   "metadata": {},
   "source": [
    "# Notebook 2: Differential Expression Analysis\n",
    "In this notebook, we will compare patients with MCI progressive (MCI_Decline_AD) vs MCI stable (MCI_Stable_AD) to identify which proteins that are differentially expressed/abundant, using the Limma lmfit algorithm. "
   ]
  },
  {
   "cell_type": "markdown",
   "id": "04312e22",
   "metadata": {},
   "source": [
    "<b>Launch spec:</b> \n",
    "- App name: JupyterLab\n",
    "- Kernel: R\n",
    "- Instance type: mem1_ssd1_v2_x2\n",
    "- cost: < $0.25\n",
    "- runtime: =~ 5 min\n",
    "\n",
    "\n",
    "<b>Data description:</b> The inputs for this notebook are\n",
    "1. A matrix of samples and their respective protein expression (NPX). This file has the expression values for 400 protein for 59 samples (29 MCI stable, 30 MCI progressive). This data can be found in `npx.csv`, created by the previous notebook.\n",
    "2. A summary file giving the sample IDs labeled with MCI stable or MCI progressive. This data can be found in `pheno.csv`, created by the previous notebook.\n",
    "\n",
    "**Note:** R kernel takes 1 min to setup when you open this notebook (a little slower than python kernel)"
   ]
  },
  {
   "cell_type": "markdown",
   "id": "487d9ca4",
   "metadata": {},
   "source": [
    "**Install Packages**\n",
    "\n",
    "Uncomment the install commands if you are comfortable with the library license and want to install and run the parts notebook that depend on the library.\n",
    "\n",
    "_Note: Package installation takes ~10 minutes_"
   ]
  },
  {
   "cell_type": "code",
   "execution_count": 1,
   "id": "06172491",
   "metadata": {
    "vscode": {
     "languageId": "r"
    }
   },
   "outputs": [],
   "source": [
    "# Libraries to install if running locally and on RAP\n",
    "# install.packages(\"tidyverse\")\n",
    "# install.packages('BiocManager')\n",
    "# BiocManager::install(\"limma\")\n",
    "\n",
    "# Additional libraries to install if running locally, these are already installed on RAP\n",
    "# install.packages(\"readr\")\n",
    "# install.packages(\"magrittr\")\n",
    "# install.packages(\"dplyr\")"
   ]
  },
  {
   "cell_type": "markdown",
   "id": "b51aa85e",
   "metadata": {},
   "source": [
    "**Declare input and output file names**\n",
    "\n",
    "In notebook 1, we generate the following files and saved it in our platform\n",
    "1. A matrix of samples and their respective protein expression (NPX). This file has the expression values for 400 protein for 59 samples (29 MCI stable, 30 MCI progressive). This data can be found in `npx.csv`, created by the previous notebook.\n",
    "2. A summary file giving the sample IDs labeled with MCI stable or MCI progressive. This data can be found in `pheno.csv`, created by the previous notebook."
   ]
  },
  {
   "cell_type": "code",
   "execution_count": 2,
   "id": "f70932d2",
   "metadata": {
    "vscode": {
     "languageId": "r"
    }
   },
   "outputs": [],
   "source": [
    "# Input files\n",
    "npx_file <- \"npx.csv\"\n",
    "pheno_file <- \"pheno.csv\"\n",
    "\n",
    "# Output file\n",
    "deseq_results_file <- \"de_results.csv\"\n",
    "output_dir <- \"/output/\""
   ]
  },
  {
   "cell_type": "markdown",
   "id": "a160b260",
   "metadata": {},
   "source": [
    "**Download Data**\n",
    "\n",
    " We download these files using CLI dx-toolbox command, `dx download <file_name>`. "
   ]
  },
  {
   "cell_type": "code",
   "execution_count": 3,
   "id": "cf87b4af",
   "metadata": {
    "vscode": {
     "languageId": "r"
    }
   },
   "outputs": [],
   "source": [
    "npx_download_file <- \"file path for npx.csv\"\n",
    "pheno_download_file <- \"file path for pheno.csv\"\n",
    "\n",
    "system(paste(\"dx download\", npx_download_file))\n",
    "system(paste(\"dx download\", pheno_download_file))"
   ]
  },
  {
   "cell_type": "markdown",
   "id": "42b57d77",
   "metadata": {},
   "source": [
    "_Note: At this point, we suggest creating a snapshot of the environment for resuse --> DNAnexus/Create SnapshotOnce a snapshot is created, the object may be used when launching a new JupyterLab instance and will contain all installed packages and any downloaded data._"
   ]
  },
  {
   "cell_type": "markdown",
   "id": "729edded",
   "metadata": {},
   "source": [
    "## 2. Load Libraries"
   ]
  },
  {
   "cell_type": "code",
   "execution_count": 4,
   "id": "9e9b313f",
   "metadata": {
    "vscode": {
     "languageId": "r"
    }
   },
   "outputs": [
    {
     "name": "stderr",
     "output_type": "stream",
     "text": [
      "── \u001b[1mAttaching packages\u001b[22m ────────────────────────────────────────────────────────────────────────────────────────── tidyverse 1.3.2 ──\n",
      "\u001b[32m✔\u001b[39m \u001b[34mggplot2\u001b[39m 3.4.0     \u001b[32m✔\u001b[39m \u001b[34mpurrr  \u001b[39m 1.0.1\n",
      "\u001b[32m✔\u001b[39m \u001b[34mtibble \u001b[39m 3.1.8     \u001b[32m✔\u001b[39m \u001b[34mdplyr  \u001b[39m 1.1.0\n",
      "\u001b[32m✔\u001b[39m \u001b[34mtidyr  \u001b[39m 1.3.0     \u001b[32m✔\u001b[39m \u001b[34mstringr\u001b[39m 1.5.0\n",
      "\u001b[32m✔\u001b[39m \u001b[34mreadr  \u001b[39m 2.1.3     \u001b[32m✔\u001b[39m \u001b[34mforcats\u001b[39m 1.0.0\n",
      "── \u001b[1mConflicts\u001b[22m ───────────────────────────────────────────────────────────────────────────────────────────── tidyverse_conflicts() ──\n",
      "\u001b[31m✖\u001b[39m \u001b[34mdplyr\u001b[39m::\u001b[32mfilter()\u001b[39m masks \u001b[34mstats\u001b[39m::filter()\n",
      "\u001b[31m✖\u001b[39m \u001b[34mdplyr\u001b[39m::\u001b[32mlag()\u001b[39m    masks \u001b[34mstats\u001b[39m::lag()\n"
     ]
    }
   ],
   "source": [
    "library(limma)\n",
    "library(tidyverse)"
   ]
  },
  {
   "cell_type": "code",
   "execution_count": 5,
   "id": "6c8252bb",
   "metadata": {
    "vscode": {
     "languageId": "r"
    }
   },
   "outputs": [
    {
     "name": "stderr",
     "output_type": "stream",
     "text": [
      "\n",
      "Attaching package: ‘magrittr’\n",
      "\n",
      "\n",
      "The following object is masked from ‘package:purrr’:\n",
      "\n",
      "    set_names\n",
      "\n",
      "\n",
      "The following object is masked from ‘package:tidyr’:\n",
      "\n",
      "    extract\n",
      "\n",
      "\n"
     ]
    }
   ],
   "source": [
    "# Additional libraries to load\n",
    "library(readr)\n",
    "library(magrittr)\n",
    "library(dplyr)"
   ]
  },
  {
   "cell_type": "markdown",
   "id": "185ab1ad",
   "metadata": {},
   "source": [
    "## 3. Load Data"
   ]
  },
  {
   "cell_type": "code",
   "execution_count": 6,
   "id": "6f9bed01",
   "metadata": {
    "scrolled": true,
    "vscode": {
     "languageId": "r"
    }
   },
   "outputs": [],
   "source": [
    "# Read the expression dataframe\n",
    "npx_df <- read_csv(npx_file, show_col_types = FALSE)\n",
    "\n",
    "# Read the phenotype datafram\n",
    "pheno_df <- read_csv(pheno_file, show_col_types = FALSE)"
   ]
  },
  {
   "cell_type": "code",
   "execution_count": 7,
   "id": "d600a0cb",
   "metadata": {
    "vscode": {
     "languageId": "r"
    }
   },
   "outputs": [],
   "source": [
    "# Set row names to be the sample ids so that we can use the sample ids to ensure the order of samples in\n",
    "# the expression data frame and phenotype dataframe are consistent when input into Limma\n",
    "npx_df <- column_to_rownames(npx_df, var = \"Plasma_Sample\")"
   ]
  },
  {
   "cell_type": "code",
   "execution_count": 8,
   "id": "8329776c",
   "metadata": {
    "vscode": {
     "languageId": "r"
    }
   },
   "outputs": [
    {
     "data": {
      "text/html": [
       "<style>\n",
       ".list-inline {list-style: none; margin:0; padding: 0}\n",
       ".list-inline>li {display: inline-block}\n",
       ".list-inline>li:not(:last-child)::after {content: \"\\00b7\"; padding: 0 .5ex}\n",
       "</style>\n",
       "<ol class=list-inline><li>'CA1'</li><li>'ICAM1'</li><li>'CHL1'</li><li>'TGFBI'</li><li>'ENG'</li></ol>\n"
      ],
      "text/latex": [
       "\\begin{enumerate*}\n",
       "\\item 'CA1'\n",
       "\\item 'ICAM1'\n",
       "\\item 'CHL1'\n",
       "\\item 'TGFBI'\n",
       "\\item 'ENG'\n",
       "\\end{enumerate*}\n"
      ],
      "text/markdown": [
       "1. 'CA1'\n",
       "2. 'ICAM1'\n",
       "3. 'CHL1'\n",
       "4. 'TGFBI'\n",
       "5. 'ENG'\n",
       "\n",
       "\n"
      ],
      "text/plain": [
       "[1] \"CA1\"   \"ICAM1\" \"CHL1\"  \"TGFBI\" \"ENG\"  "
      ]
     },
     "metadata": {},
     "output_type": "display_data"
    },
    {
     "data": {
      "text/html": [
       "<style>\n",
       ".list-inline {list-style: none; margin:0; padding: 0}\n",
       ".list-inline>li {display: inline-block}\n",
       ".list-inline>li:not(:last-child)::after {content: \"\\00b7\"; padding: 0 .5ex}\n",
       "</style>\n",
       "<ol class=list-inline><li>59</li><li>400</li></ol>\n"
      ],
      "text/latex": [
       "\\begin{enumerate*}\n",
       "\\item 59\n",
       "\\item 400\n",
       "\\end{enumerate*}\n"
      ],
      "text/markdown": [
       "1. 59\n",
       "2. 400\n",
       "\n",
       "\n"
      ],
      "text/plain": [
       "[1]  59 400"
      ]
     },
     "metadata": {},
     "output_type": "display_data"
    },
    {
     "data": {
      "text/html": [
       "<table class=\"dataframe\">\n",
       "<caption>A data.frame: 6 × 400</caption>\n",
       "<thead>\n",
       "\t<tr><th></th><th scope=col>CA1</th><th scope=col>ICAM1</th><th scope=col>CHL1</th><th scope=col>TGFBI</th><th scope=col>ENG</th><th scope=col>PLTP</th><th scope=col>SERPINA7</th><th scope=col>IGFBP3</th><th scope=col>CR2</th><th scope=col>SERPINA5</th><th scope=col>⋯</th><th scope=col>IL3RA</th><th scope=col>KIF1BP</th><th scope=col>PPP3R1</th><th scope=col>ILKAP</th><th scope=col>ISLR2</th><th scope=col>PMVK</th><th scope=col>WWP2</th><th scope=col>FKBP5</th><th scope=col>GGT5</th><th scope=col>CD63</th></tr>\n",
       "\t<tr><th></th><th scope=col>&lt;dbl&gt;</th><th scope=col>&lt;dbl&gt;</th><th scope=col>&lt;dbl&gt;</th><th scope=col>&lt;dbl&gt;</th><th scope=col>&lt;dbl&gt;</th><th scope=col>&lt;dbl&gt;</th><th scope=col>&lt;dbl&gt;</th><th scope=col>&lt;dbl&gt;</th><th scope=col>&lt;dbl&gt;</th><th scope=col>&lt;dbl&gt;</th><th scope=col>⋯</th><th scope=col>&lt;dbl&gt;</th><th scope=col>&lt;dbl&gt;</th><th scope=col>&lt;dbl&gt;</th><th scope=col>&lt;dbl&gt;</th><th scope=col>&lt;dbl&gt;</th><th scope=col>&lt;dbl&gt;</th><th scope=col>&lt;dbl&gt;</th><th scope=col>&lt;dbl&gt;</th><th scope=col>&lt;dbl&gt;</th><th scope=col>&lt;dbl&gt;</th></tr>\n",
       "</thead>\n",
       "<tbody>\n",
       "\t<tr><th scope=row>H0529.3</th><td>7.62107</td><td>6.79971</td><td>4.73174</td><td> 9.33471</td><td>3.12445</td><td>2.76119</td><td>5.28013</td><td>5.53985</td><td>5.83288</td><td>7.62461</td><td>⋯</td><td>2.72481</td><td>6.58000</td><td>5.53125</td><td>3.33948</td><td>2.68846</td><td>8.83322</td><td>6.87415</td><td>7.43915</td><td>3.41649</td><td>6.82437</td></tr>\n",
       "\t<tr><th scope=row>H0441.1</th><td>6.96085</td><td>6.98459</td><td>4.31338</td><td> 9.06819</td><td>3.31576</td><td>2.58493</td><td>5.36719</td><td>5.22006</td><td>6.54894</td><td>7.85164</td><td>⋯</td><td>3.01428</td><td>6.13380</td><td>5.56465</td><td>3.18228</td><td>2.89130</td><td>8.98208</td><td>6.31876</td><td>6.63522</td><td>3.62379</td><td>6.37066</td></tr>\n",
       "\t<tr><th scope=row>H0558.3</th><td>7.16983</td><td>7.04907</td><td>4.72713</td><td> 8.92804</td><td>3.16308</td><td>2.84642</td><td>5.56897</td><td>5.28240</td><td>7.06695</td><td>7.56996</td><td>⋯</td><td>2.60958</td><td>5.39832</td><td>5.02634</td><td>2.95021</td><td>2.61699</td><td>7.80989</td><td>5.82366</td><td>6.54346</td><td>3.91271</td><td>5.68429</td></tr>\n",
       "\t<tr><th scope=row>H0499.2</th><td>7.59577</td><td>6.80282</td><td>4.51559</td><td> 9.17979</td><td>3.19292</td><td>2.71104</td><td>5.54439</td><td>5.72146</td><td>6.77939</td><td>8.34760</td><td>⋯</td><td>3.02522</td><td>6.03356</td><td>5.17391</td><td>3.27962</td><td>6.21488</td><td>8.65480</td><td>6.96169</td><td>6.80551</td><td>3.16607</td><td>6.46900</td></tr>\n",
       "\t<tr><th scope=row>H0468.3</th><td>7.25945</td><td>6.91728</td><td>4.84307</td><td> 9.91809</td><td>3.47692</td><td>3.01978</td><td>5.65406</td><td>5.54186</td><td>6.06626</td><td>8.20922</td><td>⋯</td><td>2.26329</td><td>5.23342</td><td>4.91143</td><td>2.10269</td><td>2.55051</td><td>7.94390</td><td>5.32065</td><td>6.48469</td><td>3.22015</td><td>5.99774</td></tr>\n",
       "\t<tr><th scope=row>H0348.1</th><td>7.26665</td><td>7.54874</td><td>4.73500</td><td>10.14874</td><td>3.45586</td><td>2.65961</td><td>5.73624</td><td>5.65758</td><td>6.76388</td><td>8.87777</td><td>⋯</td><td>2.84494</td><td>6.04939</td><td>5.36281</td><td>2.90052</td><td>2.66707</td><td>8.81831</td><td>6.62835</td><td>6.37172</td><td>3.63646</td><td>6.68152</td></tr>\n",
       "</tbody>\n",
       "</table>\n"
      ],
      "text/latex": [
       "A data.frame: 6 × 400\n",
       "\\begin{tabular}{r|lllllllllllllllllllll}\n",
       "  & CA1 & ICAM1 & CHL1 & TGFBI & ENG & PLTP & SERPINA7 & IGFBP3 & CR2 & SERPINA5 & ⋯ & IL3RA & KIF1BP & PPP3R1 & ILKAP & ISLR2 & PMVK & WWP2 & FKBP5 & GGT5 & CD63\\\\\n",
       "  & <dbl> & <dbl> & <dbl> & <dbl> & <dbl> & <dbl> & <dbl> & <dbl> & <dbl> & <dbl> & ⋯ & <dbl> & <dbl> & <dbl> & <dbl> & <dbl> & <dbl> & <dbl> & <dbl> & <dbl> & <dbl>\\\\\n",
       "\\hline\n",
       "\tH0529.3 & 7.62107 & 6.79971 & 4.73174 &  9.33471 & 3.12445 & 2.76119 & 5.28013 & 5.53985 & 5.83288 & 7.62461 & ⋯ & 2.72481 & 6.58000 & 5.53125 & 3.33948 & 2.68846 & 8.83322 & 6.87415 & 7.43915 & 3.41649 & 6.82437\\\\\n",
       "\tH0441.1 & 6.96085 & 6.98459 & 4.31338 &  9.06819 & 3.31576 & 2.58493 & 5.36719 & 5.22006 & 6.54894 & 7.85164 & ⋯ & 3.01428 & 6.13380 & 5.56465 & 3.18228 & 2.89130 & 8.98208 & 6.31876 & 6.63522 & 3.62379 & 6.37066\\\\\n",
       "\tH0558.3 & 7.16983 & 7.04907 & 4.72713 &  8.92804 & 3.16308 & 2.84642 & 5.56897 & 5.28240 & 7.06695 & 7.56996 & ⋯ & 2.60958 & 5.39832 & 5.02634 & 2.95021 & 2.61699 & 7.80989 & 5.82366 & 6.54346 & 3.91271 & 5.68429\\\\\n",
       "\tH0499.2 & 7.59577 & 6.80282 & 4.51559 &  9.17979 & 3.19292 & 2.71104 & 5.54439 & 5.72146 & 6.77939 & 8.34760 & ⋯ & 3.02522 & 6.03356 & 5.17391 & 3.27962 & 6.21488 & 8.65480 & 6.96169 & 6.80551 & 3.16607 & 6.46900\\\\\n",
       "\tH0468.3 & 7.25945 & 6.91728 & 4.84307 &  9.91809 & 3.47692 & 3.01978 & 5.65406 & 5.54186 & 6.06626 & 8.20922 & ⋯ & 2.26329 & 5.23342 & 4.91143 & 2.10269 & 2.55051 & 7.94390 & 5.32065 & 6.48469 & 3.22015 & 5.99774\\\\\n",
       "\tH0348.1 & 7.26665 & 7.54874 & 4.73500 & 10.14874 & 3.45586 & 2.65961 & 5.73624 & 5.65758 & 6.76388 & 8.87777 & ⋯ & 2.84494 & 6.04939 & 5.36281 & 2.90052 & 2.66707 & 8.81831 & 6.62835 & 6.37172 & 3.63646 & 6.68152\\\\\n",
       "\\end{tabular}\n"
      ],
      "text/markdown": [
       "\n",
       "A data.frame: 6 × 400\n",
       "\n",
       "| <!--/--> | CA1 &lt;dbl&gt; | ICAM1 &lt;dbl&gt; | CHL1 &lt;dbl&gt; | TGFBI &lt;dbl&gt; | ENG &lt;dbl&gt; | PLTP &lt;dbl&gt; | SERPINA7 &lt;dbl&gt; | IGFBP3 &lt;dbl&gt; | CR2 &lt;dbl&gt; | SERPINA5 &lt;dbl&gt; | ⋯ ⋯ | IL3RA &lt;dbl&gt; | KIF1BP &lt;dbl&gt; | PPP3R1 &lt;dbl&gt; | ILKAP &lt;dbl&gt; | ISLR2 &lt;dbl&gt; | PMVK &lt;dbl&gt; | WWP2 &lt;dbl&gt; | FKBP5 &lt;dbl&gt; | GGT5 &lt;dbl&gt; | CD63 &lt;dbl&gt; |\n",
       "|---|---|---|---|---|---|---|---|---|---|---|---|---|---|---|---|---|---|---|---|---|---|\n",
       "| H0529.3 | 7.62107 | 6.79971 | 4.73174 |  9.33471 | 3.12445 | 2.76119 | 5.28013 | 5.53985 | 5.83288 | 7.62461 | ⋯ | 2.72481 | 6.58000 | 5.53125 | 3.33948 | 2.68846 | 8.83322 | 6.87415 | 7.43915 | 3.41649 | 6.82437 |\n",
       "| H0441.1 | 6.96085 | 6.98459 | 4.31338 |  9.06819 | 3.31576 | 2.58493 | 5.36719 | 5.22006 | 6.54894 | 7.85164 | ⋯ | 3.01428 | 6.13380 | 5.56465 | 3.18228 | 2.89130 | 8.98208 | 6.31876 | 6.63522 | 3.62379 | 6.37066 |\n",
       "| H0558.3 | 7.16983 | 7.04907 | 4.72713 |  8.92804 | 3.16308 | 2.84642 | 5.56897 | 5.28240 | 7.06695 | 7.56996 | ⋯ | 2.60958 | 5.39832 | 5.02634 | 2.95021 | 2.61699 | 7.80989 | 5.82366 | 6.54346 | 3.91271 | 5.68429 |\n",
       "| H0499.2 | 7.59577 | 6.80282 | 4.51559 |  9.17979 | 3.19292 | 2.71104 | 5.54439 | 5.72146 | 6.77939 | 8.34760 | ⋯ | 3.02522 | 6.03356 | 5.17391 | 3.27962 | 6.21488 | 8.65480 | 6.96169 | 6.80551 | 3.16607 | 6.46900 |\n",
       "| H0468.3 | 7.25945 | 6.91728 | 4.84307 |  9.91809 | 3.47692 | 3.01978 | 5.65406 | 5.54186 | 6.06626 | 8.20922 | ⋯ | 2.26329 | 5.23342 | 4.91143 | 2.10269 | 2.55051 | 7.94390 | 5.32065 | 6.48469 | 3.22015 | 5.99774 |\n",
       "| H0348.1 | 7.26665 | 7.54874 | 4.73500 | 10.14874 | 3.45586 | 2.65961 | 5.73624 | 5.65758 | 6.76388 | 8.87777 | ⋯ | 2.84494 | 6.04939 | 5.36281 | 2.90052 | 2.66707 | 8.81831 | 6.62835 | 6.37172 | 3.63646 | 6.68152 |\n",
       "\n"
      ],
      "text/plain": [
       "        CA1     ICAM1   CHL1    TGFBI    ENG     PLTP    SERPINA7 IGFBP3 \n",
       "H0529.3 7.62107 6.79971 4.73174  9.33471 3.12445 2.76119 5.28013  5.53985\n",
       "H0441.1 6.96085 6.98459 4.31338  9.06819 3.31576 2.58493 5.36719  5.22006\n",
       "H0558.3 7.16983 7.04907 4.72713  8.92804 3.16308 2.84642 5.56897  5.28240\n",
       "H0499.2 7.59577 6.80282 4.51559  9.17979 3.19292 2.71104 5.54439  5.72146\n",
       "H0468.3 7.25945 6.91728 4.84307  9.91809 3.47692 3.01978 5.65406  5.54186\n",
       "H0348.1 7.26665 7.54874 4.73500 10.14874 3.45586 2.65961 5.73624  5.65758\n",
       "        CR2     SERPINA5 ⋯ IL3RA   KIF1BP  PPP3R1  ILKAP   ISLR2   PMVK   \n",
       "H0529.3 5.83288 7.62461  ⋯ 2.72481 6.58000 5.53125 3.33948 2.68846 8.83322\n",
       "H0441.1 6.54894 7.85164  ⋯ 3.01428 6.13380 5.56465 3.18228 2.89130 8.98208\n",
       "H0558.3 7.06695 7.56996  ⋯ 2.60958 5.39832 5.02634 2.95021 2.61699 7.80989\n",
       "H0499.2 6.77939 8.34760  ⋯ 3.02522 6.03356 5.17391 3.27962 6.21488 8.65480\n",
       "H0468.3 6.06626 8.20922  ⋯ 2.26329 5.23342 4.91143 2.10269 2.55051 7.94390\n",
       "H0348.1 6.76388 8.87777  ⋯ 2.84494 6.04939 5.36281 2.90052 2.66707 8.81831\n",
       "        WWP2    FKBP5   GGT5    CD63   \n",
       "H0529.3 6.87415 7.43915 3.41649 6.82437\n",
       "H0441.1 6.31876 6.63522 3.62379 6.37066\n",
       "H0558.3 5.82366 6.54346 3.91271 5.68429\n",
       "H0499.2 6.96169 6.80551 3.16607 6.46900\n",
       "H0468.3 5.32065 6.48469 3.22015 5.99774\n",
       "H0348.1 6.62835 6.37172 3.63646 6.68152"
      ]
     },
     "metadata": {},
     "output_type": "display_data"
    }
   ],
   "source": [
    "colnames(npx_df)[1:5]\n",
    "dim(npx_df)\n",
    "head(npx_df)"
   ]
  },
  {
   "cell_type": "code",
   "execution_count": 9,
   "id": "1268ee74",
   "metadata": {
    "vscode": {
     "languageId": "r"
    }
   },
   "outputs": [
    {
     "data": {
      "text/html": [
       "<style>\n",
       ".list-inline {list-style: none; margin:0; padding: 0}\n",
       ".list-inline>li {display: inline-block}\n",
       ".list-inline>li:not(:last-child)::after {content: \"\\00b7\"; padding: 0 .5ex}\n",
       "</style>\n",
       "<ol class=list-inline><li>'Plasma_Sample'</li><li>'PIDN'</li><li>'Age_at_Baseline'</li><li>'Sex'</li><li>'Outcome'</li></ol>\n"
      ],
      "text/latex": [
       "\\begin{enumerate*}\n",
       "\\item 'Plasma\\_Sample'\n",
       "\\item 'PIDN'\n",
       "\\item 'Age\\_at\\_Baseline'\n",
       "\\item 'Sex'\n",
       "\\item 'Outcome'\n",
       "\\end{enumerate*}\n"
      ],
      "text/markdown": [
       "1. 'Plasma_Sample'\n",
       "2. 'PIDN'\n",
       "3. 'Age_at_Baseline'\n",
       "4. 'Sex'\n",
       "5. 'Outcome'\n",
       "\n",
       "\n"
      ],
      "text/plain": [
       "[1] \"Plasma_Sample\"   \"PIDN\"            \"Age_at_Baseline\" \"Sex\"            \n",
       "[5] \"Outcome\"        "
      ]
     },
     "metadata": {},
     "output_type": "display_data"
    },
    {
     "data": {
      "text/html": [
       "<style>\n",
       ".list-inline {list-style: none; margin:0; padding: 0}\n",
       ".list-inline>li {display: inline-block}\n",
       ".list-inline>li:not(:last-child)::after {content: \"\\00b7\"; padding: 0 .5ex}\n",
       "</style>\n",
       "<ol class=list-inline><li>59</li><li>5</li></ol>\n"
      ],
      "text/latex": [
       "\\begin{enumerate*}\n",
       "\\item 59\n",
       "\\item 5\n",
       "\\end{enumerate*}\n"
      ],
      "text/markdown": [
       "1. 59\n",
       "2. 5\n",
       "\n",
       "\n"
      ],
      "text/plain": [
       "[1] 59  5"
      ]
     },
     "metadata": {},
     "output_type": "display_data"
    },
    {
     "data": {
      "text/html": [
       "<table class=\"dataframe\">\n",
       "<caption>A tibble: 6 × 5</caption>\n",
       "<thead>\n",
       "\t<tr><th scope=col>Plasma_Sample</th><th scope=col>PIDN</th><th scope=col>Age_at_Baseline</th><th scope=col>Sex</th><th scope=col>Outcome</th></tr>\n",
       "\t<tr><th scope=col>&lt;chr&gt;</th><th scope=col>&lt;dbl&gt;</th><th scope=col>&lt;chr&gt;</th><th scope=col>&lt;chr&gt;</th><th scope=col>&lt;chr&gt;</th></tr>\n",
       "</thead>\n",
       "<tbody>\n",
       "\t<tr><td>H0529.3</td><td>9677</td><td>90+</td><td>Male  </td><td>MCI_Decline_AD</td></tr>\n",
       "\t<tr><td>H0441.1</td><td>9974</td><td>90+</td><td>Female</td><td>MCI_Stable_AD </td></tr>\n",
       "\t<tr><td>H0558.3</td><td>9681</td><td>90+</td><td>Female</td><td>MCI_Decline_AD</td></tr>\n",
       "\t<tr><td>H0499.2</td><td>9502</td><td>88 </td><td>Male  </td><td>MCI_Stable_AD </td></tr>\n",
       "\t<tr><td>H0468.3</td><td>9635</td><td>87 </td><td>Female</td><td>MCI_Stable_AD </td></tr>\n",
       "\t<tr><td>H0348.1</td><td>9571</td><td>86 </td><td>Male  </td><td>MCI_Decline_AD</td></tr>\n",
       "</tbody>\n",
       "</table>\n"
      ],
      "text/latex": [
       "A tibble: 6 × 5\n",
       "\\begin{tabular}{lllll}\n",
       " Plasma\\_Sample & PIDN & Age\\_at\\_Baseline & Sex & Outcome\\\\\n",
       " <chr> & <dbl> & <chr> & <chr> & <chr>\\\\\n",
       "\\hline\n",
       "\t H0529.3 & 9677 & 90+ & Male   & MCI\\_Decline\\_AD\\\\\n",
       "\t H0441.1 & 9974 & 90+ & Female & MCI\\_Stable\\_AD \\\\\n",
       "\t H0558.3 & 9681 & 90+ & Female & MCI\\_Decline\\_AD\\\\\n",
       "\t H0499.2 & 9502 & 88  & Male   & MCI\\_Stable\\_AD \\\\\n",
       "\t H0468.3 & 9635 & 87  & Female & MCI\\_Stable\\_AD \\\\\n",
       "\t H0348.1 & 9571 & 86  & Male   & MCI\\_Decline\\_AD\\\\\n",
       "\\end{tabular}\n"
      ],
      "text/markdown": [
       "\n",
       "A tibble: 6 × 5\n",
       "\n",
       "| Plasma_Sample &lt;chr&gt; | PIDN &lt;dbl&gt; | Age_at_Baseline &lt;chr&gt; | Sex &lt;chr&gt; | Outcome &lt;chr&gt; |\n",
       "|---|---|---|---|---|\n",
       "| H0529.3 | 9677 | 90+ | Male   | MCI_Decline_AD |\n",
       "| H0441.1 | 9974 | 90+ | Female | MCI_Stable_AD  |\n",
       "| H0558.3 | 9681 | 90+ | Female | MCI_Decline_AD |\n",
       "| H0499.2 | 9502 | 88  | Male   | MCI_Stable_AD  |\n",
       "| H0468.3 | 9635 | 87  | Female | MCI_Stable_AD  |\n",
       "| H0348.1 | 9571 | 86  | Male   | MCI_Decline_AD |\n",
       "\n"
      ],
      "text/plain": [
       "  Plasma_Sample PIDN Age_at_Baseline Sex    Outcome       \n",
       "1 H0529.3       9677 90+             Male   MCI_Decline_AD\n",
       "2 H0441.1       9974 90+             Female MCI_Stable_AD \n",
       "3 H0558.3       9681 90+             Female MCI_Decline_AD\n",
       "4 H0499.2       9502 88              Male   MCI_Stable_AD \n",
       "5 H0468.3       9635 87              Female MCI_Stable_AD \n",
       "6 H0348.1       9571 86              Male   MCI_Decline_AD"
      ]
     },
     "metadata": {},
     "output_type": "display_data"
    }
   ],
   "source": [
    "colnames(pheno_df)\n",
    "dim(pheno_df)\n",
    "head(pheno_df)"
   ]
  },
  {
   "cell_type": "markdown",
   "id": "cdbdb3d1",
   "metadata": {},
   "source": [
    "## 4. Format data\n",
    "\n",
    "These formating steps are specific to this test case\n",
    "\n",
    "For our phenotype data we will replace \"90+\" with \"90\" so this can be a continuous variable for our downstream differential expression analysis\n",
    "\n",
    "For expression data, we will format protein names to be consistent to allow us to compare publication findings and what R generated since \"-\" were replaced with \"\" or \".\". Additionally some of the protein names are mapped to gene symbols\n",
    "\n",
    "Note: Couldn't find mapping for TNF-alpha"
   ]
  },
  {
   "cell_type": "code",
   "execution_count": 10,
   "id": "74364646",
   "metadata": {
    "vscode": {
     "languageId": "r"
    }
   },
   "outputs": [],
   "source": [
    "# Make age continuous values\n",
    "pheno_df[pheno_df[,\"Age_at_Baseline\"] == \"90+\", \"Age_at_Baseline\"] <- \"90\""
   ]
  },
  {
   "cell_type": "code",
   "execution_count": 11,
   "id": "34a3f061",
   "metadata": {
    "vscode": {
     "languageId": "r"
    }
   },
   "outputs": [
    {
     "data": {
      "text/html": [
       "<table class=\"dataframe\">\n",
       "<caption>A tibble: 6 × 5</caption>\n",
       "<thead>\n",
       "\t<tr><th scope=col>Plasma_Sample</th><th scope=col>PIDN</th><th scope=col>Age_at_Baseline</th><th scope=col>Sex</th><th scope=col>Outcome</th></tr>\n",
       "\t<tr><th scope=col>&lt;chr&gt;</th><th scope=col>&lt;dbl&gt;</th><th scope=col>&lt;chr&gt;</th><th scope=col>&lt;chr&gt;</th><th scope=col>&lt;chr&gt;</th></tr>\n",
       "</thead>\n",
       "<tbody>\n",
       "\t<tr><td>H0529.3</td><td>9677</td><td>90</td><td>Male  </td><td>MCI_Decline_AD</td></tr>\n",
       "\t<tr><td>H0441.1</td><td>9974</td><td>90</td><td>Female</td><td>MCI_Stable_AD </td></tr>\n",
       "\t<tr><td>H0558.3</td><td>9681</td><td>90</td><td>Female</td><td>MCI_Decline_AD</td></tr>\n",
       "\t<tr><td>H0499.2</td><td>9502</td><td>88</td><td>Male  </td><td>MCI_Stable_AD </td></tr>\n",
       "\t<tr><td>H0468.3</td><td>9635</td><td>87</td><td>Female</td><td>MCI_Stable_AD </td></tr>\n",
       "\t<tr><td>H0348.1</td><td>9571</td><td>86</td><td>Male  </td><td>MCI_Decline_AD</td></tr>\n",
       "</tbody>\n",
       "</table>\n"
      ],
      "text/latex": [
       "A tibble: 6 × 5\n",
       "\\begin{tabular}{lllll}\n",
       " Plasma\\_Sample & PIDN & Age\\_at\\_Baseline & Sex & Outcome\\\\\n",
       " <chr> & <dbl> & <chr> & <chr> & <chr>\\\\\n",
       "\\hline\n",
       "\t H0529.3 & 9677 & 90 & Male   & MCI\\_Decline\\_AD\\\\\n",
       "\t H0441.1 & 9974 & 90 & Female & MCI\\_Stable\\_AD \\\\\n",
       "\t H0558.3 & 9681 & 90 & Female & MCI\\_Decline\\_AD\\\\\n",
       "\t H0499.2 & 9502 & 88 & Male   & MCI\\_Stable\\_AD \\\\\n",
       "\t H0468.3 & 9635 & 87 & Female & MCI\\_Stable\\_AD \\\\\n",
       "\t H0348.1 & 9571 & 86 & Male   & MCI\\_Decline\\_AD\\\\\n",
       "\\end{tabular}\n"
      ],
      "text/markdown": [
       "\n",
       "A tibble: 6 × 5\n",
       "\n",
       "| Plasma_Sample &lt;chr&gt; | PIDN &lt;dbl&gt; | Age_at_Baseline &lt;chr&gt; | Sex &lt;chr&gt; | Outcome &lt;chr&gt; |\n",
       "|---|---|---|---|---|\n",
       "| H0529.3 | 9677 | 90 | Male   | MCI_Decline_AD |\n",
       "| H0441.1 | 9974 | 90 | Female | MCI_Stable_AD  |\n",
       "| H0558.3 | 9681 | 90 | Female | MCI_Decline_AD |\n",
       "| H0499.2 | 9502 | 88 | Male   | MCI_Stable_AD  |\n",
       "| H0468.3 | 9635 | 87 | Female | MCI_Stable_AD  |\n",
       "| H0348.1 | 9571 | 86 | Male   | MCI_Decline_AD |\n",
       "\n"
      ],
      "text/plain": [
       "  Plasma_Sample PIDN Age_at_Baseline Sex    Outcome       \n",
       "1 H0529.3       9677 90              Male   MCI_Decline_AD\n",
       "2 H0441.1       9974 90              Female MCI_Stable_AD \n",
       "3 H0558.3       9681 90              Female MCI_Decline_AD\n",
       "4 H0499.2       9502 88              Male   MCI_Stable_AD \n",
       "5 H0468.3       9635 87              Female MCI_Stable_AD \n",
       "6 H0348.1       9571 86              Male   MCI_Decline_AD"
      ]
     },
     "metadata": {},
     "output_type": "display_data"
    }
   ],
   "source": [
    "head(pheno_df)"
   ]
  },
  {
   "cell_type": "code",
   "execution_count": 12,
   "id": "90083bff",
   "metadata": {
    "vscode": {
     "languageId": "r"
    }
   },
   "outputs": [],
   "source": [
    "lookup <- c(\n",
    "    \"NF-L\" = \"NEFL\",\n",
    "    \"IL-8\" = \"IL8\",\n",
    "    \"VEGF-A\" = \"VEGFA\",\n",
    "    \"MMP-3\" = \"MMP.3\",\n",
    "    \"TIMP-4\" = \"TIMP4\",\n",
    "    \"CSF-1\" = \"CSF.1\",\n",
    "    \"HO-1\" = \"HO.1\",\n",
    "    \"MCP-1\" = \"MCP.1\",\n",
    "    \"FGF-21\" = \"FGF.21\",\n",
    "    \"HL-1\" = \"ASGR1\",\n",
    "    \"TNF-R1\" = \"TNF.R1\",\n",
    "    \"TGF-alpha\" = \"TGF.alpha\",\n",
    "    \"IGFBP-2\" = \"IGFBP.2\",\n",
    "    \"MMP-7\" = \"MMP7\",\n",
    "    \"SIRL-1\" = \"VSTM1\",\n",
    "    \"PD-L1\" = \"PD.L1\",\n",
    "    \"GDF-15\" = \"GDF.15\",\n",
    "    \"IL-17A\" = \"IL.17A\",\n",
    "    \"Gal-1\" = \"Gal.1\",\n",
    "    \"FKBP-7\" = \"FKBP7\")"
   ]
  },
  {
   "cell_type": "code",
   "execution_count": 13,
   "id": "de949b13",
   "metadata": {
    "vscode": {
     "languageId": "r"
    }
   },
   "outputs": [],
   "source": [
    "npx_df <- rename(npx_df, all_of(lookup))"
   ]
  },
  {
   "cell_type": "markdown",
   "id": "cca83437",
   "metadata": {},
   "source": [
    "## 5. Run Limma"
   ]
  },
  {
   "cell_type": "code",
   "execution_count": 14,
   "id": "9bc75876",
   "metadata": {
    "scrolled": true,
    "vscode": {
     "languageId": "r"
    }
   },
   "outputs": [],
   "source": [
    "# Sort counts by sample order in phenotype\n",
    "sample_id <- pheno_df %>% pull(Plasma_Sample)\n",
    "npx_df <- npx_df[sample_id, ]"
   ]
  },
  {
   "cell_type": "code",
   "execution_count": 15,
   "id": "e190030a",
   "metadata": {
    "vscode": {
     "languageId": "r"
    }
   },
   "outputs": [
    {
     "data": {
      "text/html": [
       "<style>\n",
       ".list-inline {list-style: none; margin:0; padding: 0}\n",
       ".list-inline>li {display: inline-block}\n",
       ".list-inline>li:not(:last-child)::after {content: \"\\00b7\"; padding: 0 .5ex}\n",
       "</style>\n",
       "<ol class=list-inline><li>'H0529.3'</li><li>'H0441.1'</li><li>'H0558.3'</li><li>'H0499.2'</li><li>'H0468.3'</li><li>'H0348.1'</li><li>'H0381.2'</li><li>'H0008.3'</li><li>'H0132.1'</li><li>'H0190.2'</li><li>'H0423.1'</li><li>'H0819.1'</li><li>'H0102.1'</li><li>'H0278.1'</li><li>'H0335.1'</li><li>'H0366.1'</li><li>'H0140.1'</li><li>'H0202.1'</li><li>'H0461.3'</li><li>'H0760.1'</li><li>'H0168.2'</li><li>'H0118.1'</li><li>'H0167.1'</li><li>'H0708.3'</li><li>'H0602.2'</li><li>'H0722.1'</li><li>'H0061.1'</li><li>'H0377.3'</li><li>'H0401.1'</li><li>'H0425.1'</li><li>'H0469.1'</li><li>'H0850.3'</li><li>'H0126.1'</li><li>'H0548.1'</li><li>'H0221.1'</li><li>'H0233.3'</li><li>'H0347.1'</li><li>'H0804.1'</li><li>'H0613.1'</li><li>'H0002.1'</li><li>'H0407.1'</li><li>'H0626.1'</li><li>'H0775.1'</li><li>'H0798.1'</li><li>'H0059.1'</li><li>'H0143.1'</li><li>'H0559.1'</li><li>'H0145.1'</li><li>'H2031.1'</li><li>'H0866.1'</li><li>'H0442.2'</li><li>'H0868.1'</li><li>'H2012.1'</li><li>'H0522.1'</li><li>'H0730.1'</li><li>'H0860.1'</li><li>'H0978.1'</li><li>'H0225.1'</li><li>'H0981.2'</li></ol>\n"
      ],
      "text/latex": [
       "\\begin{enumerate*}\n",
       "\\item 'H0529.3'\n",
       "\\item 'H0441.1'\n",
       "\\item 'H0558.3'\n",
       "\\item 'H0499.2'\n",
       "\\item 'H0468.3'\n",
       "\\item 'H0348.1'\n",
       "\\item 'H0381.2'\n",
       "\\item 'H0008.3'\n",
       "\\item 'H0132.1'\n",
       "\\item 'H0190.2'\n",
       "\\item 'H0423.1'\n",
       "\\item 'H0819.1'\n",
       "\\item 'H0102.1'\n",
       "\\item 'H0278.1'\n",
       "\\item 'H0335.1'\n",
       "\\item 'H0366.1'\n",
       "\\item 'H0140.1'\n",
       "\\item 'H0202.1'\n",
       "\\item 'H0461.3'\n",
       "\\item 'H0760.1'\n",
       "\\item 'H0168.2'\n",
       "\\item 'H0118.1'\n",
       "\\item 'H0167.1'\n",
       "\\item 'H0708.3'\n",
       "\\item 'H0602.2'\n",
       "\\item 'H0722.1'\n",
       "\\item 'H0061.1'\n",
       "\\item 'H0377.3'\n",
       "\\item 'H0401.1'\n",
       "\\item 'H0425.1'\n",
       "\\item 'H0469.1'\n",
       "\\item 'H0850.3'\n",
       "\\item 'H0126.1'\n",
       "\\item 'H0548.1'\n",
       "\\item 'H0221.1'\n",
       "\\item 'H0233.3'\n",
       "\\item 'H0347.1'\n",
       "\\item 'H0804.1'\n",
       "\\item 'H0613.1'\n",
       "\\item 'H0002.1'\n",
       "\\item 'H0407.1'\n",
       "\\item 'H0626.1'\n",
       "\\item 'H0775.1'\n",
       "\\item 'H0798.1'\n",
       "\\item 'H0059.1'\n",
       "\\item 'H0143.1'\n",
       "\\item 'H0559.1'\n",
       "\\item 'H0145.1'\n",
       "\\item 'H2031.1'\n",
       "\\item 'H0866.1'\n",
       "\\item 'H0442.2'\n",
       "\\item 'H0868.1'\n",
       "\\item 'H2012.1'\n",
       "\\item 'H0522.1'\n",
       "\\item 'H0730.1'\n",
       "\\item 'H0860.1'\n",
       "\\item 'H0978.1'\n",
       "\\item 'H0225.1'\n",
       "\\item 'H0981.2'\n",
       "\\end{enumerate*}\n"
      ],
      "text/markdown": [
       "1. 'H0529.3'\n",
       "2. 'H0441.1'\n",
       "3. 'H0558.3'\n",
       "4. 'H0499.2'\n",
       "5. 'H0468.3'\n",
       "6. 'H0348.1'\n",
       "7. 'H0381.2'\n",
       "8. 'H0008.3'\n",
       "9. 'H0132.1'\n",
       "10. 'H0190.2'\n",
       "11. 'H0423.1'\n",
       "12. 'H0819.1'\n",
       "13. 'H0102.1'\n",
       "14. 'H0278.1'\n",
       "15. 'H0335.1'\n",
       "16. 'H0366.1'\n",
       "17. 'H0140.1'\n",
       "18. 'H0202.1'\n",
       "19. 'H0461.3'\n",
       "20. 'H0760.1'\n",
       "21. 'H0168.2'\n",
       "22. 'H0118.1'\n",
       "23. 'H0167.1'\n",
       "24. 'H0708.3'\n",
       "25. 'H0602.2'\n",
       "26. 'H0722.1'\n",
       "27. 'H0061.1'\n",
       "28. 'H0377.3'\n",
       "29. 'H0401.1'\n",
       "30. 'H0425.1'\n",
       "31. 'H0469.1'\n",
       "32. 'H0850.3'\n",
       "33. 'H0126.1'\n",
       "34. 'H0548.1'\n",
       "35. 'H0221.1'\n",
       "36. 'H0233.3'\n",
       "37. 'H0347.1'\n",
       "38. 'H0804.1'\n",
       "39. 'H0613.1'\n",
       "40. 'H0002.1'\n",
       "41. 'H0407.1'\n",
       "42. 'H0626.1'\n",
       "43. 'H0775.1'\n",
       "44. 'H0798.1'\n",
       "45. 'H0059.1'\n",
       "46. 'H0143.1'\n",
       "47. 'H0559.1'\n",
       "48. 'H0145.1'\n",
       "49. 'H2031.1'\n",
       "50. 'H0866.1'\n",
       "51. 'H0442.2'\n",
       "52. 'H0868.1'\n",
       "53. 'H2012.1'\n",
       "54. 'H0522.1'\n",
       "55. 'H0730.1'\n",
       "56. 'H0860.1'\n",
       "57. 'H0978.1'\n",
       "58. 'H0225.1'\n",
       "59. 'H0981.2'\n",
       "\n",
       "\n"
      ],
      "text/plain": [
       " [1] \"H0529.3\" \"H0441.1\" \"H0558.3\" \"H0499.2\" \"H0468.3\" \"H0348.1\" \"H0381.2\"\n",
       " [8] \"H0008.3\" \"H0132.1\" \"H0190.2\" \"H0423.1\" \"H0819.1\" \"H0102.1\" \"H0278.1\"\n",
       "[15] \"H0335.1\" \"H0366.1\" \"H0140.1\" \"H0202.1\" \"H0461.3\" \"H0760.1\" \"H0168.2\"\n",
       "[22] \"H0118.1\" \"H0167.1\" \"H0708.3\" \"H0602.2\" \"H0722.1\" \"H0061.1\" \"H0377.3\"\n",
       "[29] \"H0401.1\" \"H0425.1\" \"H0469.1\" \"H0850.3\" \"H0126.1\" \"H0548.1\" \"H0221.1\"\n",
       "[36] \"H0233.3\" \"H0347.1\" \"H0804.1\" \"H0613.1\" \"H0002.1\" \"H0407.1\" \"H0626.1\"\n",
       "[43] \"H0775.1\" \"H0798.1\" \"H0059.1\" \"H0143.1\" \"H0559.1\" \"H0145.1\" \"H2031.1\"\n",
       "[50] \"H0866.1\" \"H0442.2\" \"H0868.1\" \"H2012.1\" \"H0522.1\" \"H0730.1\" \"H0860.1\"\n",
       "[57] \"H0978.1\" \"H0225.1\" \"H0981.2\""
      ]
     },
     "metadata": {},
     "output_type": "display_data"
    }
   ],
   "source": [
    "sample_id"
   ]
  },
  {
   "cell_type": "code",
   "execution_count": 16,
   "id": "bdd2d077",
   "metadata": {
    "vscode": {
     "languageId": "r"
    }
   },
   "outputs": [
    {
     "data": {
      "text/html": [
       "<table class=\"dataframe\">\n",
       "<caption>A data.frame: 6 × 400</caption>\n",
       "<thead>\n",
       "\t<tr><th></th><th scope=col>CA1</th><th scope=col>ICAM1</th><th scope=col>CHL1</th><th scope=col>TGFBI</th><th scope=col>ENG</th><th scope=col>PLTP</th><th scope=col>SERPINA7</th><th scope=col>IGFBP3</th><th scope=col>CR2</th><th scope=col>SERPINA5</th><th scope=col>⋯</th><th scope=col>IL3RA</th><th scope=col>KIF1BP</th><th scope=col>PPP3R1</th><th scope=col>ILKAP</th><th scope=col>ISLR2</th><th scope=col>PMVK</th><th scope=col>WWP2</th><th scope=col>FKBP5</th><th scope=col>GGT5</th><th scope=col>CD63</th></tr>\n",
       "\t<tr><th></th><th scope=col>&lt;dbl&gt;</th><th scope=col>&lt;dbl&gt;</th><th scope=col>&lt;dbl&gt;</th><th scope=col>&lt;dbl&gt;</th><th scope=col>&lt;dbl&gt;</th><th scope=col>&lt;dbl&gt;</th><th scope=col>&lt;dbl&gt;</th><th scope=col>&lt;dbl&gt;</th><th scope=col>&lt;dbl&gt;</th><th scope=col>&lt;dbl&gt;</th><th scope=col>⋯</th><th scope=col>&lt;dbl&gt;</th><th scope=col>&lt;dbl&gt;</th><th scope=col>&lt;dbl&gt;</th><th scope=col>&lt;dbl&gt;</th><th scope=col>&lt;dbl&gt;</th><th scope=col>&lt;dbl&gt;</th><th scope=col>&lt;dbl&gt;</th><th scope=col>&lt;dbl&gt;</th><th scope=col>&lt;dbl&gt;</th><th scope=col>&lt;dbl&gt;</th></tr>\n",
       "</thead>\n",
       "<tbody>\n",
       "\t<tr><th scope=row>H0529.3</th><td>7.62107</td><td>6.79971</td><td>4.73174</td><td> 9.33471</td><td>3.12445</td><td>2.76119</td><td>5.28013</td><td>5.53985</td><td>5.83288</td><td>7.62461</td><td>⋯</td><td>2.72481</td><td>6.58000</td><td>5.53125</td><td>3.33948</td><td>2.68846</td><td>8.83322</td><td>6.87415</td><td>7.43915</td><td>3.41649</td><td>6.82437</td></tr>\n",
       "\t<tr><th scope=row>H0441.1</th><td>6.96085</td><td>6.98459</td><td>4.31338</td><td> 9.06819</td><td>3.31576</td><td>2.58493</td><td>5.36719</td><td>5.22006</td><td>6.54894</td><td>7.85164</td><td>⋯</td><td>3.01428</td><td>6.13380</td><td>5.56465</td><td>3.18228</td><td>2.89130</td><td>8.98208</td><td>6.31876</td><td>6.63522</td><td>3.62379</td><td>6.37066</td></tr>\n",
       "\t<tr><th scope=row>H0558.3</th><td>7.16983</td><td>7.04907</td><td>4.72713</td><td> 8.92804</td><td>3.16308</td><td>2.84642</td><td>5.56897</td><td>5.28240</td><td>7.06695</td><td>7.56996</td><td>⋯</td><td>2.60958</td><td>5.39832</td><td>5.02634</td><td>2.95021</td><td>2.61699</td><td>7.80989</td><td>5.82366</td><td>6.54346</td><td>3.91271</td><td>5.68429</td></tr>\n",
       "\t<tr><th scope=row>H0499.2</th><td>7.59577</td><td>6.80282</td><td>4.51559</td><td> 9.17979</td><td>3.19292</td><td>2.71104</td><td>5.54439</td><td>5.72146</td><td>6.77939</td><td>8.34760</td><td>⋯</td><td>3.02522</td><td>6.03356</td><td>5.17391</td><td>3.27962</td><td>6.21488</td><td>8.65480</td><td>6.96169</td><td>6.80551</td><td>3.16607</td><td>6.46900</td></tr>\n",
       "\t<tr><th scope=row>H0468.3</th><td>7.25945</td><td>6.91728</td><td>4.84307</td><td> 9.91809</td><td>3.47692</td><td>3.01978</td><td>5.65406</td><td>5.54186</td><td>6.06626</td><td>8.20922</td><td>⋯</td><td>2.26329</td><td>5.23342</td><td>4.91143</td><td>2.10269</td><td>2.55051</td><td>7.94390</td><td>5.32065</td><td>6.48469</td><td>3.22015</td><td>5.99774</td></tr>\n",
       "\t<tr><th scope=row>H0348.1</th><td>7.26665</td><td>7.54874</td><td>4.73500</td><td>10.14874</td><td>3.45586</td><td>2.65961</td><td>5.73624</td><td>5.65758</td><td>6.76388</td><td>8.87777</td><td>⋯</td><td>2.84494</td><td>6.04939</td><td>5.36281</td><td>2.90052</td><td>2.66707</td><td>8.81831</td><td>6.62835</td><td>6.37172</td><td>3.63646</td><td>6.68152</td></tr>\n",
       "</tbody>\n",
       "</table>\n"
      ],
      "text/latex": [
       "A data.frame: 6 × 400\n",
       "\\begin{tabular}{r|lllllllllllllllllllll}\n",
       "  & CA1 & ICAM1 & CHL1 & TGFBI & ENG & PLTP & SERPINA7 & IGFBP3 & CR2 & SERPINA5 & ⋯ & IL3RA & KIF1BP & PPP3R1 & ILKAP & ISLR2 & PMVK & WWP2 & FKBP5 & GGT5 & CD63\\\\\n",
       "  & <dbl> & <dbl> & <dbl> & <dbl> & <dbl> & <dbl> & <dbl> & <dbl> & <dbl> & <dbl> & ⋯ & <dbl> & <dbl> & <dbl> & <dbl> & <dbl> & <dbl> & <dbl> & <dbl> & <dbl> & <dbl>\\\\\n",
       "\\hline\n",
       "\tH0529.3 & 7.62107 & 6.79971 & 4.73174 &  9.33471 & 3.12445 & 2.76119 & 5.28013 & 5.53985 & 5.83288 & 7.62461 & ⋯ & 2.72481 & 6.58000 & 5.53125 & 3.33948 & 2.68846 & 8.83322 & 6.87415 & 7.43915 & 3.41649 & 6.82437\\\\\n",
       "\tH0441.1 & 6.96085 & 6.98459 & 4.31338 &  9.06819 & 3.31576 & 2.58493 & 5.36719 & 5.22006 & 6.54894 & 7.85164 & ⋯ & 3.01428 & 6.13380 & 5.56465 & 3.18228 & 2.89130 & 8.98208 & 6.31876 & 6.63522 & 3.62379 & 6.37066\\\\\n",
       "\tH0558.3 & 7.16983 & 7.04907 & 4.72713 &  8.92804 & 3.16308 & 2.84642 & 5.56897 & 5.28240 & 7.06695 & 7.56996 & ⋯ & 2.60958 & 5.39832 & 5.02634 & 2.95021 & 2.61699 & 7.80989 & 5.82366 & 6.54346 & 3.91271 & 5.68429\\\\\n",
       "\tH0499.2 & 7.59577 & 6.80282 & 4.51559 &  9.17979 & 3.19292 & 2.71104 & 5.54439 & 5.72146 & 6.77939 & 8.34760 & ⋯ & 3.02522 & 6.03356 & 5.17391 & 3.27962 & 6.21488 & 8.65480 & 6.96169 & 6.80551 & 3.16607 & 6.46900\\\\\n",
       "\tH0468.3 & 7.25945 & 6.91728 & 4.84307 &  9.91809 & 3.47692 & 3.01978 & 5.65406 & 5.54186 & 6.06626 & 8.20922 & ⋯ & 2.26329 & 5.23342 & 4.91143 & 2.10269 & 2.55051 & 7.94390 & 5.32065 & 6.48469 & 3.22015 & 5.99774\\\\\n",
       "\tH0348.1 & 7.26665 & 7.54874 & 4.73500 & 10.14874 & 3.45586 & 2.65961 & 5.73624 & 5.65758 & 6.76388 & 8.87777 & ⋯ & 2.84494 & 6.04939 & 5.36281 & 2.90052 & 2.66707 & 8.81831 & 6.62835 & 6.37172 & 3.63646 & 6.68152\\\\\n",
       "\\end{tabular}\n"
      ],
      "text/markdown": [
       "\n",
       "A data.frame: 6 × 400\n",
       "\n",
       "| <!--/--> | CA1 &lt;dbl&gt; | ICAM1 &lt;dbl&gt; | CHL1 &lt;dbl&gt; | TGFBI &lt;dbl&gt; | ENG &lt;dbl&gt; | PLTP &lt;dbl&gt; | SERPINA7 &lt;dbl&gt; | IGFBP3 &lt;dbl&gt; | CR2 &lt;dbl&gt; | SERPINA5 &lt;dbl&gt; | ⋯ ⋯ | IL3RA &lt;dbl&gt; | KIF1BP &lt;dbl&gt; | PPP3R1 &lt;dbl&gt; | ILKAP &lt;dbl&gt; | ISLR2 &lt;dbl&gt; | PMVK &lt;dbl&gt; | WWP2 &lt;dbl&gt; | FKBP5 &lt;dbl&gt; | GGT5 &lt;dbl&gt; | CD63 &lt;dbl&gt; |\n",
       "|---|---|---|---|---|---|---|---|---|---|---|---|---|---|---|---|---|---|---|---|---|---|\n",
       "| H0529.3 | 7.62107 | 6.79971 | 4.73174 |  9.33471 | 3.12445 | 2.76119 | 5.28013 | 5.53985 | 5.83288 | 7.62461 | ⋯ | 2.72481 | 6.58000 | 5.53125 | 3.33948 | 2.68846 | 8.83322 | 6.87415 | 7.43915 | 3.41649 | 6.82437 |\n",
       "| H0441.1 | 6.96085 | 6.98459 | 4.31338 |  9.06819 | 3.31576 | 2.58493 | 5.36719 | 5.22006 | 6.54894 | 7.85164 | ⋯ | 3.01428 | 6.13380 | 5.56465 | 3.18228 | 2.89130 | 8.98208 | 6.31876 | 6.63522 | 3.62379 | 6.37066 |\n",
       "| H0558.3 | 7.16983 | 7.04907 | 4.72713 |  8.92804 | 3.16308 | 2.84642 | 5.56897 | 5.28240 | 7.06695 | 7.56996 | ⋯ | 2.60958 | 5.39832 | 5.02634 | 2.95021 | 2.61699 | 7.80989 | 5.82366 | 6.54346 | 3.91271 | 5.68429 |\n",
       "| H0499.2 | 7.59577 | 6.80282 | 4.51559 |  9.17979 | 3.19292 | 2.71104 | 5.54439 | 5.72146 | 6.77939 | 8.34760 | ⋯ | 3.02522 | 6.03356 | 5.17391 | 3.27962 | 6.21488 | 8.65480 | 6.96169 | 6.80551 | 3.16607 | 6.46900 |\n",
       "| H0468.3 | 7.25945 | 6.91728 | 4.84307 |  9.91809 | 3.47692 | 3.01978 | 5.65406 | 5.54186 | 6.06626 | 8.20922 | ⋯ | 2.26329 | 5.23342 | 4.91143 | 2.10269 | 2.55051 | 7.94390 | 5.32065 | 6.48469 | 3.22015 | 5.99774 |\n",
       "| H0348.1 | 7.26665 | 7.54874 | 4.73500 | 10.14874 | 3.45586 | 2.65961 | 5.73624 | 5.65758 | 6.76388 | 8.87777 | ⋯ | 2.84494 | 6.04939 | 5.36281 | 2.90052 | 2.66707 | 8.81831 | 6.62835 | 6.37172 | 3.63646 | 6.68152 |\n",
       "\n"
      ],
      "text/plain": [
       "        CA1     ICAM1   CHL1    TGFBI    ENG     PLTP    SERPINA7 IGFBP3 \n",
       "H0529.3 7.62107 6.79971 4.73174  9.33471 3.12445 2.76119 5.28013  5.53985\n",
       "H0441.1 6.96085 6.98459 4.31338  9.06819 3.31576 2.58493 5.36719  5.22006\n",
       "H0558.3 7.16983 7.04907 4.72713  8.92804 3.16308 2.84642 5.56897  5.28240\n",
       "H0499.2 7.59577 6.80282 4.51559  9.17979 3.19292 2.71104 5.54439  5.72146\n",
       "H0468.3 7.25945 6.91728 4.84307  9.91809 3.47692 3.01978 5.65406  5.54186\n",
       "H0348.1 7.26665 7.54874 4.73500 10.14874 3.45586 2.65961 5.73624  5.65758\n",
       "        CR2     SERPINA5 ⋯ IL3RA   KIF1BP  PPP3R1  ILKAP   ISLR2   PMVK   \n",
       "H0529.3 5.83288 7.62461  ⋯ 2.72481 6.58000 5.53125 3.33948 2.68846 8.83322\n",
       "H0441.1 6.54894 7.85164  ⋯ 3.01428 6.13380 5.56465 3.18228 2.89130 8.98208\n",
       "H0558.3 7.06695 7.56996  ⋯ 2.60958 5.39832 5.02634 2.95021 2.61699 7.80989\n",
       "H0499.2 6.77939 8.34760  ⋯ 3.02522 6.03356 5.17391 3.27962 6.21488 8.65480\n",
       "H0468.3 6.06626 8.20922  ⋯ 2.26329 5.23342 4.91143 2.10269 2.55051 7.94390\n",
       "H0348.1 6.76388 8.87777  ⋯ 2.84494 6.04939 5.36281 2.90052 2.66707 8.81831\n",
       "        WWP2    FKBP5   GGT5    CD63   \n",
       "H0529.3 6.87415 7.43915 3.41649 6.82437\n",
       "H0441.1 6.31876 6.63522 3.62379 6.37066\n",
       "H0558.3 5.82366 6.54346 3.91271 5.68429\n",
       "H0499.2 6.96169 6.80551 3.16607 6.46900\n",
       "H0468.3 5.32065 6.48469 3.22015 5.99774\n",
       "H0348.1 6.62835 6.37172 3.63646 6.68152"
      ]
     },
     "metadata": {},
     "output_type": "display_data"
    }
   ],
   "source": [
    "head(npx_df)"
   ]
  },
  {
   "cell_type": "code",
   "execution_count": 17,
   "id": "6da0c834",
   "metadata": {
    "vscode": {
     "languageId": "r"
    }
   },
   "outputs": [],
   "source": [
    "# Specify the sample condition (MCI_Stable_AD vs. MCI_Decline_AD)\n",
    "# Note: the publication also mentioned including CDR-SBM measurements as an additional covariate\n",
    "# but this data isn't found in the supplementary data provided\n",
    "outcome <- factor(pheno_df$Outcome)\n",
    "age <- as.numeric(pheno_df$Age_at_Baseline)\n",
    "sex <- factor(pheno_df$Sex)"
   ]
  },
  {
   "cell_type": "code",
   "execution_count": 18,
   "id": "cdac4c70",
   "metadata": {
    "vscode": {
     "languageId": "r"
    }
   },
   "outputs": [],
   "source": [
    "design <- model.matrix(~0 + outcome + age + sex, pheno_df)"
   ]
  },
  {
   "cell_type": "code",
   "execution_count": 19,
   "id": "152147d5",
   "metadata": {
    "scrolled": true,
    "vscode": {
     "languageId": "r"
    }
   },
   "outputs": [
    {
     "data": {
      "text/html": [
       "<table class=\"dataframe\">\n",
       "<caption>A matrix: 6 × 4 of type dbl</caption>\n",
       "<thead>\n",
       "\t<tr><th></th><th scope=col>outcomeMCI_Decline_AD</th><th scope=col>outcomeMCI_Stable_AD</th><th scope=col>age</th><th scope=col>sexMale</th></tr>\n",
       "</thead>\n",
       "<tbody>\n",
       "\t<tr><th scope=row>1</th><td>1</td><td>0</td><td>90</td><td>1</td></tr>\n",
       "\t<tr><th scope=row>2</th><td>0</td><td>1</td><td>90</td><td>0</td></tr>\n",
       "\t<tr><th scope=row>3</th><td>1</td><td>0</td><td>90</td><td>0</td></tr>\n",
       "\t<tr><th scope=row>4</th><td>0</td><td>1</td><td>88</td><td>1</td></tr>\n",
       "\t<tr><th scope=row>5</th><td>0</td><td>1</td><td>87</td><td>0</td></tr>\n",
       "\t<tr><th scope=row>6</th><td>1</td><td>0</td><td>86</td><td>1</td></tr>\n",
       "</tbody>\n",
       "</table>\n"
      ],
      "text/latex": [
       "A matrix: 6 × 4 of type dbl\n",
       "\\begin{tabular}{r|llll}\n",
       "  & outcomeMCI\\_Decline\\_AD & outcomeMCI\\_Stable\\_AD & age & sexMale\\\\\n",
       "\\hline\n",
       "\t1 & 1 & 0 & 90 & 1\\\\\n",
       "\t2 & 0 & 1 & 90 & 0\\\\\n",
       "\t3 & 1 & 0 & 90 & 0\\\\\n",
       "\t4 & 0 & 1 & 88 & 1\\\\\n",
       "\t5 & 0 & 1 & 87 & 0\\\\\n",
       "\t6 & 1 & 0 & 86 & 1\\\\\n",
       "\\end{tabular}\n"
      ],
      "text/markdown": [
       "\n",
       "A matrix: 6 × 4 of type dbl\n",
       "\n",
       "| <!--/--> | outcomeMCI_Decline_AD | outcomeMCI_Stable_AD | age | sexMale |\n",
       "|---|---|---|---|---|\n",
       "| 1 | 1 | 0 | 90 | 1 |\n",
       "| 2 | 0 | 1 | 90 | 0 |\n",
       "| 3 | 1 | 0 | 90 | 0 |\n",
       "| 4 | 0 | 1 | 88 | 1 |\n",
       "| 5 | 0 | 1 | 87 | 0 |\n",
       "| 6 | 1 | 0 | 86 | 1 |\n",
       "\n"
      ],
      "text/plain": [
       "  outcomeMCI_Decline_AD outcomeMCI_Stable_AD age sexMale\n",
       "1 1                     0                    90  1      \n",
       "2 0                     1                    90  0      \n",
       "3 1                     0                    90  0      \n",
       "4 0                     1                    88  1      \n",
       "5 0                     1                    87  0      \n",
       "6 1                     0                    86  1      "
      ]
     },
     "metadata": {},
     "output_type": "display_data"
    }
   ],
   "source": [
    "head(design)"
   ]
  },
  {
   "cell_type": "code",
   "execution_count": 20,
   "id": "46e8bfe3",
   "metadata": {
    "vscode": {
     "languageId": "r"
    }
   },
   "outputs": [],
   "source": [
    "# lmFit expects input array to have structure: protein x sample\n",
    "# lmFit fits a linear model using weighted least squares for each gene:\n",
    "fit <- lmFit(t(npx_df), design)"
   ]
  },
  {
   "cell_type": "code",
   "execution_count": 21,
   "id": "b5498810",
   "metadata": {
    "vscode": {
     "languageId": "r"
    }
   },
   "outputs": [],
   "source": [
    "# Comparisons between groups (log fold-changes) are obtained as contrasts of\n",
    "# these fitted linear models:\n",
    "# Samples are grouped based on experimental condition\n",
    "# The variability of gene expression is compared between these groups\n",
    "contr <- makeContrasts(outcomeMCI_Decline_AD - outcomeMCI_Stable_AD, levels = design)"
   ]
  },
  {
   "cell_type": "code",
   "execution_count": 22,
   "id": "20d5f490",
   "metadata": {
    "vscode": {
     "languageId": "r"
    }
   },
   "outputs": [
    {
     "data": {
      "text/html": [
       "<table class=\"dataframe\">\n",
       "<caption>A matrix: 4 × 1 of type dbl</caption>\n",
       "<thead>\n",
       "\t<tr><th></th><th scope=col>outcomeMCI_Decline_AD - outcomeMCI_Stable_AD</th></tr>\n",
       "</thead>\n",
       "<tbody>\n",
       "\t<tr><th scope=row>outcomeMCI_Decline_AD</th><td> 1</td></tr>\n",
       "\t<tr><th scope=row>outcomeMCI_Stable_AD</th><td>-1</td></tr>\n",
       "\t<tr><th scope=row>age</th><td> 0</td></tr>\n",
       "\t<tr><th scope=row>sexMale</th><td> 0</td></tr>\n",
       "</tbody>\n",
       "</table>\n"
      ],
      "text/latex": [
       "A matrix: 4 × 1 of type dbl\n",
       "\\begin{tabular}{r|l}\n",
       "  & outcomeMCI\\_Decline\\_AD - outcomeMCI\\_Stable\\_AD\\\\\n",
       "\\hline\n",
       "\toutcomeMCI\\_Decline\\_AD &  1\\\\\n",
       "\toutcomeMCI\\_Stable\\_AD & -1\\\\\n",
       "\tage &  0\\\\\n",
       "\tsexMale &  0\\\\\n",
       "\\end{tabular}\n"
      ],
      "text/markdown": [
       "\n",
       "A matrix: 4 × 1 of type dbl\n",
       "\n",
       "| <!--/--> | outcomeMCI_Decline_AD - outcomeMCI_Stable_AD |\n",
       "|---|---|\n",
       "| outcomeMCI_Decline_AD |  1 |\n",
       "| outcomeMCI_Stable_AD | -1 |\n",
       "| age |  0 |\n",
       "| sexMale |  0 |\n",
       "\n"
      ],
      "text/plain": [
       "                       Contrasts\n",
       "Levels                  outcomeMCI_Decline_AD - outcomeMCI_Stable_AD\n",
       "  outcomeMCI_Decline_AD  1                                          \n",
       "  outcomeMCI_Stable_AD  -1                                          \n",
       "  age                    0                                          \n",
       "  sexMale                0                                          "
      ]
     },
     "metadata": {},
     "output_type": "display_data"
    }
   ],
   "source": [
    "contr"
   ]
  },
  {
   "cell_type": "code",
   "execution_count": 23,
   "id": "d7d1f293",
   "metadata": {
    "vscode": {
     "languageId": "r"
    }
   },
   "outputs": [],
   "source": [
    "# Estimate contrast for each gene\n",
    "tmp <- contrasts.fit(fit, contr)"
   ]
  },
  {
   "cell_type": "code",
   "execution_count": 24,
   "id": "38507c2e",
   "metadata": {
    "vscode": {
     "languageId": "r"
    }
   },
   "outputs": [],
   "source": [
    "# Empirical Bayes smoothing of standard errors (shrinks standard errors\n",
    "# that are much larger or smaller than those from other genes towards the average standard error)\n",
    "tmp <- eBayes(tmp)"
   ]
  },
  {
   "cell_type": "code",
   "execution_count": 25,
   "id": "69a5f30e",
   "metadata": {
    "vscode": {
     "languageId": "r"
    }
   },
   "outputs": [
    {
     "data": {
      "text/plain": [
       "An object of class \"MArrayLM\"\n",
       "$coefficients\n",
       "       Contrasts\n",
       "        outcomeMCI_Decline_AD - outcomeMCI_Stable_AD\n",
       "  CA1                                    -0.05543695\n",
       "  ICAM1                                  -0.05037365\n",
       "  CHL1                                   -0.13747566\n",
       "  TGFBI                                  -0.04227922\n",
       "  ENG                                    -0.04661332\n",
       "395 more rows ...\n",
       "\n",
       "$rank\n",
       "[1] 4\n",
       "\n",
       "$assign\n",
       "[1] 1 1 2 3\n",
       "\n",
       "$qr\n",
       "$qr\n",
       "  outcomeMCI_Decline_AD outcomeMCI_Stable_AD          age     sexMale\n",
       "1            -5.4772256            0.0000000 -414.4434018 -2.73861279\n",
       "2             0.0000000           -5.3851648 -422.6425897 -2.78543007\n",
       "3             0.1825742            0.0000000  -57.9129350 -0.09943583\n",
       "4             0.0000000            0.1856953    0.1331912 -3.83816256\n",
       "5             0.0000000            0.1856953    0.1159239 -0.10172476\n",
       "54 more rows ...\n",
       "\n",
       "$qraux\n",
       "[1] 1.182574 1.185695 1.209287 1.160594\n",
       "\n",
       "$pivot\n",
       "[1] 1 2 3 4\n",
       "\n",
       "$tol\n",
       "[1] 1e-07\n",
       "\n",
       "$rank\n",
       "[1] 4\n",
       "\n",
       "\n",
       "$df.residual\n",
       "[1] 55 55 55 55 55\n",
       "395 more elements ...\n",
       "\n",
       "$sigma\n",
       "      CA1     ICAM1      CHL1     TGFBI       ENG \n",
       "0.6586248 0.3639223 0.3597267 0.3796635 0.2367590 \n",
       "395 more elements ...\n",
       "\n",
       "$cov.coefficients\n",
       "                                              Contrasts\n",
       "Contrasts                                      outcomeMCI_Decline_AD - outcomeMCI_Stable_AD\n",
       "  outcomeMCI_Decline_AD - outcomeMCI_Stable_AD                                   0.07019106\n",
       "\n",
       "$stdev.unscaled\n",
       "      outcomeMCI_Decline_AD - outcomeMCI_Stable_AD\n",
       "CA1                                      0.2649359\n",
       "ICAM1                                    0.2649359\n",
       "CHL1                                     0.2649359\n",
       "TGFBI                                    0.2649359\n",
       "ENG                                      0.2649359\n",
       "395 more rows ...\n",
       "\n",
       "$pivot\n",
       "[1] 1 2 3 4\n",
       "\n",
       "$Amean\n",
       "     CA1    ICAM1     CHL1    TGFBI      ENG \n",
       "7.426225 6.920893 4.741800 9.437314 3.236115 \n",
       "395 more elements ...\n",
       "\n",
       "$method\n",
       "[1] \"ls\"\n",
       "\n",
       "$design\n",
       "  outcomeMCI_Decline_AD outcomeMCI_Stable_AD age sexMale\n",
       "1                     1                    0  90       1\n",
       "2                     0                    1  90       0\n",
       "3                     1                    0  90       0\n",
       "4                     0                    1  88       1\n",
       "5                     0                    1  87       0\n",
       "54 more rows ...\n",
       "\n",
       "$contrasts\n",
       "                       Contrasts\n",
       "Levels                  outcomeMCI_Decline_AD - outcomeMCI_Stable_AD\n",
       "  outcomeMCI_Decline_AD                                            1\n",
       "  outcomeMCI_Stable_AD                                            -1\n",
       "  age                                                              0\n",
       "  sexMale                                                          0\n",
       "\n",
       "$df.prior\n",
       "[1] 3.953244\n",
       "\n",
       "$s2.prior\n",
       "[1] 0.1766941\n",
       "\n",
       "$var.prior\n",
       "[1] 0.2425985\n",
       "\n",
       "$proportion\n",
       "[1] 0.01\n",
       "\n",
       "$s2.post\n",
       "       CA1      ICAM1       CHL1      TGFBI        ENG \n",
       "0.41654667 0.13540704 0.13257446 0.14632704 0.06414457 \n",
       "395 more elements ...\n",
       "\n",
       "$t\n",
       "       Contrasts\n",
       "        outcomeMCI_Decline_AD - outcomeMCI_Stable_AD\n",
       "  CA1                                     -0.3242101\n",
       "  ICAM1                                   -0.5167041\n",
       "  CHL1                                    -1.4251316\n",
       "  TGFBI                                   -0.4171803\n",
       "  ENG                                     -0.6946870\n",
       "395 more rows ...\n",
       "\n",
       "$df.total\n",
       "[1] 58.95324 58.95324 58.95324 58.95324 58.95324\n",
       "395 more elements ...\n",
       "\n",
       "$p.value\n",
       "       Contrasts\n",
       "        outcomeMCI_Decline_AD - outcomeMCI_Stable_AD\n",
       "  CA1                                      0.7469265\n",
       "  ICAM1                                    0.6072958\n",
       "  CHL1                                     0.1593922\n",
       "  TGFBI                                    0.6780619\n",
       "  ENG                                      0.4899804\n",
       "395 more rows ...\n",
       "\n",
       "$lods\n",
       "      outcomeMCI_Decline_AD - outcomeMCI_Stable_AD\n",
       "CA1                                      -5.300866\n",
       "ICAM1                                    -5.237274\n",
       "CHL1                                     -4.557796\n",
       "TGFBI                                    -5.273761\n",
       "ENG                                      -5.152901\n",
       "395 more rows ...\n",
       "\n",
       "$F\n",
       "[1] 0.1051122 0.2669831 2.0310002 0.1740394 0.4825900\n",
       "395 more elements ...\n",
       "\n",
       "$F.p.value\n",
       "[1] 0.7469265 0.6072958 0.1593922 0.6780619 0.4899804\n",
       "395 more elements ...\n"
      ]
     },
     "metadata": {},
     "output_type": "display_data"
    }
   ],
   "source": [
    "tmp"
   ]
  },
  {
   "cell_type": "code",
   "execution_count": 26,
   "id": "048b91f6",
   "metadata": {
    "vscode": {
     "languageId": "r"
    }
   },
   "outputs": [],
   "source": [
    "# Extract results\n",
    "top.table <- topTable(tmp, sort.by = \"P\", n = Inf)\n",
    "results <-  as.data.frame(top.table)"
   ]
  },
  {
   "cell_type": "markdown",
   "id": "ad0975ea",
   "metadata": {},
   "source": [
    "## 6. Plot results"
   ]
  },
  {
   "cell_type": "markdown",
   "id": "abc77529",
   "metadata": {},
   "source": [
    "#### Convert results to a data.frame"
   ]
  },
  {
   "cell_type": "code",
   "execution_count": 27,
   "id": "b050045c",
   "metadata": {
    "vscode": {
     "languageId": "r"
    }
   },
   "outputs": [],
   "source": [
    "results_df <- data.frame(results) %>%\n",
    "    rownames_to_column(var = \"protein\")\n",
    "\n",
    "# Add FC column since this is what the paper uses for filtering proteins\n",
    "results_df$FC<-2^(abs(results_df$logFC))"
   ]
  },
  {
   "cell_type": "code",
   "execution_count": 28,
   "id": "a4b00196",
   "metadata": {
    "vscode": {
     "languageId": "r"
    }
   },
   "outputs": [
    {
     "data": {
      "text/html": [
       "<table class=\"dataframe\">\n",
       "<caption>A data.frame: 3 × 8</caption>\n",
       "<thead>\n",
       "\t<tr><th></th><th scope=col>protein</th><th scope=col>logFC</th><th scope=col>AveExpr</th><th scope=col>t</th><th scope=col>P.Value</th><th scope=col>adj.P.Val</th><th scope=col>B</th><th scope=col>FC</th></tr>\n",
       "\t<tr><th></th><th scope=col>&lt;chr&gt;</th><th scope=col>&lt;dbl&gt;</th><th scope=col>&lt;dbl&gt;</th><th scope=col>&lt;dbl&gt;</th><th scope=col>&lt;dbl&gt;</th><th scope=col>&lt;dbl&gt;</th><th scope=col>&lt;dbl&gt;</th><th scope=col>&lt;dbl&gt;</th></tr>\n",
       "</thead>\n",
       "<tbody>\n",
       "\t<tr><th scope=row>1</th><td>NF-L  </td><td>0.4534274</td><td>5.155294</td><td>3.364732</td><td>0.001352144</td><td>0.3156027</td><td>-1.341150</td><td>1.369289</td></tr>\n",
       "\t<tr><th scope=row>2</th><td>IL8.1 </td><td>0.5106782</td><td>5.481614</td><td>3.313615</td><td>0.001578013</td><td>0.3156027</td><td>-1.449758</td><td>1.424720</td></tr>\n",
       "\t<tr><th scope=row>3</th><td>TIMP-4</td><td>0.3281241</td><td>4.355466</td><td>3.077642</td><td>0.003163809</td><td>0.3590204</td><td>-1.937656</td><td>1.255380</td></tr>\n",
       "</tbody>\n",
       "</table>\n"
      ],
      "text/latex": [
       "A data.frame: 3 × 8\n",
       "\\begin{tabular}{r|llllllll}\n",
       "  & protein & logFC & AveExpr & t & P.Value & adj.P.Val & B & FC\\\\\n",
       "  & <chr> & <dbl> & <dbl> & <dbl> & <dbl> & <dbl> & <dbl> & <dbl>\\\\\n",
       "\\hline\n",
       "\t1 & NF-L   & 0.4534274 & 5.155294 & 3.364732 & 0.001352144 & 0.3156027 & -1.341150 & 1.369289\\\\\n",
       "\t2 & IL8.1  & 0.5106782 & 5.481614 & 3.313615 & 0.001578013 & 0.3156027 & -1.449758 & 1.424720\\\\\n",
       "\t3 & TIMP-4 & 0.3281241 & 4.355466 & 3.077642 & 0.003163809 & 0.3590204 & -1.937656 & 1.255380\\\\\n",
       "\\end{tabular}\n"
      ],
      "text/markdown": [
       "\n",
       "A data.frame: 3 × 8\n",
       "\n",
       "| <!--/--> | protein &lt;chr&gt; | logFC &lt;dbl&gt; | AveExpr &lt;dbl&gt; | t &lt;dbl&gt; | P.Value &lt;dbl&gt; | adj.P.Val &lt;dbl&gt; | B &lt;dbl&gt; | FC &lt;dbl&gt; |\n",
       "|---|---|---|---|---|---|---|---|---|\n",
       "| 1 | NF-L   | 0.4534274 | 5.155294 | 3.364732 | 0.001352144 | 0.3156027 | -1.341150 | 1.369289 |\n",
       "| 2 | IL8.1  | 0.5106782 | 5.481614 | 3.313615 | 0.001578013 | 0.3156027 | -1.449758 | 1.424720 |\n",
       "| 3 | TIMP-4 | 0.3281241 | 4.355466 | 3.077642 | 0.003163809 | 0.3590204 | -1.937656 | 1.255380 |\n",
       "\n"
      ],
      "text/plain": [
       "  protein logFC     AveExpr  t        P.Value     adj.P.Val B         FC      \n",
       "1 NF-L    0.4534274 5.155294 3.364732 0.001352144 0.3156027 -1.341150 1.369289\n",
       "2 IL8.1   0.5106782 5.481614 3.313615 0.001578013 0.3156027 -1.449758 1.424720\n",
       "3 TIMP-4  0.3281241 4.355466 3.077642 0.003163809 0.3590204 -1.937656 1.255380"
      ]
     },
     "metadata": {},
     "output_type": "display_data"
    },
    {
     "data": {
      "text/html": [
       "<style>\n",
       ".list-inline {list-style: none; margin:0; padding: 0}\n",
       ".list-inline>li {display: inline-block}\n",
       ".list-inline>li:not(:last-child)::after {content: \"\\00b7\"; padding: 0 .5ex}\n",
       "</style>\n",
       "<ol class=list-inline><li>400</li><li>8</li></ol>\n"
      ],
      "text/latex": [
       "\\begin{enumerate*}\n",
       "\\item 400\n",
       "\\item 8\n",
       "\\end{enumerate*}\n"
      ],
      "text/markdown": [
       "1. 400\n",
       "2. 8\n",
       "\n",
       "\n"
      ],
      "text/plain": [
       "[1] 400   8"
      ]
     },
     "metadata": {},
     "output_type": "display_data"
    }
   ],
   "source": [
    "head(results_df, 3)\n",
    "dim(results_df)"
   ]
  },
  {
   "cell_type": "markdown",
   "id": "a5f0ecdd",
   "metadata": {},
   "source": [
    "#### Create plot "
   ]
  },
  {
   "cell_type": "code",
   "execution_count": 29,
   "id": "24cd54e1",
   "metadata": {
    "vscode": {
     "languageId": "r"
    }
   },
   "outputs": [
    {
     "data": {
      "image/png": "[encoded data removed]",
      "text/plain": [
       "plot without title"
      ]
     },
     "metadata": {
      "image/png": {
       "height": 420,
       "width": 420
      }
     },
     "output_type": "display_data"
    }
   ],
   "source": [
    "volcano_plot <- ggplot(results_df) +\n",
    "    geom_point(aes(x = logFC, y = -log10(P.Value), color = ifelse(P.Value<0.5, 'red', 'grey'))) +\n",
    "    scale_color_identity() +\n",
    "    labs(x = \"log2 fold change\", y = \"-log10 p-value\") +\n",
    "    ggtitle(\"Differential Protein Expression, Volcano Plot\")\n",
    "\n",
    "volcano_plot"
   ]
  },
  {
   "cell_type": "code",
   "execution_count": 30,
   "id": "8376388e",
   "metadata": {
    "vscode": {
     "languageId": "r"
    }
   },
   "outputs": [
    {
     "data": {
      "image/png": "[encoded data removed]",
      "text/plain": [
       "plot without title"
      ]
     },
     "metadata": {
      "image/png": {
       "height": 420,
       "width": 420
      }
     },
     "output_type": "display_data"
    }
   ],
   "source": [
    "# Plot MA plot\n",
    "ma_plot <- ggplot(results_df) +\n",
    "    geom_point(aes(x = log10(AveExpr), y = logFC, color = ifelse(P.Value<0.5, 'red', 'grey'))) +\n",
    "    scale_color_identity() +\n",
    "    labs(x = \"mean expression\", y = \"log2 fold change\") +\n",
    "    ggtitle(\"Differential Protein Expression, MA Plot\")\n",
    "\n",
    "ma_plot"
   ]
  },
  {
   "cell_type": "markdown",
   "id": "454c3d25",
   "metadata": {},
   "source": [
    "## 7. Compare significant DE proteins"
   ]
  },
  {
   "cell_type": "code",
   "execution_count": 31,
   "id": "a604eca9",
   "metadata": {
    "vscode": {
     "languageId": "r"
    }
   },
   "outputs": [],
   "source": [
    "pub_de_protein_file <- \"Nominally_Significant_Proteins-Table_1.csv\"\n",
    "pub_de_protein_download_file <- \"file path for Nominally_Significant_Proteins-Table_1.csv\""
   ]
  },
  {
   "cell_type": "code",
   "execution_count": 32,
   "id": "835a34c2",
   "metadata": {
    "vscode": {
     "languageId": "r"
    }
   },
   "outputs": [],
   "source": [
    "# Download using dx-toolkit\n",
    "system(paste(\"dx download\", pub_de_protein_download_file))"
   ]
  },
  {
   "cell_type": "code",
   "execution_count": 33,
   "id": "9b5799df",
   "metadata": {
    "vscode": {
     "languageId": "r"
    }
   },
   "outputs": [
    {
     "name": "stderr",
     "output_type": "stream",
     "text": [
      "\u001b[1m\u001b[22mNew names:\n",
      "\u001b[36m•\u001b[39m `` -> `...14`\n",
      "\u001b[36m•\u001b[39m `` -> `...15`\n",
      "\u001b[36m•\u001b[39m `` -> `...16`\n",
      "\u001b[36m•\u001b[39m `` -> `...17`\n"
     ]
    }
   ],
   "source": [
    "# Read the counts dataframe\n",
    "pub_de_protein_df <- read_csv(pub_de_protein_file, show_col_types = FALSE)"
   ]
  },
  {
   "cell_type": "code",
   "execution_count": 34,
   "id": "f3509967",
   "metadata": {
    "vscode": {
     "languageId": "r"
    }
   },
   "outputs": [
    {
     "data": {
      "text/html": [
       "<style>\n",
       ".list-inline {list-style: none; margin:0; padding: 0}\n",
       ".list-inline>li {display: inline-block}\n",
       ".list-inline>li:not(:last-child)::after {content: \"\\00b7\"; padding: 0 .5ex}\n",
       "</style>\n",
       "<ol class=list-inline><li>44</li><li>17</li></ol>\n"
      ],
      "text/latex": [
       "\\begin{enumerate*}\n",
       "\\item 44\n",
       "\\item 17\n",
       "\\end{enumerate*}\n"
      ],
      "text/markdown": [
       "1. 44\n",
       "2. 17\n",
       "\n",
       "\n"
      ],
      "text/plain": [
       "[1] 44 17"
      ]
     },
     "metadata": {},
     "output_type": "display_data"
    },
    {
     "data": {
      "text/html": [
       "<table class=\"dataframe\">\n",
       "<caption>A tibble: 20 × 17</caption>\n",
       "<thead>\n",
       "\t<tr><th scope=col>Protein</th><th scope=col>Panel</th><th scope=col>UniProt ID</th><th scope=col>Description</th><th scope=col>logFC</th><th scope=col>FC</th><th scope=col>CI.L</th><th scope=col>CI.R</th><th scope=col>AveExpr</th><th scope=col>t</th><th scope=col>P.Value</th><th scope=col>adj.P.Val</th><th scope=col>B</th><th scope=col>...14</th><th scope=col>...15</th><th scope=col>...16</th><th scope=col>...17</th></tr>\n",
       "\t<tr><th scope=col>&lt;chr&gt;</th><th scope=col>&lt;chr&gt;</th><th scope=col>&lt;chr&gt;</th><th scope=col>&lt;chr&gt;</th><th scope=col>&lt;dbl&gt;</th><th scope=col>&lt;dbl&gt;</th><th scope=col>&lt;dbl&gt;</th><th scope=col>&lt;dbl&gt;</th><th scope=col>&lt;dbl&gt;</th><th scope=col>&lt;dbl&gt;</th><th scope=col>&lt;dbl&gt;</th><th scope=col>&lt;dbl&gt;</th><th scope=col>&lt;dbl&gt;</th><th scope=col>&lt;lgl&gt;</th><th scope=col>&lt;lgl&gt;</th><th scope=col>&lt;chr&gt;</th><th scope=col>&lt;lgl&gt;</th></tr>\n",
       "</thead>\n",
       "<tbody>\n",
       "\t<tr><td>NF-L     </td><td>Olink NEURO EXPLORATORY(v.3901) </td><td>P07196</td><td>Neurofilamentlightpolypeptide                        </td><td> 0.5929488</td><td>1.5083265</td><td> 0.29436372</td><td> 0.8915339</td><td> 5.155294</td><td> 3.979653</td><td>0.0002036750</td><td>0.0814700</td><td> 0.5077088</td><td>NA</td><td>NA</td><td>NA              </td><td>NA</td></tr>\n",
       "\t<tr><td><span style=white-space:pre-wrap>IL-8     </span></td><td><span style=white-space:pre-wrap>Olink INFLAMMATION(v.3021)      </span></td><td>P10145</td><td><span style=white-space:pre-wrap>Interleukin-8 (IL-8)                                 </span></td><td> 0.5964094</td><td>1.5119489</td><td> 0.26343010</td><td> 0.9293886</td><td> 5.481614</td><td> 3.589412</td><td>0.0007057214</td><td>0.1411443</td><td>-0.5214116</td><td>NA</td><td>NA</td><td>adj.P.Val &lt; 0.20</td><td>NA</td></tr>\n",
       "\t<tr><td><span style=white-space:pre-wrap>VEGF-A   </span></td><td><span style=white-space:pre-wrap>Olink IMMUNO-ONCOLOGY(v.3101)   </span></td><td>P15692</td><td><span style=white-space:pre-wrap>Vascular endothelial growth factor A (VEGF-A)        </span></td><td> 0.3374201</td><td>1.2634951</td><td> 0.13795228</td><td> 0.5368879</td><td> 9.179483</td><td> 3.389957</td><td>0.0012987893</td><td>0.1472101</td><td>-1.0241882</td><td>NA</td><td>NA</td><td>adj.P.Val &lt; 0.25</td><td>NA</td></tr>\n",
       "\t<tr><td>TNFRSF12A</td><td><span style=white-space:pre-wrap>Olink IMMUNO-ONCOLOGY(v.3101)   </span></td><td>Q9NP84</td><td>Tumor necrosis factor receptor superfamily member 12A</td><td> 0.4490206</td><td>1.3651132</td><td> 0.17381921</td><td> 0.7242220</td><td> 7.306673</td><td> 3.269729</td><td>0.0018591664</td><td>0.1472101</td><td>-1.3187988</td><td>NA</td><td>NA</td><td><span style=white-space:pre-wrap>FC &gt; 50%        </span></td><td>NA</td></tr>\n",
       "\t<tr><td>CX3CL1   </td><td>Olink IMMUNO-ONCOLOGY(v.3101)   </td><td>P78423</td><td>Fractalkine (CX3CL1 )                                </td><td> 0.3515657</td><td>1.2759446</td><td> 0.12949477</td><td> 0.5736367</td><td> 7.038993</td><td> 3.172567</td><td>0.0024714966</td><td>0.1472101</td><td>-1.5519533</td><td>NA</td><td>NA</td><td>NA              </td><td>NA</td></tr>\n",
       "\t<tr><td>LTBR     </td><td>Olink CARDIOVASCULAR III(v.6112)</td><td>P36941</td><td>Lymphotoxin-beta receptor (LTBR)                     </td><td> 0.3463565</td><td>1.2713458</td><td> 0.12658584</td><td> 0.5661271</td><td> 4.799556</td><td> 3.158274</td><td>0.0025761761</td><td>0.1472101</td><td>-1.5858699</td><td>NA</td><td>NA</td><td>NA              </td><td>NA</td></tr>\n",
       "\t<tr><td>PHOSPHO1 </td><td>Olink NEURO EXPLORATORY(v.3901) </td><td>Q8TCT1</td><td>Phosphoethanolamine/phosphocholinephosphatase        </td><td> 0.2942856</td><td>1.2262776</td><td> 0.10392559</td><td> 0.4846457</td><td> 4.573599</td><td> 3.098057</td><td>0.0030645817</td><td>0.1532291</td><td>-1.7276460</td><td>NA</td><td>NA</td><td>NA              </td><td>NA</td></tr>\n",
       "\t<tr><td>MMP-3    </td><td>Olink CARDIOVASCULAR III(v.6112)</td><td>P08254</td><td>Matrix metalloproteinase-3 (MMP-3)                   </td><td> 0.5253266</td><td>1.4392594</td><td> 0.16857896</td><td> 0.8820743</td><td> 8.516487</td><td> 2.950967</td><td>0.0046458343</td><td>0.1845394</td><td>-2.0662171</td><td>NA</td><td>NA</td><td>NA              </td><td>NA</td></tr>\n",
       "\t<tr><td>CD302    </td><td>Olink NEURO EXPLORATORY(v.3901) </td><td>Q8IX05</td><td>CD302 antigen                                        </td><td> 0.3570392</td><td>1.2807947</td><td> 0.11439008</td><td> 0.5996883</td><td> 4.925693</td><td> 2.948718</td><td>0.0046750619</td><td>0.1845394</td><td>-2.0713062</td><td>NA</td><td>NA</td><td>NA              </td><td>NA</td></tr>\n",
       "\t<tr><td>CCL23    </td><td>Olink IMMUNO-ONCOLOGY(v.3101)   </td><td>P55773</td><td>C-C motif chemokine 23 (CCL23)                       </td><td> 0.4013460</td><td>1.3207395</td><td> 0.12582747</td><td> 0.6768644</td><td>11.497056</td><td> 2.919203</td><td>0.0050748324</td><td>0.1845394</td><td>-2.1378460</td><td>NA</td><td>NA</td><td>NA              </td><td>NA</td></tr>\n",
       "\t<tr><td>TIMP-4   </td><td>Olink CARDIOVASCULAR III(v.6112)</td><td>Q99727</td><td>Metalloproteinase inhibitor 4 (TIMP4)                </td><td> 0.3354901</td><td>1.2618060</td><td> 0.09483961</td><td> 0.5761405</td><td> 4.355466</td><td> 2.793760</td><td>0.0071537283</td><td>0.2384576</td><td>-2.4153646</td><td>NA</td><td>NA</td><td>NA              </td><td>NA</td></tr>\n",
       "\t<tr><td>PTN      </td><td>Olink IMMUNO-ONCOLOGY(v.3101)   </td><td>P21246</td><td>Pleiotrophin                                         </td><td> 0.6226384</td><td>1.5396884</td><td> 0.16722012</td><td> 1.0780567</td><td> 4.637789</td><td> 2.739817</td><td>0.0082692527</td><td>0.2412523</td><td>-2.5320086</td><td>NA</td><td>NA</td><td>NA              </td><td>NA</td></tr>\n",
       "\t<tr><td>CSF-1    </td><td>Olink INFLAMMATION(v.3021)      </td><td>P09603</td><td>Macrophage colony-stimulating factor 1 (CSF-1)       </td><td> 0.1662015</td><td>1.1221002</td><td> 0.04333720</td><td> 0.2890657</td><td>10.530419</td><td> 2.710849</td><td>0.0089322750</td><td>0.2412523</td><td>-2.5939624</td><td>NA</td><td>NA</td><td>NA              </td><td>NA</td></tr>\n",
       "\t<tr><td>CXCL9    </td><td>Olink IMMUNO-ONCOLOGY(v.3101)   </td><td>Q07325</td><td>C-X-C motif chemokine 9 (CXCL9 )                     </td><td> 0.6070109</td><td>1.5231002</td><td> 0.14666186</td><td> 1.0673599</td><td> 9.126380</td><td> 2.642441</td><td>0.0106959455</td><td>0.2412523</td><td>-2.7383347</td><td>NA</td><td>NA</td><td>NA              </td><td>NA</td></tr>\n",
       "\t<tr><td>ST1A1    </td><td>Olink INFLAMMATION(v.3021)      </td><td>P50225</td><td>Sulfotransferase 1A1 (ST1A1)                         </td><td>-0.5076920</td><td>0.7033467</td><td>-0.89560065</td><td>-0.1197833</td><td> 4.667047</td><td>-2.622811</td><td>0.0112578420</td><td>0.2412523</td><td>-2.7792567</td><td>NA</td><td>NA</td><td>NA              </td><td>NA</td></tr>\n",
       "\t<tr><td>HO-1     </td><td>Olink IMMUNO-ONCOLOGY(v.3101)   </td><td>P09601</td><td>Heme oxygenase 1                                     </td><td> 0.2830700</td><td>1.2167814</td><td> 0.06475586</td><td> 0.5013842</td><td>12.754245</td><td> 2.598412</td><td>0.0119936870</td><td>0.2412523</td><td>-2.8297977</td><td>NA</td><td>NA</td><td>NA              </td><td>NA</td></tr>\n",
       "\t<tr><td>ST2      </td><td>Olink CARDIOVASCULAR III(v.6112)</td><td>Q01638</td><td>ST2 protein (ST2)                                    </td><td> 0.4508592</td><td>1.3668540</td><td> 0.10007889</td><td> 0.8016394</td><td> 5.426906</td><td> 2.575739</td><td>0.0127165043</td><td>0.2412523</td><td>-2.8764459</td><td>NA</td><td>NA</td><td>NA              </td><td>NA</td></tr>\n",
       "\t<tr><td>MCP-1    </td><td>Olink IMMUNO-ONCOLOGY(v.3101)   </td><td>P13500</td><td>Monocyte chemotactic protein 1 (MCP-1)               </td><td> 0.3504673</td><td>1.2749736</td><td> 0.07641305</td><td> 0.6245216</td><td>11.281477</td><td> 2.562755</td><td>0.0131480549</td><td>0.2412523</td><td>-2.9030199</td><td>NA</td><td>NA</td><td>NA              </td><td>NA</td></tr>\n",
       "\t<tr><td>MB       </td><td>Olink CARDIOVASCULAR III(v.6112)</td><td>P02144</td><td>Myoglobin (MB)                                       </td><td> 0.4438543</td><td>1.3602335</td><td> 0.09481408</td><td> 0.7928945</td><td> 8.373328</td><td> 2.548362</td><td>0.0136419445</td><td>0.2412523</td><td>-2.9323579</td><td>NA</td><td>NA</td><td>NA              </td><td>NA</td></tr>\n",
       "\t<tr><td>PIGF     </td><td>Olink IMMUNO-ONCOLOGY(v.3101)   </td><td>P49763</td><td>Placenta growth factor                               </td><td> 0.2401758</td><td>1.1811366</td><td> 0.05087037</td><td> 0.4294812</td><td> 8.994462</td><td> 2.542508</td><td>0.0138475874</td><td>0.2412523</td><td>-2.9442540</td><td>NA</td><td>NA</td><td>NA              </td><td>NA</td></tr>\n",
       "</tbody>\n",
       "</table>\n"
      ],
      "text/latex": [
       "A tibble: 20 × 17\n",
       "\\begin{tabular}{lllllllllllllllll}\n",
       " Protein & Panel & UniProt ID & Description & logFC & FC & CI.L & CI.R & AveExpr & t & P.Value & adj.P.Val & B & ...14 & ...15 & ...16 & ...17\\\\\n",
       " <chr> & <chr> & <chr> & <chr> & <dbl> & <dbl> & <dbl> & <dbl> & <dbl> & <dbl> & <dbl> & <dbl> & <dbl> & <lgl> & <lgl> & <chr> & <lgl>\\\\\n",
       "\\hline\n",
       "\t NF-L      & Olink NEURO EXPLORATORY(v.3901)  & P07196 & Neurofilamentlightpolypeptide                         &  0.5929488 & 1.5083265 &  0.29436372 &  0.8915339 &  5.155294 &  3.979653 & 0.0002036750 & 0.0814700 &  0.5077088 & NA & NA & NA               & NA\\\\\n",
       "\t IL-8      & Olink INFLAMMATION(v.3021)       & P10145 & Interleukin-8 (IL-8)                                  &  0.5964094 & 1.5119489 &  0.26343010 &  0.9293886 &  5.481614 &  3.589412 & 0.0007057214 & 0.1411443 & -0.5214116 & NA & NA & adj.P.Val < 0.20 & NA\\\\\n",
       "\t VEGF-A    & Olink IMMUNO-ONCOLOGY(v.3101)    & P15692 & Vascular endothelial growth factor A (VEGF-A)         &  0.3374201 & 1.2634951 &  0.13795228 &  0.5368879 &  9.179483 &  3.389957 & 0.0012987893 & 0.1472101 & -1.0241882 & NA & NA & adj.P.Val < 0.25 & NA\\\\\n",
       "\t TNFRSF12A & Olink IMMUNO-ONCOLOGY(v.3101)    & Q9NP84 & Tumor necrosis factor receptor superfamily member 12A &  0.4490206 & 1.3651132 &  0.17381921 &  0.7242220 &  7.306673 &  3.269729 & 0.0018591664 & 0.1472101 & -1.3187988 & NA & NA & FC > 50\\%         & NA\\\\\n",
       "\t CX3CL1    & Olink IMMUNO-ONCOLOGY(v.3101)    & P78423 & Fractalkine (CX3CL1 )                                 &  0.3515657 & 1.2759446 &  0.12949477 &  0.5736367 &  7.038993 &  3.172567 & 0.0024714966 & 0.1472101 & -1.5519533 & NA & NA & NA               & NA\\\\\n",
       "\t LTBR      & Olink CARDIOVASCULAR III(v.6112) & P36941 & Lymphotoxin-beta receptor (LTBR)                      &  0.3463565 & 1.2713458 &  0.12658584 &  0.5661271 &  4.799556 &  3.158274 & 0.0025761761 & 0.1472101 & -1.5858699 & NA & NA & NA               & NA\\\\\n",
       "\t PHOSPHO1  & Olink NEURO EXPLORATORY(v.3901)  & Q8TCT1 & Phosphoethanolamine/phosphocholinephosphatase         &  0.2942856 & 1.2262776 &  0.10392559 &  0.4846457 &  4.573599 &  3.098057 & 0.0030645817 & 0.1532291 & -1.7276460 & NA & NA & NA               & NA\\\\\n",
       "\t MMP-3     & Olink CARDIOVASCULAR III(v.6112) & P08254 & Matrix metalloproteinase-3 (MMP-3)                    &  0.5253266 & 1.4392594 &  0.16857896 &  0.8820743 &  8.516487 &  2.950967 & 0.0046458343 & 0.1845394 & -2.0662171 & NA & NA & NA               & NA\\\\\n",
       "\t CD302     & Olink NEURO EXPLORATORY(v.3901)  & Q8IX05 & CD302 antigen                                         &  0.3570392 & 1.2807947 &  0.11439008 &  0.5996883 &  4.925693 &  2.948718 & 0.0046750619 & 0.1845394 & -2.0713062 & NA & NA & NA               & NA\\\\\n",
       "\t CCL23     & Olink IMMUNO-ONCOLOGY(v.3101)    & P55773 & C-C motif chemokine 23 (CCL23)                        &  0.4013460 & 1.3207395 &  0.12582747 &  0.6768644 & 11.497056 &  2.919203 & 0.0050748324 & 0.1845394 & -2.1378460 & NA & NA & NA               & NA\\\\\n",
       "\t TIMP-4    & Olink CARDIOVASCULAR III(v.6112) & Q99727 & Metalloproteinase inhibitor 4 (TIMP4)                 &  0.3354901 & 1.2618060 &  0.09483961 &  0.5761405 &  4.355466 &  2.793760 & 0.0071537283 & 0.2384576 & -2.4153646 & NA & NA & NA               & NA\\\\\n",
       "\t PTN       & Olink IMMUNO-ONCOLOGY(v.3101)    & P21246 & Pleiotrophin                                          &  0.6226384 & 1.5396884 &  0.16722012 &  1.0780567 &  4.637789 &  2.739817 & 0.0082692527 & 0.2412523 & -2.5320086 & NA & NA & NA               & NA\\\\\n",
       "\t CSF-1     & Olink INFLAMMATION(v.3021)       & P09603 & Macrophage colony-stimulating factor 1 (CSF-1)        &  0.1662015 & 1.1221002 &  0.04333720 &  0.2890657 & 10.530419 &  2.710849 & 0.0089322750 & 0.2412523 & -2.5939624 & NA & NA & NA               & NA\\\\\n",
       "\t CXCL9     & Olink IMMUNO-ONCOLOGY(v.3101)    & Q07325 & C-X-C motif chemokine 9 (CXCL9 )                      &  0.6070109 & 1.5231002 &  0.14666186 &  1.0673599 &  9.126380 &  2.642441 & 0.0106959455 & 0.2412523 & -2.7383347 & NA & NA & NA               & NA\\\\\n",
       "\t ST1A1     & Olink INFLAMMATION(v.3021)       & P50225 & Sulfotransferase 1A1 (ST1A1)                          & -0.5076920 & 0.7033467 & -0.89560065 & -0.1197833 &  4.667047 & -2.622811 & 0.0112578420 & 0.2412523 & -2.7792567 & NA & NA & NA               & NA\\\\\n",
       "\t HO-1      & Olink IMMUNO-ONCOLOGY(v.3101)    & P09601 & Heme oxygenase 1                                      &  0.2830700 & 1.2167814 &  0.06475586 &  0.5013842 & 12.754245 &  2.598412 & 0.0119936870 & 0.2412523 & -2.8297977 & NA & NA & NA               & NA\\\\\n",
       "\t ST2       & Olink CARDIOVASCULAR III(v.6112) & Q01638 & ST2 protein (ST2)                                     &  0.4508592 & 1.3668540 &  0.10007889 &  0.8016394 &  5.426906 &  2.575739 & 0.0127165043 & 0.2412523 & -2.8764459 & NA & NA & NA               & NA\\\\\n",
       "\t MCP-1     & Olink IMMUNO-ONCOLOGY(v.3101)    & P13500 & Monocyte chemotactic protein 1 (MCP-1)                &  0.3504673 & 1.2749736 &  0.07641305 &  0.6245216 & 11.281477 &  2.562755 & 0.0131480549 & 0.2412523 & -2.9030199 & NA & NA & NA               & NA\\\\\n",
       "\t MB        & Olink CARDIOVASCULAR III(v.6112) & P02144 & Myoglobin (MB)                                        &  0.4438543 & 1.3602335 &  0.09481408 &  0.7928945 &  8.373328 &  2.548362 & 0.0136419445 & 0.2412523 & -2.9323579 & NA & NA & NA               & NA\\\\\n",
       "\t PIGF      & Olink IMMUNO-ONCOLOGY(v.3101)    & P49763 & Placenta growth factor                                &  0.2401758 & 1.1811366 &  0.05087037 &  0.4294812 &  8.994462 &  2.542508 & 0.0138475874 & 0.2412523 & -2.9442540 & NA & NA & NA               & NA\\\\\n",
       "\\end{tabular}\n"
      ],
      "text/markdown": [
       "\n",
       "A tibble: 20 × 17\n",
       "\n",
       "| Protein &lt;chr&gt; | Panel &lt;chr&gt; | UniProt ID &lt;chr&gt; | Description &lt;chr&gt; | logFC &lt;dbl&gt; | FC &lt;dbl&gt; | CI.L &lt;dbl&gt; | CI.R &lt;dbl&gt; | AveExpr &lt;dbl&gt; | t &lt;dbl&gt; | P.Value &lt;dbl&gt; | adj.P.Val &lt;dbl&gt; | B &lt;dbl&gt; | ...14 &lt;lgl&gt; | ...15 &lt;lgl&gt; | ...16 &lt;chr&gt; | ...17 &lt;lgl&gt; |\n",
       "|---|---|---|---|---|---|---|---|---|---|---|---|---|---|---|---|---|\n",
       "| NF-L      | Olink NEURO EXPLORATORY(v.3901)  | P07196 | Neurofilamentlightpolypeptide                         |  0.5929488 | 1.5083265 |  0.29436372 |  0.8915339 |  5.155294 |  3.979653 | 0.0002036750 | 0.0814700 |  0.5077088 | NA | NA | NA               | NA |\n",
       "| IL-8      | Olink INFLAMMATION(v.3021)       | P10145 | Interleukin-8 (IL-8)                                  |  0.5964094 | 1.5119489 |  0.26343010 |  0.9293886 |  5.481614 |  3.589412 | 0.0007057214 | 0.1411443 | -0.5214116 | NA | NA | adj.P.Val &lt; 0.20 | NA |\n",
       "| VEGF-A    | Olink IMMUNO-ONCOLOGY(v.3101)    | P15692 | Vascular endothelial growth factor A (VEGF-A)         |  0.3374201 | 1.2634951 |  0.13795228 |  0.5368879 |  9.179483 |  3.389957 | 0.0012987893 | 0.1472101 | -1.0241882 | NA | NA | adj.P.Val &lt; 0.25 | NA |\n",
       "| TNFRSF12A | Olink IMMUNO-ONCOLOGY(v.3101)    | Q9NP84 | Tumor necrosis factor receptor superfamily member 12A |  0.4490206 | 1.3651132 |  0.17381921 |  0.7242220 |  7.306673 |  3.269729 | 0.0018591664 | 0.1472101 | -1.3187988 | NA | NA | FC &gt; 50%         | NA |\n",
       "| CX3CL1    | Olink IMMUNO-ONCOLOGY(v.3101)    | P78423 | Fractalkine (CX3CL1 )                                 |  0.3515657 | 1.2759446 |  0.12949477 |  0.5736367 |  7.038993 |  3.172567 | 0.0024714966 | 0.1472101 | -1.5519533 | NA | NA | NA               | NA |\n",
       "| LTBR      | Olink CARDIOVASCULAR III(v.6112) | P36941 | Lymphotoxin-beta receptor (LTBR)                      |  0.3463565 | 1.2713458 |  0.12658584 |  0.5661271 |  4.799556 |  3.158274 | 0.0025761761 | 0.1472101 | -1.5858699 | NA | NA | NA               | NA |\n",
       "| PHOSPHO1  | Olink NEURO EXPLORATORY(v.3901)  | Q8TCT1 | Phosphoethanolamine/phosphocholinephosphatase         |  0.2942856 | 1.2262776 |  0.10392559 |  0.4846457 |  4.573599 |  3.098057 | 0.0030645817 | 0.1532291 | -1.7276460 | NA | NA | NA               | NA |\n",
       "| MMP-3     | Olink CARDIOVASCULAR III(v.6112) | P08254 | Matrix metalloproteinase-3 (MMP-3)                    |  0.5253266 | 1.4392594 |  0.16857896 |  0.8820743 |  8.516487 |  2.950967 | 0.0046458343 | 0.1845394 | -2.0662171 | NA | NA | NA               | NA |\n",
       "| CD302     | Olink NEURO EXPLORATORY(v.3901)  | Q8IX05 | CD302 antigen                                         |  0.3570392 | 1.2807947 |  0.11439008 |  0.5996883 |  4.925693 |  2.948718 | 0.0046750619 | 0.1845394 | -2.0713062 | NA | NA | NA               | NA |\n",
       "| CCL23     | Olink IMMUNO-ONCOLOGY(v.3101)    | P55773 | C-C motif chemokine 23 (CCL23)                        |  0.4013460 | 1.3207395 |  0.12582747 |  0.6768644 | 11.497056 |  2.919203 | 0.0050748324 | 0.1845394 | -2.1378460 | NA | NA | NA               | NA |\n",
       "| TIMP-4    | Olink CARDIOVASCULAR III(v.6112) | Q99727 | Metalloproteinase inhibitor 4 (TIMP4)                 |  0.3354901 | 1.2618060 |  0.09483961 |  0.5761405 |  4.355466 |  2.793760 | 0.0071537283 | 0.2384576 | -2.4153646 | NA | NA | NA               | NA |\n",
       "| PTN       | Olink IMMUNO-ONCOLOGY(v.3101)    | P21246 | Pleiotrophin                                          |  0.6226384 | 1.5396884 |  0.16722012 |  1.0780567 |  4.637789 |  2.739817 | 0.0082692527 | 0.2412523 | -2.5320086 | NA | NA | NA               | NA |\n",
       "| CSF-1     | Olink INFLAMMATION(v.3021)       | P09603 | Macrophage colony-stimulating factor 1 (CSF-1)        |  0.1662015 | 1.1221002 |  0.04333720 |  0.2890657 | 10.530419 |  2.710849 | 0.0089322750 | 0.2412523 | -2.5939624 | NA | NA | NA               | NA |\n",
       "| CXCL9     | Olink IMMUNO-ONCOLOGY(v.3101)    | Q07325 | C-X-C motif chemokine 9 (CXCL9 )                      |  0.6070109 | 1.5231002 |  0.14666186 |  1.0673599 |  9.126380 |  2.642441 | 0.0106959455 | 0.2412523 | -2.7383347 | NA | NA | NA               | NA |\n",
       "| ST1A1     | Olink INFLAMMATION(v.3021)       | P50225 | Sulfotransferase 1A1 (ST1A1)                          | -0.5076920 | 0.7033467 | -0.89560065 | -0.1197833 |  4.667047 | -2.622811 | 0.0112578420 | 0.2412523 | -2.7792567 | NA | NA | NA               | NA |\n",
       "| HO-1      | Olink IMMUNO-ONCOLOGY(v.3101)    | P09601 | Heme oxygenase 1                                      |  0.2830700 | 1.2167814 |  0.06475586 |  0.5013842 | 12.754245 |  2.598412 | 0.0119936870 | 0.2412523 | -2.8297977 | NA | NA | NA               | NA |\n",
       "| ST2       | Olink CARDIOVASCULAR III(v.6112) | Q01638 | ST2 protein (ST2)                                     |  0.4508592 | 1.3668540 |  0.10007889 |  0.8016394 |  5.426906 |  2.575739 | 0.0127165043 | 0.2412523 | -2.8764459 | NA | NA | NA               | NA |\n",
       "| MCP-1     | Olink IMMUNO-ONCOLOGY(v.3101)    | P13500 | Monocyte chemotactic protein 1 (MCP-1)                |  0.3504673 | 1.2749736 |  0.07641305 |  0.6245216 | 11.281477 |  2.562755 | 0.0131480549 | 0.2412523 | -2.9030199 | NA | NA | NA               | NA |\n",
       "| MB        | Olink CARDIOVASCULAR III(v.6112) | P02144 | Myoglobin (MB)                                        |  0.4438543 | 1.3602335 |  0.09481408 |  0.7928945 |  8.373328 |  2.548362 | 0.0136419445 | 0.2412523 | -2.9323579 | NA | NA | NA               | NA |\n",
       "| PIGF      | Olink IMMUNO-ONCOLOGY(v.3101)    | P49763 | Placenta growth factor                                |  0.2401758 | 1.1811366 |  0.05087037 |  0.4294812 |  8.994462 |  2.542508 | 0.0138475874 | 0.2412523 | -2.9442540 | NA | NA | NA               | NA |\n",
       "\n"
      ],
      "text/plain": [
       "   Protein   Panel                            UniProt ID\n",
       "1  NF-L      Olink NEURO EXPLORATORY(v.3901)  P07196    \n",
       "2  IL-8      Olink INFLAMMATION(v.3021)       P10145    \n",
       "3  VEGF-A    Olink IMMUNO-ONCOLOGY(v.3101)    P15692    \n",
       "4  TNFRSF12A Olink IMMUNO-ONCOLOGY(v.3101)    Q9NP84    \n",
       "5  CX3CL1    Olink IMMUNO-ONCOLOGY(v.3101)    P78423    \n",
       "6  LTBR      Olink CARDIOVASCULAR III(v.6112) P36941    \n",
       "7  PHOSPHO1  Olink NEURO EXPLORATORY(v.3901)  Q8TCT1    \n",
       "8  MMP-3     Olink CARDIOVASCULAR III(v.6112) P08254    \n",
       "9  CD302     Olink NEURO EXPLORATORY(v.3901)  Q8IX05    \n",
       "10 CCL23     Olink IMMUNO-ONCOLOGY(v.3101)    P55773    \n",
       "11 TIMP-4    Olink CARDIOVASCULAR III(v.6112) Q99727    \n",
       "12 PTN       Olink IMMUNO-ONCOLOGY(v.3101)    P21246    \n",
       "13 CSF-1     Olink INFLAMMATION(v.3021)       P09603    \n",
       "14 CXCL9     Olink IMMUNO-ONCOLOGY(v.3101)    Q07325    \n",
       "15 ST1A1     Olink INFLAMMATION(v.3021)       P50225    \n",
       "16 HO-1      Olink IMMUNO-ONCOLOGY(v.3101)    P09601    \n",
       "17 ST2       Olink CARDIOVASCULAR III(v.6112) Q01638    \n",
       "18 MCP-1     Olink IMMUNO-ONCOLOGY(v.3101)    P13500    \n",
       "19 MB        Olink CARDIOVASCULAR III(v.6112) P02144    \n",
       "20 PIGF      Olink IMMUNO-ONCOLOGY(v.3101)    P49763    \n",
       "   Description                                           logFC      FC       \n",
       "1  Neurofilamentlightpolypeptide                          0.5929488 1.5083265\n",
       "2  Interleukin-8 (IL-8)                                   0.5964094 1.5119489\n",
       "3  Vascular endothelial growth factor A (VEGF-A)          0.3374201 1.2634951\n",
       "4  Tumor necrosis factor receptor superfamily member 12A  0.4490206 1.3651132\n",
       "5  Fractalkine (CX3CL1 )                                  0.3515657 1.2759446\n",
       "6  Lymphotoxin-beta receptor (LTBR)                       0.3463565 1.2713458\n",
       "7  Phosphoethanolamine/phosphocholinephosphatase          0.2942856 1.2262776\n",
       "8  Matrix metalloproteinase-3 (MMP-3)                     0.5253266 1.4392594\n",
       "9  CD302 antigen                                          0.3570392 1.2807947\n",
       "10 C-C motif chemokine 23 (CCL23)                         0.4013460 1.3207395\n",
       "11 Metalloproteinase inhibitor 4 (TIMP4)                  0.3354901 1.2618060\n",
       "12 Pleiotrophin                                           0.6226384 1.5396884\n",
       "13 Macrophage colony-stimulating factor 1 (CSF-1)         0.1662015 1.1221002\n",
       "14 C-X-C motif chemokine 9 (CXCL9 )                       0.6070109 1.5231002\n",
       "15 Sulfotransferase 1A1 (ST1A1)                          -0.5076920 0.7033467\n",
       "16 Heme oxygenase 1                                       0.2830700 1.2167814\n",
       "17 ST2 protein (ST2)                                      0.4508592 1.3668540\n",
       "18 Monocyte chemotactic protein 1 (MCP-1)                 0.3504673 1.2749736\n",
       "19 Myoglobin (MB)                                         0.4438543 1.3602335\n",
       "20 Placenta growth factor                                 0.2401758 1.1811366\n",
       "   CI.L        CI.R       AveExpr   t         P.Value      adj.P.Val B         \n",
       "1   0.29436372  0.8915339  5.155294  3.979653 0.0002036750 0.0814700  0.5077088\n",
       "2   0.26343010  0.9293886  5.481614  3.589412 0.0007057214 0.1411443 -0.5214116\n",
       "3   0.13795228  0.5368879  9.179483  3.389957 0.0012987893 0.1472101 -1.0241882\n",
       "4   0.17381921  0.7242220  7.306673  3.269729 0.0018591664 0.1472101 -1.3187988\n",
       "5   0.12949477  0.5736367  7.038993  3.172567 0.0024714966 0.1472101 -1.5519533\n",
       "6   0.12658584  0.5661271  4.799556  3.158274 0.0025761761 0.1472101 -1.5858699\n",
       "7   0.10392559  0.4846457  4.573599  3.098057 0.0030645817 0.1532291 -1.7276460\n",
       "8   0.16857896  0.8820743  8.516487  2.950967 0.0046458343 0.1845394 -2.0662171\n",
       "9   0.11439008  0.5996883  4.925693  2.948718 0.0046750619 0.1845394 -2.0713062\n",
       "10  0.12582747  0.6768644 11.497056  2.919203 0.0050748324 0.1845394 -2.1378460\n",
       "11  0.09483961  0.5761405  4.355466  2.793760 0.0071537283 0.2384576 -2.4153646\n",
       "12  0.16722012  1.0780567  4.637789  2.739817 0.0082692527 0.2412523 -2.5320086\n",
       "13  0.04333720  0.2890657 10.530419  2.710849 0.0089322750 0.2412523 -2.5939624\n",
       "14  0.14666186  1.0673599  9.126380  2.642441 0.0106959455 0.2412523 -2.7383347\n",
       "15 -0.89560065 -0.1197833  4.667047 -2.622811 0.0112578420 0.2412523 -2.7792567\n",
       "16  0.06475586  0.5013842 12.754245  2.598412 0.0119936870 0.2412523 -2.8297977\n",
       "17  0.10007889  0.8016394  5.426906  2.575739 0.0127165043 0.2412523 -2.8764459\n",
       "18  0.07641305  0.6245216 11.281477  2.562755 0.0131480549 0.2412523 -2.9030199\n",
       "19  0.09481408  0.7928945  8.373328  2.548362 0.0136419445 0.2412523 -2.9323579\n",
       "20  0.05087037  0.4294812  8.994462  2.542508 0.0138475874 0.2412523 -2.9442540\n",
       "   ...14 ...15 ...16            ...17\n",
       "1  NA    NA    NA               NA   \n",
       "2  NA    NA    adj.P.Val < 0.20 NA   \n",
       "3  NA    NA    adj.P.Val < 0.25 NA   \n",
       "4  NA    NA    FC > 50%         NA   \n",
       "5  NA    NA    NA               NA   \n",
       "6  NA    NA    NA               NA   \n",
       "7  NA    NA    NA               NA   \n",
       "8  NA    NA    NA               NA   \n",
       "9  NA    NA    NA               NA   \n",
       "10 NA    NA    NA               NA   \n",
       "11 NA    NA    NA               NA   \n",
       "12 NA    NA    NA               NA   \n",
       "13 NA    NA    NA               NA   \n",
       "14 NA    NA    NA               NA   \n",
       "15 NA    NA    NA               NA   \n",
       "16 NA    NA    NA               NA   \n",
       "17 NA    NA    NA               NA   \n",
       "18 NA    NA    NA               NA   \n",
       "19 NA    NA    NA               NA   \n",
       "20 NA    NA    NA               NA   "
      ]
     },
     "metadata": {},
     "output_type": "display_data"
    }
   ],
   "source": [
    "# sort by p-value \n",
    "dim(pub_de_protein_df)\n",
    "head(pub_de_protein_df, decreasing=FALSE, n=20)"
   ]
  },
  {
   "cell_type": "code",
   "execution_count": 35,
   "id": "efeb542c",
   "metadata": {
    "vscode": {
     "languageId": "r"
    }
   },
   "outputs": [],
   "source": [
    "# Get significant protein found in publication\n",
    "pub_de_protein_id <- pub_de_protein_df %>% pull(Protein)"
   ]
  },
  {
   "cell_type": "code",
   "execution_count": 36,
   "id": "4d5f5010",
   "metadata": {
    "vscode": {
     "languageId": "r"
    }
   },
   "outputs": [
    {
     "data": {
      "text/html": [
       "<style>\n",
       ".list-inline {list-style: none; margin:0; padding: 0}\n",
       ".list-inline>li {display: inline-block}\n",
       ".list-inline>li:not(:last-child)::after {content: \"\\00b7\"; padding: 0 .5ex}\n",
       "</style>\n",
       "<ol class=list-inline><li>33</li><li>8</li></ol>\n"
      ],
      "text/latex": [
       "\\begin{enumerate*}\n",
       "\\item 33\n",
       "\\item 8\n",
       "\\end{enumerate*}\n"
      ],
      "text/markdown": [
       "1. 33\n",
       "2. 8\n",
       "\n",
       "\n"
      ],
      "text/plain": [
       "[1] 33  8"
      ]
     },
     "metadata": {},
     "output_type": "display_data"
    },
    {
     "data": {
      "text/html": [
       "<table class=\"dataframe\">\n",
       "<caption>A data.frame: 20 × 8</caption>\n",
       "<thead>\n",
       "\t<tr><th></th><th scope=col>protein</th><th scope=col>logFC</th><th scope=col>AveExpr</th><th scope=col>t</th><th scope=col>P.Value</th><th scope=col>adj.P.Val</th><th scope=col>B</th><th scope=col>FC</th></tr>\n",
       "\t<tr><th></th><th scope=col>&lt;chr&gt;</th><th scope=col>&lt;dbl&gt;</th><th scope=col>&lt;dbl&gt;</th><th scope=col>&lt;dbl&gt;</th><th scope=col>&lt;dbl&gt;</th><th scope=col>&lt;dbl&gt;</th><th scope=col>&lt;dbl&gt;</th><th scope=col>&lt;dbl&gt;</th></tr>\n",
       "</thead>\n",
       "<tbody>\n",
       "\t<tr><th scope=row>1</th><td>NF-L     </td><td> 0.4534274</td><td> 5.155294</td><td> 3.364732</td><td>0.001352144</td><td>0.3156027</td><td>-1.341150</td><td>1.369289</td></tr>\n",
       "\t<tr><th scope=row>2</th><td>IL8.1    </td><td> 0.5106782</td><td> 5.481614</td><td> 3.313615</td><td>0.001578013</td><td>0.3156027</td><td>-1.449758</td><td>1.424720</td></tr>\n",
       "\t<tr><th scope=row>3</th><td>TIMP-4   </td><td> 0.3281241</td><td> 4.355466</td><td> 3.077642</td><td>0.003163809</td><td>0.3590204</td><td>-1.937656</td><td>1.255380</td></tr>\n",
       "\t<tr><th scope=row>4</th><td>IL-8     </td><td> 0.5271722</td><td> 6.236465</td><td> 3.033637</td><td>0.003590204</td><td>0.3590204</td><td>-2.026072</td><td>1.441102</td></tr>\n",
       "\t<tr><th scope=row>5</th><td>MMP-3    </td><td> 0.4600895</td><td> 8.516487</td><td> 2.829248</td><td>0.006367758</td><td>0.3846158</td><td>-2.425405</td><td>1.375627</td></tr>\n",
       "\t<tr><th scope=row>6</th><td>TNFRSF12A</td><td> 0.3518226</td><td> 7.306673</td><td> 2.766111</td><td>0.007564079</td><td>0.3846158</td><td>-2.544839</td><td>1.276172</td></tr>\n",
       "\t<tr><th scope=row>7</th><td>VEGF-A   </td><td> 0.2539972</td><td> 9.179483</td><td> 2.706533</td><td>0.008879147</td><td>0.3846158</td><td>-2.655771</td><td>1.192507</td></tr>\n",
       "\t<tr><th scope=row>8</th><td>CX3CL1   </td><td> 0.2758900</td><td> 7.038993</td><td> 2.704770</td><td>0.008921077</td><td>0.3846158</td><td>-2.659027</td><td>1.210741</td></tr>\n",
       "\t<tr><th scope=row>9</th><td>LTBR     </td><td> 0.2651338</td><td> 4.799556</td><td> 2.677539</td><td>0.009592166</td><td>0.3846158</td><td>-2.709124</td><td>1.201748</td></tr>\n",
       "\t<tr><th scope=row>10</th><td>NOS3     </td><td>-0.3347471</td><td> 1.918295</td><td>-2.646144</td><td>0.010422954</td><td>0.3846158</td><td>-2.766422</td><td>1.261156</td></tr>\n",
       "\t<tr><th scope=row>11</th><td>CXCL9    </td><td> 0.5433219</td><td> 9.126380</td><td> 2.640577</td><td>0.010576935</td><td>0.3846158</td><td>-2.776529</td><td>1.457324</td></tr>\n",
       "\t<tr><th scope=row>12</th><td>CXCL9.1  </td><td> 0.4912530</td><td> 8.556489</td><td> 2.508944</td><td>0.014878394</td><td>0.4437277</td><td>-3.010901</td><td>1.405665</td></tr>\n",
       "\t<tr><th scope=row>13</th><td>PHOSPHO1 </td><td> 0.2147476</td><td> 4.573599</td><td> 2.507569</td><td>0.014930669</td><td>0.4437277</td><td>-3.013302</td><td>1.160501</td></tr>\n",
       "\t<tr><th scope=row>14</th><td>CCL23    </td><td> 0.3079189</td><td>11.497056</td><td> 2.471761</td><td>0.016351897</td><td>0.4437277</td><td>-3.075462</td><td>1.237921</td></tr>\n",
       "\t<tr><th scope=row>15</th><td>MB       </td><td> 0.3773828</td><td> 8.373328</td><td> 2.464161</td><td>0.016668788</td><td>0.4437277</td><td>-3.088567</td><td>1.298983</td></tr>\n",
       "\t<tr><th scope=row>16</th><td>CSF.1.1  </td><td> 0.1328096</td><td>10.530419</td><td> 2.439194</td><td>0.017749110</td><td>0.4437277</td><td>-3.131400</td><td>1.096427</td></tr>\n",
       "\t<tr><th scope=row>17</th><td>IL-17A   </td><td> 0.5246219</td><td> 2.441542</td><td> 2.342046</td><td>0.022576025</td><td>0.5064732</td><td>-3.294834</td><td>1.438557</td></tr>\n",
       "\t<tr><th scope=row>18</th><td>ST2      </td><td> 0.3651258</td><td> 5.426906</td><td> 2.338162</td><td>0.022791294</td><td>0.5064732</td><td>-3.301259</td><td>1.287994</td></tr>\n",
       "\t<tr><th scope=row>19</th><td>TNFRSF4  </td><td> 0.3116343</td><td> 5.030446</td><td> 2.277982</td><td>0.026368501</td><td>0.5507329</td><td>-3.399738</td><td>1.241113</td></tr>\n",
       "\t<tr><th scope=row>20</th><td>KLB      </td><td>-0.4169375</td><td> 4.292602</td><td>-2.227193</td><td>0.029765844</td><td>0.5507329</td><td>-3.481251</td><td>1.335090</td></tr>\n",
       "</tbody>\n",
       "</table>\n"
      ],
      "text/latex": [
       "A data.frame: 20 × 8\n",
       "\\begin{tabular}{r|llllllll}\n",
       "  & protein & logFC & AveExpr & t & P.Value & adj.P.Val & B & FC\\\\\n",
       "  & <chr> & <dbl> & <dbl> & <dbl> & <dbl> & <dbl> & <dbl> & <dbl>\\\\\n",
       "\\hline\n",
       "\t1 & NF-L      &  0.4534274 &  5.155294 &  3.364732 & 0.001352144 & 0.3156027 & -1.341150 & 1.369289\\\\\n",
       "\t2 & IL8.1     &  0.5106782 &  5.481614 &  3.313615 & 0.001578013 & 0.3156027 & -1.449758 & 1.424720\\\\\n",
       "\t3 & TIMP-4    &  0.3281241 &  4.355466 &  3.077642 & 0.003163809 & 0.3590204 & -1.937656 & 1.255380\\\\\n",
       "\t4 & IL-8      &  0.5271722 &  6.236465 &  3.033637 & 0.003590204 & 0.3590204 & -2.026072 & 1.441102\\\\\n",
       "\t5 & MMP-3     &  0.4600895 &  8.516487 &  2.829248 & 0.006367758 & 0.3846158 & -2.425405 & 1.375627\\\\\n",
       "\t6 & TNFRSF12A &  0.3518226 &  7.306673 &  2.766111 & 0.007564079 & 0.3846158 & -2.544839 & 1.276172\\\\\n",
       "\t7 & VEGF-A    &  0.2539972 &  9.179483 &  2.706533 & 0.008879147 & 0.3846158 & -2.655771 & 1.192507\\\\\n",
       "\t8 & CX3CL1    &  0.2758900 &  7.038993 &  2.704770 & 0.008921077 & 0.3846158 & -2.659027 & 1.210741\\\\\n",
       "\t9 & LTBR      &  0.2651338 &  4.799556 &  2.677539 & 0.009592166 & 0.3846158 & -2.709124 & 1.201748\\\\\n",
       "\t10 & NOS3      & -0.3347471 &  1.918295 & -2.646144 & 0.010422954 & 0.3846158 & -2.766422 & 1.261156\\\\\n",
       "\t11 & CXCL9     &  0.5433219 &  9.126380 &  2.640577 & 0.010576935 & 0.3846158 & -2.776529 & 1.457324\\\\\n",
       "\t12 & CXCL9.1   &  0.4912530 &  8.556489 &  2.508944 & 0.014878394 & 0.4437277 & -3.010901 & 1.405665\\\\\n",
       "\t13 & PHOSPHO1  &  0.2147476 &  4.573599 &  2.507569 & 0.014930669 & 0.4437277 & -3.013302 & 1.160501\\\\\n",
       "\t14 & CCL23     &  0.3079189 & 11.497056 &  2.471761 & 0.016351897 & 0.4437277 & -3.075462 & 1.237921\\\\\n",
       "\t15 & MB        &  0.3773828 &  8.373328 &  2.464161 & 0.016668788 & 0.4437277 & -3.088567 & 1.298983\\\\\n",
       "\t16 & CSF.1.1   &  0.1328096 & 10.530419 &  2.439194 & 0.017749110 & 0.4437277 & -3.131400 & 1.096427\\\\\n",
       "\t17 & IL-17A    &  0.5246219 &  2.441542 &  2.342046 & 0.022576025 & 0.5064732 & -3.294834 & 1.438557\\\\\n",
       "\t18 & ST2       &  0.3651258 &  5.426906 &  2.338162 & 0.022791294 & 0.5064732 & -3.301259 & 1.287994\\\\\n",
       "\t19 & TNFRSF4   &  0.3116343 &  5.030446 &  2.277982 & 0.026368501 & 0.5507329 & -3.399738 & 1.241113\\\\\n",
       "\t20 & KLB       & -0.4169375 &  4.292602 & -2.227193 & 0.029765844 & 0.5507329 & -3.481251 & 1.335090\\\\\n",
       "\\end{tabular}\n"
      ],
      "text/markdown": [
       "\n",
       "A data.frame: 20 × 8\n",
       "\n",
       "| <!--/--> | protein &lt;chr&gt; | logFC &lt;dbl&gt; | AveExpr &lt;dbl&gt; | t &lt;dbl&gt; | P.Value &lt;dbl&gt; | adj.P.Val &lt;dbl&gt; | B &lt;dbl&gt; | FC &lt;dbl&gt; |\n",
       "|---|---|---|---|---|---|---|---|---|\n",
       "| 1 | NF-L      |  0.4534274 |  5.155294 |  3.364732 | 0.001352144 | 0.3156027 | -1.341150 | 1.369289 |\n",
       "| 2 | IL8.1     |  0.5106782 |  5.481614 |  3.313615 | 0.001578013 | 0.3156027 | -1.449758 | 1.424720 |\n",
       "| 3 | TIMP-4    |  0.3281241 |  4.355466 |  3.077642 | 0.003163809 | 0.3590204 | -1.937656 | 1.255380 |\n",
       "| 4 | IL-8      |  0.5271722 |  6.236465 |  3.033637 | 0.003590204 | 0.3590204 | -2.026072 | 1.441102 |\n",
       "| 5 | MMP-3     |  0.4600895 |  8.516487 |  2.829248 | 0.006367758 | 0.3846158 | -2.425405 | 1.375627 |\n",
       "| 6 | TNFRSF12A |  0.3518226 |  7.306673 |  2.766111 | 0.007564079 | 0.3846158 | -2.544839 | 1.276172 |\n",
       "| 7 | VEGF-A    |  0.2539972 |  9.179483 |  2.706533 | 0.008879147 | 0.3846158 | -2.655771 | 1.192507 |\n",
       "| 8 | CX3CL1    |  0.2758900 |  7.038993 |  2.704770 | 0.008921077 | 0.3846158 | -2.659027 | 1.210741 |\n",
       "| 9 | LTBR      |  0.2651338 |  4.799556 |  2.677539 | 0.009592166 | 0.3846158 | -2.709124 | 1.201748 |\n",
       "| 10 | NOS3      | -0.3347471 |  1.918295 | -2.646144 | 0.010422954 | 0.3846158 | -2.766422 | 1.261156 |\n",
       "| 11 | CXCL9     |  0.5433219 |  9.126380 |  2.640577 | 0.010576935 | 0.3846158 | -2.776529 | 1.457324 |\n",
       "| 12 | CXCL9.1   |  0.4912530 |  8.556489 |  2.508944 | 0.014878394 | 0.4437277 | -3.010901 | 1.405665 |\n",
       "| 13 | PHOSPHO1  |  0.2147476 |  4.573599 |  2.507569 | 0.014930669 | 0.4437277 | -3.013302 | 1.160501 |\n",
       "| 14 | CCL23     |  0.3079189 | 11.497056 |  2.471761 | 0.016351897 | 0.4437277 | -3.075462 | 1.237921 |\n",
       "| 15 | MB        |  0.3773828 |  8.373328 |  2.464161 | 0.016668788 | 0.4437277 | -3.088567 | 1.298983 |\n",
       "| 16 | CSF.1.1   |  0.1328096 | 10.530419 |  2.439194 | 0.017749110 | 0.4437277 | -3.131400 | 1.096427 |\n",
       "| 17 | IL-17A    |  0.5246219 |  2.441542 |  2.342046 | 0.022576025 | 0.5064732 | -3.294834 | 1.438557 |\n",
       "| 18 | ST2       |  0.3651258 |  5.426906 |  2.338162 | 0.022791294 | 0.5064732 | -3.301259 | 1.287994 |\n",
       "| 19 | TNFRSF4   |  0.3116343 |  5.030446 |  2.277982 | 0.026368501 | 0.5507329 | -3.399738 | 1.241113 |\n",
       "| 20 | KLB       | -0.4169375 |  4.292602 | -2.227193 | 0.029765844 | 0.5507329 | -3.481251 | 1.335090 |\n",
       "\n"
      ],
      "text/plain": [
       "   protein   logFC      AveExpr   t         P.Value     adj.P.Val B        \n",
       "1  NF-L       0.4534274  5.155294  3.364732 0.001352144 0.3156027 -1.341150\n",
       "2  IL8.1      0.5106782  5.481614  3.313615 0.001578013 0.3156027 -1.449758\n",
       "3  TIMP-4     0.3281241  4.355466  3.077642 0.003163809 0.3590204 -1.937656\n",
       "4  IL-8       0.5271722  6.236465  3.033637 0.003590204 0.3590204 -2.026072\n",
       "5  MMP-3      0.4600895  8.516487  2.829248 0.006367758 0.3846158 -2.425405\n",
       "6  TNFRSF12A  0.3518226  7.306673  2.766111 0.007564079 0.3846158 -2.544839\n",
       "7  VEGF-A     0.2539972  9.179483  2.706533 0.008879147 0.3846158 -2.655771\n",
       "8  CX3CL1     0.2758900  7.038993  2.704770 0.008921077 0.3846158 -2.659027\n",
       "9  LTBR       0.2651338  4.799556  2.677539 0.009592166 0.3846158 -2.709124\n",
       "10 NOS3      -0.3347471  1.918295 -2.646144 0.010422954 0.3846158 -2.766422\n",
       "11 CXCL9      0.5433219  9.126380  2.640577 0.010576935 0.3846158 -2.776529\n",
       "12 CXCL9.1    0.4912530  8.556489  2.508944 0.014878394 0.4437277 -3.010901\n",
       "13 PHOSPHO1   0.2147476  4.573599  2.507569 0.014930669 0.4437277 -3.013302\n",
       "14 CCL23      0.3079189 11.497056  2.471761 0.016351897 0.4437277 -3.075462\n",
       "15 MB         0.3773828  8.373328  2.464161 0.016668788 0.4437277 -3.088567\n",
       "16 CSF.1.1    0.1328096 10.530419  2.439194 0.017749110 0.4437277 -3.131400\n",
       "17 IL-17A     0.5246219  2.441542  2.342046 0.022576025 0.5064732 -3.294834\n",
       "18 ST2        0.3651258  5.426906  2.338162 0.022791294 0.5064732 -3.301259\n",
       "19 TNFRSF4    0.3116343  5.030446  2.277982 0.026368501 0.5507329 -3.399738\n",
       "20 KLB       -0.4169375  4.292602 -2.227193 0.029765844 0.5507329 -3.481251\n",
       "   FC      \n",
       "1  1.369289\n",
       "2  1.424720\n",
       "3  1.255380\n",
       "4  1.441102\n",
       "5  1.375627\n",
       "6  1.276172\n",
       "7  1.192507\n",
       "8  1.210741\n",
       "9  1.201748\n",
       "10 1.261156\n",
       "11 1.457324\n",
       "12 1.405665\n",
       "13 1.160501\n",
       "14 1.237921\n",
       "15 1.298983\n",
       "16 1.096427\n",
       "17 1.438557\n",
       "18 1.287994\n",
       "19 1.241113\n",
       "20 1.335090"
      ]
     },
     "metadata": {},
     "output_type": "display_data"
    }
   ],
   "source": [
    "# Get significant proteins from our analysis\n",
    "# This paper notes that their significance was based on p-value not adjusted p-value\n",
    "threshold <- 0.05\n",
    "de_protein_df <- results_df[results_df[,'P.Value']<threshold & abs(results_df[,'FC'])>0.1,]\n",
    "\n",
    "dim(de_protein_df)\n",
    "head(de_protein_df, n=20)"
   ]
  },
  {
   "cell_type": "code",
   "execution_count": 37,
   "id": "c22492da",
   "metadata": {
    "scrolled": true,
    "vscode": {
     "languageId": "r"
    }
   },
   "outputs": [],
   "source": [
    "de_protein_id <- de_protein_df %>% pull(protein)"
   ]
  },
  {
   "cell_type": "code",
   "execution_count": 38,
   "id": "2f0dae0e",
   "metadata": {
    "scrolled": true,
    "vscode": {
     "languageId": "r"
    }
   },
   "outputs": [
    {
     "data": {
      "text/html": [
       "<style>\n",
       ".list-inline {list-style: none; margin:0; padding: 0}\n",
       ".list-inline>li {display: inline-block}\n",
       ".list-inline>li:not(:last-child)::after {content: \"\\00b7\"; padding: 0 .5ex}\n",
       "</style>\n",
       "<ol class=list-inline><li>'NF-L'</li><li>'IL-8'</li><li>'VEGF-A'</li><li>'TNFRSF12A'</li><li>'CX3CL1'</li><li>'LTBR'</li><li>'PHOSPHO1'</li><li>'MMP-3'</li><li>'CD302'</li><li>'CCL23'</li><li>'TIMP-4'</li><li>'PTN'</li><li>'CSF-1'</li><li>'CXCL9'</li><li>'ST1A1'</li><li>'HO-1'</li><li>'ST2'</li><li>'MCP-1'</li><li>'MB'</li><li>'PIGF'</li><li>'TNFRSF4'</li><li>'EPHB4'</li><li>'FGF-21'</li><li>'HL-1'</li><li>'TNF-R1'</li><li>'TFF3'</li><li>'SNCG'</li><li>'TGF-alpha'</li><li>'DCN'</li><li>'CD27'</li><li>'NOS3'</li><li>'NCR1'</li><li>'IGFBP-2'</li><li>'MMP-7'</li><li>'CETN2'</li><li>'SIRL-1'</li><li>'PD-L1'</li><li>'GDF-15'</li><li>'FASLG'</li><li>'TNF-alpha'</li><li>'IL-17A'</li><li>'PRTFDC1'</li><li>'Gal-1'</li><li>'FKBP-7'</li></ol>\n"
      ],
      "text/latex": [
       "\\begin{enumerate*}\n",
       "\\item 'NF-L'\n",
       "\\item 'IL-8'\n",
       "\\item 'VEGF-A'\n",
       "\\item 'TNFRSF12A'\n",
       "\\item 'CX3CL1'\n",
       "\\item 'LTBR'\n",
       "\\item 'PHOSPHO1'\n",
       "\\item 'MMP-3'\n",
       "\\item 'CD302'\n",
       "\\item 'CCL23'\n",
       "\\item 'TIMP-4'\n",
       "\\item 'PTN'\n",
       "\\item 'CSF-1'\n",
       "\\item 'CXCL9'\n",
       "\\item 'ST1A1'\n",
       "\\item 'HO-1'\n",
       "\\item 'ST2'\n",
       "\\item 'MCP-1'\n",
       "\\item 'MB'\n",
       "\\item 'PIGF'\n",
       "\\item 'TNFRSF4'\n",
       "\\item 'EPHB4'\n",
       "\\item 'FGF-21'\n",
       "\\item 'HL-1'\n",
       "\\item 'TNF-R1'\n",
       "\\item 'TFF3'\n",
       "\\item 'SNCG'\n",
       "\\item 'TGF-alpha'\n",
       "\\item 'DCN'\n",
       "\\item 'CD27'\n",
       "\\item 'NOS3'\n",
       "\\item 'NCR1'\n",
       "\\item 'IGFBP-2'\n",
       "\\item 'MMP-7'\n",
       "\\item 'CETN2'\n",
       "\\item 'SIRL-1'\n",
       "\\item 'PD-L1'\n",
       "\\item 'GDF-15'\n",
       "\\item 'FASLG'\n",
       "\\item 'TNF-alpha'\n",
       "\\item 'IL-17A'\n",
       "\\item 'PRTFDC1'\n",
       "\\item 'Gal-1'\n",
       "\\item 'FKBP-7'\n",
       "\\end{enumerate*}\n"
      ],
      "text/markdown": [
       "1. 'NF-L'\n",
       "2. 'IL-8'\n",
       "3. 'VEGF-A'\n",
       "4. 'TNFRSF12A'\n",
       "5. 'CX3CL1'\n",
       "6. 'LTBR'\n",
       "7. 'PHOSPHO1'\n",
       "8. 'MMP-3'\n",
       "9. 'CD302'\n",
       "10. 'CCL23'\n",
       "11. 'TIMP-4'\n",
       "12. 'PTN'\n",
       "13. 'CSF-1'\n",
       "14. 'CXCL9'\n",
       "15. 'ST1A1'\n",
       "16. 'HO-1'\n",
       "17. 'ST2'\n",
       "18. 'MCP-1'\n",
       "19. 'MB'\n",
       "20. 'PIGF'\n",
       "21. 'TNFRSF4'\n",
       "22. 'EPHB4'\n",
       "23. 'FGF-21'\n",
       "24. 'HL-1'\n",
       "25. 'TNF-R1'\n",
       "26. 'TFF3'\n",
       "27. 'SNCG'\n",
       "28. 'TGF-alpha'\n",
       "29. 'DCN'\n",
       "30. 'CD27'\n",
       "31. 'NOS3'\n",
       "32. 'NCR1'\n",
       "33. 'IGFBP-2'\n",
       "34. 'MMP-7'\n",
       "35. 'CETN2'\n",
       "36. 'SIRL-1'\n",
       "37. 'PD-L1'\n",
       "38. 'GDF-15'\n",
       "39. 'FASLG'\n",
       "40. 'TNF-alpha'\n",
       "41. 'IL-17A'\n",
       "42. 'PRTFDC1'\n",
       "43. 'Gal-1'\n",
       "44. 'FKBP-7'\n",
       "\n",
       "\n"
      ],
      "text/plain": [
       " [1] \"NF-L\"      \"IL-8\"      \"VEGF-A\"    \"TNFRSF12A\" \"CX3CL1\"    \"LTBR\"     \n",
       " [7] \"PHOSPHO1\"  \"MMP-3\"     \"CD302\"     \"CCL23\"     \"TIMP-4\"    \"PTN\"      \n",
       "[13] \"CSF-1\"     \"CXCL9\"     \"ST1A1\"     \"HO-1\"      \"ST2\"       \"MCP-1\"    \n",
       "[19] \"MB\"        \"PIGF\"      \"TNFRSF4\"   \"EPHB4\"     \"FGF-21\"    \"HL-1\"     \n",
       "[25] \"TNF-R1\"    \"TFF3\"      \"SNCG\"      \"TGF-alpha\" \"DCN\"       \"CD27\"     \n",
       "[31] \"NOS3\"      \"NCR1\"      \"IGFBP-2\"   \"MMP-7\"     \"CETN2\"     \"SIRL-1\"   \n",
       "[37] \"PD-L1\"     \"GDF-15\"    \"FASLG\"     \"TNF-alpha\" \"IL-17A\"    \"PRTFDC1\"  \n",
       "[43] \"Gal-1\"     \"FKBP-7\"   "
      ]
     },
     "metadata": {},
     "output_type": "display_data"
    }
   ],
   "source": [
    "pub_de_protein_id"
   ]
  },
  {
   "cell_type": "code",
   "execution_count": 39,
   "id": "a2164d09",
   "metadata": {
    "vscode": {
     "languageId": "r"
    }
   },
   "outputs": [
    {
     "data": {
      "text/html": [
       "<style>\n",
       ".list-inline {list-style: none; margin:0; padding: 0}\n",
       ".list-inline>li {display: inline-block}\n",
       ".list-inline>li:not(:last-child)::after {content: \"\\00b7\"; padding: 0 .5ex}\n",
       "</style>\n",
       "<ol class=list-inline><li>'NF-L'</li><li>'IL8.1'</li><li>'TIMP-4'</li><li>'IL-8'</li><li>'MMP-3'</li><li>'TNFRSF12A'</li><li>'VEGF-A'</li><li>'CX3CL1'</li><li>'LTBR'</li><li>'NOS3'</li><li>'CXCL9'</li><li>'CXCL9.1'</li><li>'PHOSPHO1'</li><li>'CCL23'</li><li>'MB'</li><li>'CSF.1.1'</li><li>'IL-17A'</li><li>'ST2'</li><li>'TNFRSF4'</li><li>'KLB'</li><li>'MCP.2'</li><li>'CSF-1'</li><li>'ST1A1'</li><li>'FCGR2A'</li><li>'VEGFA.1'</li><li>'CCL23.1'</li><li>'OPG.1'</li><li>'CD6'</li><li>'GDNF'</li><li>'MCP.1.1'</li><li>'SIRL-1'</li><li>'NCR1'</li><li>'DNER'</li></ol>\n"
      ],
      "text/latex": [
       "\\begin{enumerate*}\n",
       "\\item 'NF-L'\n",
       "\\item 'IL8.1'\n",
       "\\item 'TIMP-4'\n",
       "\\item 'IL-8'\n",
       "\\item 'MMP-3'\n",
       "\\item 'TNFRSF12A'\n",
       "\\item 'VEGF-A'\n",
       "\\item 'CX3CL1'\n",
       "\\item 'LTBR'\n",
       "\\item 'NOS3'\n",
       "\\item 'CXCL9'\n",
       "\\item 'CXCL9.1'\n",
       "\\item 'PHOSPHO1'\n",
       "\\item 'CCL23'\n",
       "\\item 'MB'\n",
       "\\item 'CSF.1.1'\n",
       "\\item 'IL-17A'\n",
       "\\item 'ST2'\n",
       "\\item 'TNFRSF4'\n",
       "\\item 'KLB'\n",
       "\\item 'MCP.2'\n",
       "\\item 'CSF-1'\n",
       "\\item 'ST1A1'\n",
       "\\item 'FCGR2A'\n",
       "\\item 'VEGFA.1'\n",
       "\\item 'CCL23.1'\n",
       "\\item 'OPG.1'\n",
       "\\item 'CD6'\n",
       "\\item 'GDNF'\n",
       "\\item 'MCP.1.1'\n",
       "\\item 'SIRL-1'\n",
       "\\item 'NCR1'\n",
       "\\item 'DNER'\n",
       "\\end{enumerate*}\n"
      ],
      "text/markdown": [
       "1. 'NF-L'\n",
       "2. 'IL8.1'\n",
       "3. 'TIMP-4'\n",
       "4. 'IL-8'\n",
       "5. 'MMP-3'\n",
       "6. 'TNFRSF12A'\n",
       "7. 'VEGF-A'\n",
       "8. 'CX3CL1'\n",
       "9. 'LTBR'\n",
       "10. 'NOS3'\n",
       "11. 'CXCL9'\n",
       "12. 'CXCL9.1'\n",
       "13. 'PHOSPHO1'\n",
       "14. 'CCL23'\n",
       "15. 'MB'\n",
       "16. 'CSF.1.1'\n",
       "17. 'IL-17A'\n",
       "18. 'ST2'\n",
       "19. 'TNFRSF4'\n",
       "20. 'KLB'\n",
       "21. 'MCP.2'\n",
       "22. 'CSF-1'\n",
       "23. 'ST1A1'\n",
       "24. 'FCGR2A'\n",
       "25. 'VEGFA.1'\n",
       "26. 'CCL23.1'\n",
       "27. 'OPG.1'\n",
       "28. 'CD6'\n",
       "29. 'GDNF'\n",
       "30. 'MCP.1.1'\n",
       "31. 'SIRL-1'\n",
       "32. 'NCR1'\n",
       "33. 'DNER'\n",
       "\n",
       "\n"
      ],
      "text/plain": [
       " [1] \"NF-L\"      \"IL8.1\"     \"TIMP-4\"    \"IL-8\"      \"MMP-3\"     \"TNFRSF12A\"\n",
       " [7] \"VEGF-A\"    \"CX3CL1\"    \"LTBR\"      \"NOS3\"      \"CXCL9\"     \"CXCL9.1\"  \n",
       "[13] \"PHOSPHO1\"  \"CCL23\"     \"MB\"        \"CSF.1.1\"   \"IL-17A\"    \"ST2\"      \n",
       "[19] \"TNFRSF4\"   \"KLB\"       \"MCP.2\"     \"CSF-1\"     \"ST1A1\"     \"FCGR2A\"   \n",
       "[25] \"VEGFA.1\"   \"CCL23.1\"   \"OPG.1\"     \"CD6\"       \"GDNF\"      \"MCP.1.1\"  \n",
       "[31] \"SIRL-1\"    \"NCR1\"      \"DNER\"     "
      ]
     },
     "metadata": {},
     "output_type": "display_data"
    }
   ],
   "source": [
    "de_protein_id"
   ]
  },
  {
   "cell_type": "code",
   "execution_count": 40,
   "id": "fa780978",
   "metadata": {
    "vscode": {
     "languageId": "r"
    }
   },
   "outputs": [
    {
     "data": {
      "text/html": [
       "20"
      ],
      "text/latex": [
       "20"
      ],
      "text/markdown": [
       "20"
      ],
      "text/plain": [
       "[1] 20"
      ]
     },
     "metadata": {},
     "output_type": "display_data"
    },
    {
     "data": {
      "text/html": [
       "<style>\n",
       ".list-inline {list-style: none; margin:0; padding: 0}\n",
       ".list-inline>li {display: inline-block}\n",
       ".list-inline>li:not(:last-child)::after {content: \"\\00b7\"; padding: 0 .5ex}\n",
       "</style>\n",
       "<ol class=list-inline><li>'NF-L'</li><li>'TIMP-4'</li><li>'IL-8'</li><li>'MMP-3'</li><li>'TNFRSF12A'</li><li>'VEGF-A'</li><li>'CX3CL1'</li><li>'LTBR'</li><li>'NOS3'</li><li>'CXCL9'</li><li>'PHOSPHO1'</li><li>'CCL23'</li><li>'MB'</li><li>'IL-17A'</li><li>'ST2'</li><li>'TNFRSF4'</li><li>'CSF-1'</li><li>'ST1A1'</li><li>'SIRL-1'</li><li>'NCR1'</li></ol>\n"
      ],
      "text/latex": [
       "\\begin{enumerate*}\n",
       "\\item 'NF-L'\n",
       "\\item 'TIMP-4'\n",
       "\\item 'IL-8'\n",
       "\\item 'MMP-3'\n",
       "\\item 'TNFRSF12A'\n",
       "\\item 'VEGF-A'\n",
       "\\item 'CX3CL1'\n",
       "\\item 'LTBR'\n",
       "\\item 'NOS3'\n",
       "\\item 'CXCL9'\n",
       "\\item 'PHOSPHO1'\n",
       "\\item 'CCL23'\n",
       "\\item 'MB'\n",
       "\\item 'IL-17A'\n",
       "\\item 'ST2'\n",
       "\\item 'TNFRSF4'\n",
       "\\item 'CSF-1'\n",
       "\\item 'ST1A1'\n",
       "\\item 'SIRL-1'\n",
       "\\item 'NCR1'\n",
       "\\end{enumerate*}\n"
      ],
      "text/markdown": [
       "1. 'NF-L'\n",
       "2. 'TIMP-4'\n",
       "3. 'IL-8'\n",
       "4. 'MMP-3'\n",
       "5. 'TNFRSF12A'\n",
       "6. 'VEGF-A'\n",
       "7. 'CX3CL1'\n",
       "8. 'LTBR'\n",
       "9. 'NOS3'\n",
       "10. 'CXCL9'\n",
       "11. 'PHOSPHO1'\n",
       "12. 'CCL23'\n",
       "13. 'MB'\n",
       "14. 'IL-17A'\n",
       "15. 'ST2'\n",
       "16. 'TNFRSF4'\n",
       "17. 'CSF-1'\n",
       "18. 'ST1A1'\n",
       "19. 'SIRL-1'\n",
       "20. 'NCR1'\n",
       "\n",
       "\n"
      ],
      "text/plain": [
       " [1] \"NF-L\"      \"TIMP-4\"    \"IL-8\"      \"MMP-3\"     \"TNFRSF12A\" \"VEGF-A\"   \n",
       " [7] \"CX3CL1\"    \"LTBR\"      \"NOS3\"      \"CXCL9\"     \"PHOSPHO1\"  \"CCL23\"    \n",
       "[13] \"MB\"        \"IL-17A\"    \"ST2\"       \"TNFRSF4\"   \"CSF-1\"     \"ST1A1\"    \n",
       "[19] \"SIRL-1\"    \"NCR1\"     "
      ]
     },
     "metadata": {},
     "output_type": "display_data"
    }
   ],
   "source": [
    "# Compare\n",
    "shared_protein_ids <- intersect(de_protein_id, pub_de_protein_id)\n",
    "\n",
    "length(shared_protein_ids)\n",
    "shared_protein_ids"
   ]
  },
  {
   "cell_type": "markdown",
   "id": "cd8ee453",
   "metadata": {},
   "source": [
    "Publication found 44 DE proteins, reported in Supplementary Table 2. \n",
    "\n",
    "According to the paper:\n",
    "\n",
    "*A total of 44 proteins were significantly altered in MCI-progressors versus MCI-stable (P < 0.05), controlling for age, sex and baseline CDR-SOB (Fig. 1B, Supplementary Table 2). None of these were significant after multiple comparison corrections. These 44 differentially expressed proteins were all increased in MCI-progressors versus MCI-stable, except for PRTFDC1, ST1A1, CETN2 and NOS3, which were decreased. The proteins were primarily representative of inflammatory/chemotaxis (CCL23, CSF-1, CX3CL1, CXCL9, IL-8, LTBR, MCP-1, ST2, TNFRSF12A), extracellular matrix (MMP-3, PTN and TIMP-4), neurodegeneration (NF-L) and vascular processes (PGF, MB and VEGFA).* \n",
    "\n",
    "Our re-analysis of the data identified 33 proteins as differentially expressed with 20/33 being consistent with the publication. The exact overlap is likely due to some ambiguous information in the methods making it difficult to determine how covariates were used and what normalization was performed."
   ]
  },
  {
   "cell_type": "markdown",
   "id": "f4fef4e1",
   "metadata": {},
   "source": [
    "## 8. Export tabular results for all proteins to the platform"
   ]
  },
  {
   "cell_type": "code",
   "execution_count": 41,
   "id": "2df21629",
   "metadata": {
    "vscode": {
     "languageId": "r"
    }
   },
   "outputs": [],
   "source": [
    "write.csv(de_protein_df, file = \"de_results.csv\")\n",
    "system(paste(\"dx upload\", deseq_results_file, \"--destination\", output_dir))"
   ]
  },
  {
   "cell_type": "code",
   "execution_count": null,
   "id": "4c5bc310",
   "metadata": {
    "vscode": {
     "languageId": "r"
    }
   },
   "outputs": [],
   "source": []
  }
 ],
 "metadata": {
  "kernelspec": {
   "display_name": "R",
   "language": "R",
   "name": "ir"
  },
  "language_info": {
   "codemirror_mode": "r",
   "file_extension": ".r",
   "mimetype": "text/x-r-source",
   "name": "R",
   "pygments_lexer": "r",
   "version": "4.2.2"
  }
 },
 "nbformat": 4,
 "nbformat_minor": 5
}
