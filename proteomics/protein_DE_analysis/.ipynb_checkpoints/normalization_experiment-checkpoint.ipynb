{
 "cells": [
  {
   "cell_type": "markdown",
   "id": "6124a3ec",
   "metadata": {},
   "source": [
    "# Normalization experiment\n",
    "\n",
    "This notebook compares the differentially expressed proteins identified using NPX data that has been normalized vs unnormalized to determine if there is a difference in the results."
   ]
  },
  {
   "cell_type": "code",
   "execution_count": 1,
   "id": "b7243103",
   "metadata": {},
   "outputs": [
    {
     "name": "stderr",
     "output_type": "stream",
     "text": [
      "\n",
      "Attaching package: ‘dplyr’\n",
      "\n",
      "\n",
      "The following objects are masked from ‘package:stats’:\n",
      "\n",
      "    filter, lag\n",
      "\n",
      "\n",
      "The following objects are masked from ‘package:base’:\n",
      "\n",
      "    intersect, setdiff, setequal, union\n",
      "\n",
      "\n"
     ]
    }
   ],
   "source": [
    "library(readr)\n",
    "library(magrittr)\n",
    "library(dplyr)"
   ]
  },
  {
   "cell_type": "code",
   "execution_count": 2,
   "id": "c2d50919",
   "metadata": {},
   "outputs": [],
   "source": [
    "# Input files\n",
    "results_file <- \"de_results.csv\"\n",
    "results_normalized_file <- \"de_results_normalized.csv\""
   ]
  },
  {
   "cell_type": "code",
   "execution_count": 3,
   "id": "41476bf2",
   "metadata": {},
   "outputs": [
    {
     "name": "stderr",
     "output_type": "stream",
     "text": [
      "\u001b[1m\u001b[22mNew names:\n",
      "\u001b[36m•\u001b[39m `` -> `...1`\n",
      "\u001b[1m\u001b[22mNew names:\n",
      "\u001b[36m•\u001b[39m `` -> `...1`\n"
     ]
    }
   ],
   "source": [
    "# Read\n",
    "results_df <- read_csv(results_file, show_col_types = FALSE)\n",
    "results_normalized_df <- read_csv(results_normalized_file, show_col_types = FALSE)"
   ]
  },
  {
   "cell_type": "code",
   "execution_count": 4,
   "id": "4351afec",
   "metadata": {},
   "outputs": [],
   "source": [
    "# Get DE proteins\n",
    "de_results_id <- results_df %>% pull(protein)\n",
    "de_results_normalized_id <- results_normalized_df %>% pull(protein)"
   ]
  },
  {
   "cell_type": "code",
   "execution_count": 5,
   "id": "8babb091",
   "metadata": {},
   "outputs": [
    {
     "data": {
      "text/html": [
       "33"
      ],
      "text/latex": [
       "33"
      ],
      "text/markdown": [
       "33"
      ],
      "text/plain": [
       "[1] 33"
      ]
     },
     "metadata": {},
     "output_type": "display_data"
    },
    {
     "data": {
      "text/html": [
       "35"
      ],
      "text/latex": [
       "35"
      ],
      "text/markdown": [
       "35"
      ],
      "text/plain": [
       "[1] 35"
      ]
     },
     "metadata": {},
     "output_type": "display_data"
    }
   ],
   "source": [
    "length(de_results_id)\n",
    "length(de_results_normalized_id)"
   ]
  },
  {
   "cell_type": "code",
   "execution_count": 6,
   "id": "f3550b6f",
   "metadata": {},
   "outputs": [
    {
     "data": {
      "text/html": [
       "33"
      ],
      "text/latex": [
       "33"
      ],
      "text/markdown": [
       "33"
      ],
      "text/plain": [
       "[1] 33"
      ]
     },
     "metadata": {},
     "output_type": "display_data"
    },
    {
     "data": {
      "text/html": [
       "<style>\n",
       ".list-inline {list-style: none; margin:0; padding: 0}\n",
       ".list-inline>li {display: inline-block}\n",
       ".list-inline>li:not(:last-child)::after {content: \"\\00b7\"; padding: 0 .5ex}\n",
       "</style>\n",
       "<ol class=list-inline><li>'NF-L'</li><li>'IL8.1'</li><li>'TIMP-4'</li><li>'IL-8'</li><li>'MMP-3'</li><li>'TNFRSF12A'</li><li>'VEGF-A'</li><li>'CX3CL1'</li><li>'LTBR'</li><li>'NOS3'</li><li>'CXCL9'</li><li>'CXCL9.1'</li><li>'PHOSPHO1'</li><li>'CCL23'</li><li>'MB'</li><li>'CSF.1.1'</li><li>'IL-17A'</li><li>'ST2'</li><li>'TNFRSF4'</li><li>'KLB'</li><li>'MCP.2'</li><li>'CSF-1'</li><li>'ST1A1'</li><li>'FCGR2A'</li><li>'VEGFA.1'</li><li>'CCL23.1'</li><li>'OPG.1'</li><li>'CD6'</li><li>'GDNF'</li><li>'MCP.1.1'</li><li>'SIRL-1'</li><li>'NCR1'</li><li>'DNER'</li></ol>\n"
      ],
      "text/latex": [
       "\\begin{enumerate*}\n",
       "\\item 'NF-L'\n",
       "\\item 'IL8.1'\n",
       "\\item 'TIMP-4'\n",
       "\\item 'IL-8'\n",
       "\\item 'MMP-3'\n",
       "\\item 'TNFRSF12A'\n",
       "\\item 'VEGF-A'\n",
       "\\item 'CX3CL1'\n",
       "\\item 'LTBR'\n",
       "\\item 'NOS3'\n",
       "\\item 'CXCL9'\n",
       "\\item 'CXCL9.1'\n",
       "\\item 'PHOSPHO1'\n",
       "\\item 'CCL23'\n",
       "\\item 'MB'\n",
       "\\item 'CSF.1.1'\n",
       "\\item 'IL-17A'\n",
       "\\item 'ST2'\n",
       "\\item 'TNFRSF4'\n",
       "\\item 'KLB'\n",
       "\\item 'MCP.2'\n",
       "\\item 'CSF-1'\n",
       "\\item 'ST1A1'\n",
       "\\item 'FCGR2A'\n",
       "\\item 'VEGFA.1'\n",
       "\\item 'CCL23.1'\n",
       "\\item 'OPG.1'\n",
       "\\item 'CD6'\n",
       "\\item 'GDNF'\n",
       "\\item 'MCP.1.1'\n",
       "\\item 'SIRL-1'\n",
       "\\item 'NCR1'\n",
       "\\item 'DNER'\n",
       "\\end{enumerate*}\n"
      ],
      "text/markdown": [
       "1. 'NF-L'\n",
       "2. 'IL8.1'\n",
       "3. 'TIMP-4'\n",
       "4. 'IL-8'\n",
       "5. 'MMP-3'\n",
       "6. 'TNFRSF12A'\n",
       "7. 'VEGF-A'\n",
       "8. 'CX3CL1'\n",
       "9. 'LTBR'\n",
       "10. 'NOS3'\n",
       "11. 'CXCL9'\n",
       "12. 'CXCL9.1'\n",
       "13. 'PHOSPHO1'\n",
       "14. 'CCL23'\n",
       "15. 'MB'\n",
       "16. 'CSF.1.1'\n",
       "17. 'IL-17A'\n",
       "18. 'ST2'\n",
       "19. 'TNFRSF4'\n",
       "20. 'KLB'\n",
       "21. 'MCP.2'\n",
       "22. 'CSF-1'\n",
       "23. 'ST1A1'\n",
       "24. 'FCGR2A'\n",
       "25. 'VEGFA.1'\n",
       "26. 'CCL23.1'\n",
       "27. 'OPG.1'\n",
       "28. 'CD6'\n",
       "29. 'GDNF'\n",
       "30. 'MCP.1.1'\n",
       "31. 'SIRL-1'\n",
       "32. 'NCR1'\n",
       "33. 'DNER'\n",
       "\n",
       "\n"
      ],
      "text/plain": [
       " [1] \"NF-L\"      \"IL8.1\"     \"TIMP-4\"    \"IL-8\"      \"MMP-3\"     \"TNFRSF12A\"\n",
       " [7] \"VEGF-A\"    \"CX3CL1\"    \"LTBR\"      \"NOS3\"      \"CXCL9\"     \"CXCL9.1\"  \n",
       "[13] \"PHOSPHO1\"  \"CCL23\"     \"MB\"        \"CSF.1.1\"   \"IL-17A\"    \"ST2\"      \n",
       "[19] \"TNFRSF4\"   \"KLB\"       \"MCP.2\"     \"CSF-1\"     \"ST1A1\"     \"FCGR2A\"   \n",
       "[25] \"VEGFA.1\"   \"CCL23.1\"   \"OPG.1\"     \"CD6\"       \"GDNF\"      \"MCP.1.1\"  \n",
       "[31] \"SIRL-1\"    \"NCR1\"      \"DNER\"     "
      ]
     },
     "metadata": {},
     "output_type": "display_data"
    }
   ],
   "source": [
    "# Compare number and proteins found\n",
    "shared_protein_ids <- intersect(de_results_id, de_results_normalized_id)\n",
    "\n",
    "length(shared_protein_ids)\n",
    "shared_protein_ids"
   ]
  },
  {
   "cell_type": "markdown",
   "id": "35be7264",
   "metadata": {},
   "source": [
    "Applying normalization doesn't appear to affect the number and which proteins are found to be differentially expressed."
   ]
  },
  {
   "cell_type": "code",
   "execution_count": null,
   "id": "027272d4",
   "metadata": {},
   "outputs": [],
   "source": []
  }
 ],
 "metadata": {
  "kernelspec": {
   "display_name": "R [conda env:env_r] *",
   "language": "R",
   "name": "conda-env-env_r-r"
  },
  "language_info": {
   "codemirror_mode": "r",
   "file_extension": ".r",
   "mimetype": "text/x-r-source",
   "name": "R",
   "pygments_lexer": "r",
   "version": "4.2.2"
  }
 },
 "nbformat": 4,
 "nbformat_minor": 5
}
