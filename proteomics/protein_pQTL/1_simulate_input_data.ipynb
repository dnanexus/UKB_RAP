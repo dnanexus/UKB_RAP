{
 "cells": [
  {
   "cell_type": "markdown",
   "id": "cc48155c",
   "metadata": {},
   "source": [
    "# Notebook 1: Create phenotype data\n",
    "\n",
    "This notebook uses proteomic expression data from [Kivisakk et al publication](https://academic.oup.com/braincomms/article/4/4/fcac155/6608340#366642284) as an example/test case to test this proteomics pQTL analysis workflow.\n",
    "\n",
    "This notebook reads in the post-QC'd data from [Table S1 of the associated publication](https://oup.silverchair-cdn.com/oup/backfile/Content_public/Journal/braincomms/4/4/10.1093_braincomms_fcac155/7/fcac155_supplementary_data.zip?Expires=1677768977&Signature=hS7ey1m3UtIF3cV8qEUrfVjgbMTVcf0GPOZpHhVqRh3H44MhG0cFcZz6qwP6GbY2mize0Z1qG87iuYvNQd6-T~KEAPlNR-Ub1YVmenkT~MhkvtURg-MEIns79I9Q49DsKu8LzdbPMWIHvICoiQd~5ET3cUyWRacOkdgfnPsvkN4QTIKWY5uAnHOejaWZHTaf5KgzvqtMcg-dZMx4uuXUyb~3bFLwVCFtU-NwV4J0WdWd0R2QeQuVQMfi5aTdhZWI-QeeAUNvtm1VSQx0NzdQ9TG2Hyfitd8FczWFI32cwWLj~CrtTYbGgtEW3wANXrf89i0fknzRI141ir5XwoHSbQ__&Key-Pair-Id=APKAIE5G5CRDK6RD3PGA) and create a new phenotype file by replacing the sample IDs with those sample IDs found in the genotype data files from UKB. Once we have sample IDs that map between the phenotype (proteomic) data and the genotype (array, GEL imputed) data, we can input this into REGENIE."
   ]
  },
  {
   "attachments": {},
   "cell_type": "markdown",
   "id": "6455635b",
   "metadata": {},
   "source": [
    "### As-Is Software Disclaimer\n",
    "\n",
    "This notebook is delivered \"As-Is\". Notwithstanding anything to the contrary, DNAnexus will have no warranty, support, liability or other obligations with respect to Materials provided hereunder.\n",
    "\n",
    "[MIT License](https://github.com/dnanexus/UKB_RAP/blob/main/LICENSE) applies to this notebook."
   ]
  },
  {
   "attachments": {},
   "cell_type": "markdown",
   "id": "6be053a8",
   "metadata": {},
   "source": [
    "### JupyterLab app details\n",
    "\n",
    "<b>Launch spec:</b>\n",
    "- App name: JupyterLab\n",
    "- Kernel: Python_R\n",
    "- Instance type: mem1_ssd1_v2_x2\n",
    "- Runtime: =~ 1 min\n",
    "- Cost: =~ £0.0069\n",
    "\n",
    "\n",
    "<b>Data description:</b> File input for this notebook is csv file containing post-QC'd data from [Table S1 of the associated publication](https://oup.silverchair-cdn.com/oup/backfile/Content_public/Journal/braincomms/4/4/10.1093_braincomms_fcac155/7/fcac155_supplementary_data.zip?Expires=1677768977&Signature=hS7ey1m3UtIF3cV8qEUrfVjgbMTVcf0GPOZpHhVqRh3H44MhG0cFcZz6qwP6GbY2mize0Z1qG87iuYvNQd6-T~KEAPlNR-Ub1YVmenkT~MhkvtURg-MEIns79I9Q49DsKu8LzdbPMWIHvICoiQd~5ET3cUyWRacOkdgfnPsvkN4QTIKWY5uAnHOejaWZHTaf5KgzvqtMcg-dZMx4uuXUyb~3bFLwVCFtU-NwV4J0WdWd0R2QeQuVQMfi5aTdhZWI-QeeAUNvtm1VSQx0NzdQ9TG2Hyfitd8FczWFI32cwWLj~CrtTYbGgtEW3wANXrf89i0fknzRI141ir5XwoHSbQ__&Key-Pair-Id=APKAIE5G5CRDK6RD3PGA)"
   ]
  },
  {
   "attachments": {},
   "cell_type": "markdown",
   "id": "f7ff9f70",
   "metadata": {},
   "source": [
    "### Dependencies\n",
    "\n",
    "|Library |License|\n",
    "|:------------- |:-------------|\n",
    "|[pandas](https://pandas.pydata.org/) |[BSD-3](https://github.com/pandas-dev/pandas/blob/main/LICENSE)|"
   ]
  },
  {
   "cell_type": "code",
   "execution_count": 2,
   "id": "187663ef",
   "metadata": {},
   "outputs": [],
   "source": [
    "import os\n",
    "import pandas as pd"
   ]
  },
  {
   "cell_type": "markdown",
   "id": "73d1e44a",
   "metadata": {},
   "source": [
    "## 1. Load proteomic expression data\n",
    "\n",
    "Load in the proteomics data and get the number of samples."
   ]
  },
  {
   "cell_type": "code",
   "execution_count": 3,
   "id": "320e5b07",
   "metadata": {},
   "outputs": [],
   "source": [
    "# Number of times to replicate NPX dataframe to boost\n",
    "# the number of samples we have.\n",
    "# If there are not enough samples we will have too low variance for\n",
    "# running REGENIE.\n",
    "n = 700"
   ]
  },
  {
   "cell_type": "code",
   "execution_count": 4,
   "id": "23600b13",
   "metadata": {},
   "outputs": [],
   "source": [
    "# Load data\n",
    "filename_download = \"<file path on where Supplementary_Table1_Baseline_Olink_Data.csv is stored off of RAP>\"\n",
    "filename = \"Supplementary_Table1_Baseline_Olink_Data.csv\"\n",
    "\n",
    "# Output directory\n",
    "output_dir = \"/output/\""
   ]
  },
  {
   "cell_type": "code",
   "execution_count": 5,
   "id": "5ca67d9d",
   "metadata": {},
   "outputs": [],
   "source": [
    "os.system(\" \".join([\"dx download\", filename_download]))"
   ]
  },
  {
   "cell_type": "code",
   "execution_count": 6,
   "id": "ca430b20",
   "metadata": {},
   "outputs": [],
   "source": [
    "df = pd.read_csv(filename, index_col=0, header=0)"
   ]
  },
  {
   "cell_type": "code",
   "execution_count": 7,
   "id": "c35a760c",
   "metadata": {},
   "outputs": [
    {
     "name": "stdout",
     "output_type": "stream",
     "text": [
      "(143, 404)\n"
     ]
    },
    {
     "data": {
      "text/html": [
       "<div>\n",
       "<style scoped>\n",
       "    .dataframe tbody tr th:only-of-type {\n",
       "        vertical-align: middle;\n",
       "    }\n",
       "\n",
       "    .dataframe tbody tr th {\n",
       "        vertical-align: top;\n",
       "    }\n",
       "\n",
       "    .dataframe thead th {\n",
       "        text-align: right;\n",
       "    }\n",
       "</style>\n",
       "<table border=\"1\" class=\"dataframe\">\n",
       "  <thead>\n",
       "    <tr style=\"text-align: right;\">\n",
       "      <th></th>\n",
       "      <th>PIDN</th>\n",
       "      <th>Age_at_Baseline</th>\n",
       "      <th>Sex</th>\n",
       "      <th>Outcome</th>\n",
       "      <th>CA1</th>\n",
       "      <th>ICAM1</th>\n",
       "      <th>CHL1</th>\n",
       "      <th>TGFBI</th>\n",
       "      <th>ENG</th>\n",
       "      <th>PLTP</th>\n",
       "      <th>...</th>\n",
       "      <th>IL3RA</th>\n",
       "      <th>KIF1BP</th>\n",
       "      <th>PPP3R1</th>\n",
       "      <th>ILKAP</th>\n",
       "      <th>ISLR2</th>\n",
       "      <th>PMVK</th>\n",
       "      <th>WWP2</th>\n",
       "      <th>FKBP5</th>\n",
       "      <th>GGT5</th>\n",
       "      <th>CD63</th>\n",
       "    </tr>\n",
       "    <tr>\n",
       "      <th>Plasma_Sample</th>\n",
       "      <th></th>\n",
       "      <th></th>\n",
       "      <th></th>\n",
       "      <th></th>\n",
       "      <th></th>\n",
       "      <th></th>\n",
       "      <th></th>\n",
       "      <th></th>\n",
       "      <th></th>\n",
       "      <th></th>\n",
       "      <th></th>\n",
       "      <th></th>\n",
       "      <th></th>\n",
       "      <th></th>\n",
       "      <th></th>\n",
       "      <th></th>\n",
       "      <th></th>\n",
       "      <th></th>\n",
       "      <th></th>\n",
       "      <th></th>\n",
       "      <th></th>\n",
       "    </tr>\n",
       "  </thead>\n",
       "  <tbody>\n",
       "    <tr>\n",
       "      <th>H0529.3</th>\n",
       "      <td>9677</td>\n",
       "      <td>90+</td>\n",
       "      <td>Male</td>\n",
       "      <td>MCI_Decline_AD</td>\n",
       "      <td>7.62107</td>\n",
       "      <td>6.79971</td>\n",
       "      <td>4.73174</td>\n",
       "      <td>9.33471</td>\n",
       "      <td>3.12445</td>\n",
       "      <td>2.76119</td>\n",
       "      <td>...</td>\n",
       "      <td>2.72481</td>\n",
       "      <td>6.58000</td>\n",
       "      <td>5.53125</td>\n",
       "      <td>3.33948</td>\n",
       "      <td>2.68846</td>\n",
       "      <td>8.83322</td>\n",
       "      <td>6.87415</td>\n",
       "      <td>7.43915</td>\n",
       "      <td>3.41649</td>\n",
       "      <td>6.82437</td>\n",
       "    </tr>\n",
       "    <tr>\n",
       "      <th>H0441.1</th>\n",
       "      <td>9974</td>\n",
       "      <td>90+</td>\n",
       "      <td>Female</td>\n",
       "      <td>MCI_Stable_AD</td>\n",
       "      <td>6.96085</td>\n",
       "      <td>6.98459</td>\n",
       "      <td>4.31338</td>\n",
       "      <td>9.06819</td>\n",
       "      <td>3.31576</td>\n",
       "      <td>2.58493</td>\n",
       "      <td>...</td>\n",
       "      <td>3.01428</td>\n",
       "      <td>6.13380</td>\n",
       "      <td>5.56465</td>\n",
       "      <td>3.18228</td>\n",
       "      <td>2.89130</td>\n",
       "      <td>8.98208</td>\n",
       "      <td>6.31876</td>\n",
       "      <td>6.63522</td>\n",
       "      <td>3.62379</td>\n",
       "      <td>6.37066</td>\n",
       "    </tr>\n",
       "    <tr>\n",
       "      <th>H0558.3</th>\n",
       "      <td>9681</td>\n",
       "      <td>90+</td>\n",
       "      <td>Female</td>\n",
       "      <td>MCI_Decline_AD</td>\n",
       "      <td>7.16983</td>\n",
       "      <td>7.04907</td>\n",
       "      <td>4.72713</td>\n",
       "      <td>8.92804</td>\n",
       "      <td>3.16308</td>\n",
       "      <td>2.84642</td>\n",
       "      <td>...</td>\n",
       "      <td>2.60958</td>\n",
       "      <td>5.39832</td>\n",
       "      <td>5.02634</td>\n",
       "      <td>2.95021</td>\n",
       "      <td>2.61699</td>\n",
       "      <td>7.80989</td>\n",
       "      <td>5.82366</td>\n",
       "      <td>6.54346</td>\n",
       "      <td>3.91271</td>\n",
       "      <td>5.68429</td>\n",
       "    </tr>\n",
       "    <tr>\n",
       "      <th>H0560.2</th>\n",
       "      <td>10195</td>\n",
       "      <td>90+</td>\n",
       "      <td>Female</td>\n",
       "      <td>N</td>\n",
       "      <td>7.45724</td>\n",
       "      <td>6.89523</td>\n",
       "      <td>4.57029</td>\n",
       "      <td>9.27165</td>\n",
       "      <td>3.06199</td>\n",
       "      <td>2.88011</td>\n",
       "      <td>...</td>\n",
       "      <td>2.42160</td>\n",
       "      <td>5.23152</td>\n",
       "      <td>5.35489</td>\n",
       "      <td>2.23073</td>\n",
       "      <td>2.60381</td>\n",
       "      <td>7.92620</td>\n",
       "      <td>5.85513</td>\n",
       "      <td>6.45564</td>\n",
       "      <td>3.17818</td>\n",
       "      <td>5.72402</td>\n",
       "    </tr>\n",
       "    <tr>\n",
       "      <th>H0014.1</th>\n",
       "      <td>9513</td>\n",
       "      <td>89</td>\n",
       "      <td>Female</td>\n",
       "      <td>N</td>\n",
       "      <td>7.81354</td>\n",
       "      <td>6.71708</td>\n",
       "      <td>4.93904</td>\n",
       "      <td>9.51350</td>\n",
       "      <td>3.66898</td>\n",
       "      <td>3.15989</td>\n",
       "      <td>...</td>\n",
       "      <td>2.77644</td>\n",
       "      <td>6.62198</td>\n",
       "      <td>5.05462</td>\n",
       "      <td>3.43680</td>\n",
       "      <td>3.10692</td>\n",
       "      <td>9.30726</td>\n",
       "      <td>6.30392</td>\n",
       "      <td>7.22991</td>\n",
       "      <td>3.65764</td>\n",
       "      <td>6.31318</td>\n",
       "    </tr>\n",
       "  </tbody>\n",
       "</table>\n",
       "<p>5 rows × 404 columns</p>\n",
       "</div>"
      ],
      "text/plain": [
       "                PIDN Age_at_Baseline     Sex         Outcome      CA1  \\\n",
       "Plasma_Sample                                                           \n",
       "H0529.3         9677             90+    Male  MCI_Decline_AD  7.62107   \n",
       "H0441.1         9974             90+  Female   MCI_Stable_AD  6.96085   \n",
       "H0558.3         9681             90+  Female  MCI_Decline_AD  7.16983   \n",
       "H0560.2        10195             90+  Female               N  7.45724   \n",
       "H0014.1         9513              89  Female               N  7.81354   \n",
       "\n",
       "                 ICAM1     CHL1    TGFBI      ENG     PLTP  ...    IL3RA  \\\n",
       "Plasma_Sample                                               ...            \n",
       "H0529.3        6.79971  4.73174  9.33471  3.12445  2.76119  ...  2.72481   \n",
       "H0441.1        6.98459  4.31338  9.06819  3.31576  2.58493  ...  3.01428   \n",
       "H0558.3        7.04907  4.72713  8.92804  3.16308  2.84642  ...  2.60958   \n",
       "H0560.2        6.89523  4.57029  9.27165  3.06199  2.88011  ...  2.42160   \n",
       "H0014.1        6.71708  4.93904  9.51350  3.66898  3.15989  ...  2.77644   \n",
       "\n",
       "                KIF1BP   PPP3R1    ILKAP    ISLR2     PMVK     WWP2    FKBP5  \\\n",
       "Plasma_Sample                                                                  \n",
       "H0529.3        6.58000  5.53125  3.33948  2.68846  8.83322  6.87415  7.43915   \n",
       "H0441.1        6.13380  5.56465  3.18228  2.89130  8.98208  6.31876  6.63522   \n",
       "H0558.3        5.39832  5.02634  2.95021  2.61699  7.80989  5.82366  6.54346   \n",
       "H0560.2        5.23152  5.35489  2.23073  2.60381  7.92620  5.85513  6.45564   \n",
       "H0014.1        6.62198  5.05462  3.43680  3.10692  9.30726  6.30392  7.22991   \n",
       "\n",
       "                  GGT5     CD63  \n",
       "Plasma_Sample                    \n",
       "H0529.3        3.41649  6.82437  \n",
       "H0441.1        3.62379  6.37066  \n",
       "H0558.3        3.91271  5.68429  \n",
       "H0560.2        3.17818  5.72402  \n",
       "H0014.1        3.65764  6.31318  \n",
       "\n",
       "[5 rows x 404 columns]"
      ]
     },
     "execution_count": 7,
     "metadata": {},
     "output_type": "execute_result"
    }
   ],
   "source": [
    "print(df.shape)\n",
    "df.head()"
   ]
  },
  {
   "attachments": {},
   "cell_type": "markdown",
   "id": "992542b8",
   "metadata": {},
   "source": [
    "### Remove missing data\n",
    "\n",
    "Check if there are any missing values (None, numpy.na, also included is numpy.inf, \"\" since we set pandas.options.mode.use_inf_as_na = True) before we extend the expression matrix\n",
    "\n",
    "REGENIE will throw an error is missing values are included (`ERROR: could not convert value to double: ''`)"
   ]
  },
  {
   "cell_type": "code",
   "execution_count": 9,
   "id": "cdbb5181",
   "metadata": {},
   "outputs": [
    {
     "name": "stdout",
     "output_type": "stream",
     "text": [
      "True\n",
      "1\n"
     ]
    }
   ],
   "source": [
    "pd.options.mode.use_inf_as_na = True\n",
    "print(df.isna().values.any().sum())"
   ]
  },
  {
   "cell_type": "code",
   "execution_count": 10,
   "id": "359ac2c3",
   "metadata": {},
   "outputs": [
    {
     "data": {
      "text/plain": [
       "['TNC']"
      ]
     },
     "execution_count": 10,
     "metadata": {},
     "output_type": "execute_result"
    }
   ],
   "source": [
    "# Get columns with NaN\n",
    "df.columns[df.isna().any()].tolist()"
   ]
  },
  {
   "cell_type": "code",
   "execution_count": 11,
   "id": "df5472b5",
   "metadata": {},
   "outputs": [
    {
     "name": "stdout",
     "output_type": "stream",
     "text": [
      "(143, 403)\n"
     ]
    }
   ],
   "source": [
    "# Drop column\n",
    "df = df.drop(columns=\"TNC\")\n",
    "print(df.shape)"
   ]
  },
  {
   "cell_type": "code",
   "execution_count": 12,
   "id": "6c6d0473",
   "metadata": {},
   "outputs": [
    {
     "name": "stdout",
     "output_type": "stream",
     "text": [
      "(100100, 403)\n"
     ]
    }
   ],
   "source": [
    "df = pd.concat([df] * n)\n",
    "print(df.shape)"
   ]
  },
  {
   "cell_type": "code",
   "execution_count": 13,
   "id": "47bfd00c",
   "metadata": {},
   "outputs": [],
   "source": [
    "n_samples = df.shape[0]"
   ]
  },
  {
   "cell_type": "markdown",
   "id": "8b6be7d9",
   "metadata": {},
   "source": [
    "## 2. Get sample IDs\n",
    "\n",
    "Load in sample data from .fam files in UKB and select `n_samples` identifiers"
   ]
  },
  {
   "cell_type": "code",
   "execution_count": 14,
   "id": "c15304f1",
   "metadata": {},
   "outputs": [],
   "source": [
    "# Download .fam sample file\n",
    "gel_sample_download_filename = (\n",
    "    \"<file path with fixed .sample files/ukb21008_c1_b0_v1.sample>\"\n",
    ")\n",
    "gel_sample_filename = \"ukb21008_c1_b0_v1.sample\""
   ]
  },
  {
   "cell_type": "code",
   "execution_count": 15,
   "id": "ba5acb12",
   "metadata": {},
   "outputs": [],
   "source": [
    "os.system(\" \".join([\"dx download\", gel_sample_download_filename]))"
   ]
  },
  {
   "cell_type": "code",
   "execution_count": 16,
   "id": "96c836fb",
   "metadata": {},
   "outputs": [],
   "source": [
    "sample_df = pd.read_csv(\n",
    "    gel_sample_filename, sep=\" \", skiprows=[1], index_col=0, header=0\n",
    ")"
   ]
  },
  {
   "cell_type": "code",
   "execution_count": 17,
   "id": "0e14f6d8",
   "metadata": {},
   "outputs": [
    {
     "name": "stdout",
     "output_type": "stream",
     "text": [
      "(488315, 3)\n"
     ]
    },
    {
     "data": {
      "text/html": [
       "<div>\n",
       "<style scoped>\n",
       "    .dataframe tbody tr th:only-of-type {\n",
       "        vertical-align: middle;\n",
       "    }\n",
       "\n",
       "    .dataframe tbody tr th {\n",
       "        vertical-align: top;\n",
       "    }\n",
       "\n",
       "    .dataframe thead th {\n",
       "        text-align: right;\n",
       "    }\n",
       "</style>\n",
       "<table border=\"1\" class=\"dataframe\">\n",
       "  <thead>\n",
       "    <tr style=\"text-align: right;\">\n",
       "      <th></th>\n",
       "      <th>ID_2</th>\n",
       "      <th>missing</th>\n",
       "      <th>sex</th>\n",
       "    </tr>\n",
       "    <tr>\n",
       "      <th>ID_1</th>\n",
       "      <th></th>\n",
       "      <th></th>\n",
       "      <th></th>\n",
       "    </tr>\n",
       "  </thead>\n",
       "  <tbody>\n",
       "    <tr>\n",
       "      <th>2894753</th>\n",
       "      <td>2894753</td>\n",
       "      <td>0</td>\n",
       "      <td>1</td>\n",
       "    </tr>\n",
       "    <tr>\n",
       "      <th>2352368</th>\n",
       "      <td>2352368</td>\n",
       "      <td>0</td>\n",
       "      <td>2</td>\n",
       "    </tr>\n",
       "    <tr>\n",
       "      <th>1483346</th>\n",
       "      <td>1483346</td>\n",
       "      <td>0</td>\n",
       "      <td>2</td>\n",
       "    </tr>\n",
       "    <tr>\n",
       "      <th>2352196</th>\n",
       "      <td>2352196</td>\n",
       "      <td>0</td>\n",
       "      <td>2</td>\n",
       "    </tr>\n",
       "    <tr>\n",
       "      <th>4886500</th>\n",
       "      <td>4886500</td>\n",
       "      <td>0</td>\n",
       "      <td>2</td>\n",
       "    </tr>\n",
       "  </tbody>\n",
       "</table>\n",
       "</div>"
      ],
      "text/plain": [
       "            ID_2  missing  sex\n",
       "ID_1                          \n",
       "2894753  2894753        0    1\n",
       "2352368  2352368        0    2\n",
       "1483346  1483346        0    2\n",
       "2352196  2352196        0    2\n",
       "4886500  4886500        0    2"
      ]
     },
     "execution_count": 17,
     "metadata": {},
     "output_type": "execute_result"
    }
   ],
   "source": [
    "print(sample_df.shape)\n",
    "sample_df.head()"
   ]
  },
  {
   "cell_type": "code",
   "execution_count": 18,
   "id": "df2ccc22",
   "metadata": {},
   "outputs": [],
   "source": [
    "sample_ids = list(sample_df.head(n_samples).index)"
   ]
  },
  {
   "cell_type": "code",
   "execution_count": 20,
   "id": "f765f9a8",
   "metadata": {},
   "outputs": [
    {
     "name": "stdout",
     "output_type": "stream",
     "text": [
      "100100\n"
     ]
    }
   ],
   "source": [
    "print(len(sample_ids))"
   ]
  },
  {
   "cell_type": "markdown",
   "id": "7cf7afde",
   "metadata": {},
   "source": [
    "## 3. Format expression data\n",
    "\n",
    "Now that we have our sample ID that map to our genotype data we'll replace the proteomic sample IDs (`Plasma_Sample`) with our genotype sample IDs. We'll also remove all columns except those that contain expression (i.e. remove PIDN, Age_at_Baseline, Sex, and Outcome).\n",
    "\n",
    "Note: We need a column for FID and IID for REGENIE."
   ]
  },
  {
   "cell_type": "code",
   "execution_count": 21,
   "id": "536370d0",
   "metadata": {},
   "outputs": [],
   "source": [
    "metadata_colnames = [\"PIDN\", \"Age_at_Baseline\", \"Sex\", \"Outcome\"]\n",
    "npx_df = df.drop(metadata_colnames, axis=1)"
   ]
  },
  {
   "cell_type": "code",
   "execution_count": 22,
   "id": "76032ec6",
   "metadata": {},
   "outputs": [],
   "source": [
    "# Add FID\n",
    "npx_df[\"FID\"] = sample_ids"
   ]
  },
  {
   "cell_type": "code",
   "execution_count": 23,
   "id": "091503ef",
   "metadata": {},
   "outputs": [],
   "source": [
    "# Set index to FID\n",
    "npx_df = npx_df.set_index(\"FID\")"
   ]
  },
  {
   "cell_type": "code",
   "execution_count": 24,
   "id": "c92f49ec",
   "metadata": {},
   "outputs": [],
   "source": [
    "# IID column\n",
    "npx_df.insert(0, \"IID\", sample_ids)"
   ]
  },
  {
   "cell_type": "code",
   "execution_count": 25,
   "id": "b9cbee77",
   "metadata": {},
   "outputs": [
    {
     "name": "stdout",
     "output_type": "stream",
     "text": [
      "(100100, 400)\n"
     ]
    },
    {
     "data": {
      "text/html": [
       "<div>\n",
       "<style scoped>\n",
       "    .dataframe tbody tr th:only-of-type {\n",
       "        vertical-align: middle;\n",
       "    }\n",
       "\n",
       "    .dataframe tbody tr th {\n",
       "        vertical-align: top;\n",
       "    }\n",
       "\n",
       "    .dataframe thead th {\n",
       "        text-align: right;\n",
       "    }\n",
       "</style>\n",
       "<table border=\"1\" class=\"dataframe\">\n",
       "  <thead>\n",
       "    <tr style=\"text-align: right;\">\n",
       "      <th></th>\n",
       "      <th>IID</th>\n",
       "      <th>CA1</th>\n",
       "      <th>ICAM1</th>\n",
       "      <th>CHL1</th>\n",
       "      <th>TGFBI</th>\n",
       "      <th>ENG</th>\n",
       "      <th>PLTP</th>\n",
       "      <th>SERPINA7</th>\n",
       "      <th>IGFBP3</th>\n",
       "      <th>CR2</th>\n",
       "      <th>...</th>\n",
       "      <th>IL3RA</th>\n",
       "      <th>KIF1BP</th>\n",
       "      <th>PPP3R1</th>\n",
       "      <th>ILKAP</th>\n",
       "      <th>ISLR2</th>\n",
       "      <th>PMVK</th>\n",
       "      <th>WWP2</th>\n",
       "      <th>FKBP5</th>\n",
       "      <th>GGT5</th>\n",
       "      <th>CD63</th>\n",
       "    </tr>\n",
       "    <tr>\n",
       "      <th>FID</th>\n",
       "      <th></th>\n",
       "      <th></th>\n",
       "      <th></th>\n",
       "      <th></th>\n",
       "      <th></th>\n",
       "      <th></th>\n",
       "      <th></th>\n",
       "      <th></th>\n",
       "      <th></th>\n",
       "      <th></th>\n",
       "      <th></th>\n",
       "      <th></th>\n",
       "      <th></th>\n",
       "      <th></th>\n",
       "      <th></th>\n",
       "      <th></th>\n",
       "      <th></th>\n",
       "      <th></th>\n",
       "      <th></th>\n",
       "      <th></th>\n",
       "      <th></th>\n",
       "    </tr>\n",
       "  </thead>\n",
       "  <tbody>\n",
       "    <tr>\n",
       "      <th>2894753</th>\n",
       "      <td>2894753</td>\n",
       "      <td>7.62107</td>\n",
       "      <td>6.79971</td>\n",
       "      <td>4.73174</td>\n",
       "      <td>9.33471</td>\n",
       "      <td>3.12445</td>\n",
       "      <td>2.76119</td>\n",
       "      <td>5.28013</td>\n",
       "      <td>5.53985</td>\n",
       "      <td>5.83288</td>\n",
       "      <td>...</td>\n",
       "      <td>2.72481</td>\n",
       "      <td>6.58000</td>\n",
       "      <td>5.53125</td>\n",
       "      <td>3.33948</td>\n",
       "      <td>2.68846</td>\n",
       "      <td>8.83322</td>\n",
       "      <td>6.87415</td>\n",
       "      <td>7.43915</td>\n",
       "      <td>3.41649</td>\n",
       "      <td>6.82437</td>\n",
       "    </tr>\n",
       "    <tr>\n",
       "      <th>2352368</th>\n",
       "      <td>2352368</td>\n",
       "      <td>6.96085</td>\n",
       "      <td>6.98459</td>\n",
       "      <td>4.31338</td>\n",
       "      <td>9.06819</td>\n",
       "      <td>3.31576</td>\n",
       "      <td>2.58493</td>\n",
       "      <td>5.36719</td>\n",
       "      <td>5.22006</td>\n",
       "      <td>6.54894</td>\n",
       "      <td>...</td>\n",
       "      <td>3.01428</td>\n",
       "      <td>6.13380</td>\n",
       "      <td>5.56465</td>\n",
       "      <td>3.18228</td>\n",
       "      <td>2.89130</td>\n",
       "      <td>8.98208</td>\n",
       "      <td>6.31876</td>\n",
       "      <td>6.63522</td>\n",
       "      <td>3.62379</td>\n",
       "      <td>6.37066</td>\n",
       "    </tr>\n",
       "    <tr>\n",
       "      <th>1483346</th>\n",
       "      <td>1483346</td>\n",
       "      <td>7.16983</td>\n",
       "      <td>7.04907</td>\n",
       "      <td>4.72713</td>\n",
       "      <td>8.92804</td>\n",
       "      <td>3.16308</td>\n",
       "      <td>2.84642</td>\n",
       "      <td>5.56897</td>\n",
       "      <td>5.28240</td>\n",
       "      <td>7.06695</td>\n",
       "      <td>...</td>\n",
       "      <td>2.60958</td>\n",
       "      <td>5.39832</td>\n",
       "      <td>5.02634</td>\n",
       "      <td>2.95021</td>\n",
       "      <td>2.61699</td>\n",
       "      <td>7.80989</td>\n",
       "      <td>5.82366</td>\n",
       "      <td>6.54346</td>\n",
       "      <td>3.91271</td>\n",
       "      <td>5.68429</td>\n",
       "    </tr>\n",
       "    <tr>\n",
       "      <th>2352196</th>\n",
       "      <td>2352196</td>\n",
       "      <td>7.45724</td>\n",
       "      <td>6.89523</td>\n",
       "      <td>4.57029</td>\n",
       "      <td>9.27165</td>\n",
       "      <td>3.06199</td>\n",
       "      <td>2.88011</td>\n",
       "      <td>5.48725</td>\n",
       "      <td>5.20234</td>\n",
       "      <td>6.19445</td>\n",
       "      <td>...</td>\n",
       "      <td>2.42160</td>\n",
       "      <td>5.23152</td>\n",
       "      <td>5.35489</td>\n",
       "      <td>2.23073</td>\n",
       "      <td>2.60381</td>\n",
       "      <td>7.92620</td>\n",
       "      <td>5.85513</td>\n",
       "      <td>6.45564</td>\n",
       "      <td>3.17818</td>\n",
       "      <td>5.72402</td>\n",
       "    </tr>\n",
       "    <tr>\n",
       "      <th>4886500</th>\n",
       "      <td>4886500</td>\n",
       "      <td>7.81354</td>\n",
       "      <td>6.71708</td>\n",
       "      <td>4.93904</td>\n",
       "      <td>9.51350</td>\n",
       "      <td>3.66898</td>\n",
       "      <td>3.15989</td>\n",
       "      <td>5.52775</td>\n",
       "      <td>5.12267</td>\n",
       "      <td>5.60535</td>\n",
       "      <td>...</td>\n",
       "      <td>2.77644</td>\n",
       "      <td>6.62198</td>\n",
       "      <td>5.05462</td>\n",
       "      <td>3.43680</td>\n",
       "      <td>3.10692</td>\n",
       "      <td>9.30726</td>\n",
       "      <td>6.30392</td>\n",
       "      <td>7.22991</td>\n",
       "      <td>3.65764</td>\n",
       "      <td>6.31318</td>\n",
       "    </tr>\n",
       "  </tbody>\n",
       "</table>\n",
       "<p>5 rows × 400 columns</p>\n",
       "</div>"
      ],
      "text/plain": [
       "             IID      CA1    ICAM1     CHL1    TGFBI      ENG     PLTP  \\\n",
       "FID                                                                      \n",
       "2894753  2894753  7.62107  6.79971  4.73174  9.33471  3.12445  2.76119   \n",
       "2352368  2352368  6.96085  6.98459  4.31338  9.06819  3.31576  2.58493   \n",
       "1483346  1483346  7.16983  7.04907  4.72713  8.92804  3.16308  2.84642   \n",
       "2352196  2352196  7.45724  6.89523  4.57029  9.27165  3.06199  2.88011   \n",
       "4886500  4886500  7.81354  6.71708  4.93904  9.51350  3.66898  3.15989   \n",
       "\n",
       "         SERPINA7   IGFBP3      CR2  ...    IL3RA   KIF1BP   PPP3R1    ILKAP  \\\n",
       "FID                                  ...                                       \n",
       "2894753   5.28013  5.53985  5.83288  ...  2.72481  6.58000  5.53125  3.33948   \n",
       "2352368   5.36719  5.22006  6.54894  ...  3.01428  6.13380  5.56465  3.18228   \n",
       "1483346   5.56897  5.28240  7.06695  ...  2.60958  5.39832  5.02634  2.95021   \n",
       "2352196   5.48725  5.20234  6.19445  ...  2.42160  5.23152  5.35489  2.23073   \n",
       "4886500   5.52775  5.12267  5.60535  ...  2.77644  6.62198  5.05462  3.43680   \n",
       "\n",
       "           ISLR2     PMVK     WWP2    FKBP5     GGT5     CD63  \n",
       "FID                                                            \n",
       "2894753  2.68846  8.83322  6.87415  7.43915  3.41649  6.82437  \n",
       "2352368  2.89130  8.98208  6.31876  6.63522  3.62379  6.37066  \n",
       "1483346  2.61699  7.80989  5.82366  6.54346  3.91271  5.68429  \n",
       "2352196  2.60381  7.92620  5.85513  6.45564  3.17818  5.72402  \n",
       "4886500  3.10692  9.30726  6.30392  7.22991  3.65764  6.31318  \n",
       "\n",
       "[5 rows x 400 columns]"
      ]
     },
     "execution_count": 25,
     "metadata": {},
     "output_type": "execute_result"
    }
   ],
   "source": [
    "print(npx_df.shape)\n",
    "npx_df.head()"
   ]
  },
  {
   "cell_type": "code",
   "execution_count": 26,
   "id": "c6a330d0",
   "metadata": {},
   "outputs": [
    {
     "name": "stdout",
     "output_type": "stream",
     "text": [
      "False\n",
      "0\n"
     ]
    }
   ],
   "source": [
    "# Check if missing values values\n",
    "print(npx_df.isnull().values.any())\n",
    "print(npx_df.isnull().values.sum())"
   ]
  },
  {
   "cell_type": "code",
   "execution_count": 27,
   "id": "4977b594",
   "metadata": {},
   "outputs": [
    {
     "data": {
      "text/plain": [
       "<AxesSubplot: ylabel='Frequency'>"
      ]
     },
     "execution_count": 27,
     "metadata": {},
     "output_type": "execute_result"
    },
    {
     "data": {
      "image/png": "[encoded data removed]",
      "text/plain": [
       "<Figure size 640x480 with 1 Axes>"
      ]
     },
     "metadata": {},
     "output_type": "display_data"
    }
   ],
   "source": [
    "npx_df.std().plot.hist()"
   ]
  },
  {
   "cell_type": "markdown",
   "id": "badace05",
   "metadata": {},
   "source": [
    "## 4. Save\n",
    "\n",
    "Save un-normalized and normalized data to test the affect of normalization on differential expression analysis results."
   ]
  },
  {
   "cell_type": "code",
   "execution_count": 28,
   "id": "2711443a",
   "metadata": {},
   "outputs": [],
   "source": [
    "# npx_df.to_csv(\"pheno.txt\", sep=\"\\t\")\n",
    "npx_df.iloc[:, :201].to_csv(\"pheno_200.txt\", sep=\"\\t\")"
   ]
  },
  {
   "cell_type": "code",
   "execution_count": 29,
   "id": "fd45e0c9",
   "metadata": {},
   "outputs": [],
   "source": [
    "# Upload the counts csv to the project\n",
    "os.system(\" \".join([\"dx upload\", \"pheno.txt\", \"--destination\", output_dir]))"
   ]
  }
 ],
 "metadata": {
  "jupytext": {
   "formats": "ipynb,py"
  },
  "kernelspec": {
   "display_name": "Python 3",
   "language": "python",
   "name": "python3"
  },
  "language_info": {
   "codemirror_mode": {
    "name": "ipython",
    "version": 3
   },
   "file_extension": ".py",
   "mimetype": "text/x-python",
   "name": "python",
   "nbconvert_exporter": "python",
   "pygments_lexer": "ipython3",
   "version": "3.9.6 (default, Oct 18 2022, 12:41:40) \n[Clang 14.0.0 (clang-1400.0.29.202)]"
  },
  "vscode": {
   "interpreter": {
    "hash": "31f2aee4e71d21fbe5cf8b01ff0e069b9275f58929596ceb00d14d90e3e16cd6"
   }
  }
 },
 "nbformat": 4,
 "nbformat_minor": 5
}
