{
 "cells": [
  {
   "cell_type": "markdown",
   "id": "cc48155c",
   "metadata": {},
   "source": [
    "# Notebook 1: Create phenotype data\n",
    "\n",
    "This notebook uses proteomic expression data from [Kivisakk et al publication](https://academic.oup.com/braincomms/article/4/4/fcac155/6608340#366642284) as an example/test case to test this proteomics pQTL analysis workflow.\n",
    "\n",
    "This notebook reads in the post-QC'd data from [Table S1 of the associated publication](https://oup.silverchair-cdn.com/oup/backfile/Content_public/Journal/braincomms/4/4/10.1093_braincomms_fcac155/7/fcac155_supplementary_data.zip?Expires=1677768977&Signature=hS7ey1m3UtIF3cV8qEUrfVjgbMTVcf0GPOZpHhVqRh3H44MhG0cFcZz6qwP6GbY2mize0Z1qG87iuYvNQd6-T~KEAPlNR-Ub1YVmenkT~MhkvtURg-MEIns79I9Q49DsKu8LzdbPMWIHvICoiQd~5ET3cUyWRacOkdgfnPsvkN4QTIKWY5uAnHOejaWZHTaf5KgzvqtMcg-dZMx4uuXUyb~3bFLwVCFtU-NwV4J0WdWd0R2QeQuVQMfi5aTdhZWI-QeeAUNvtm1VSQx0NzdQ9TG2Hyfitd8FczWFI32cwWLj~CrtTYbGgtEW3wANXrf89i0fknzRI141ir5XwoHSbQ__&Key-Pair-Id=APKAIE5G5CRDK6RD3PGA) and create a new phenotype file by replacing the sample IDs with those sample IDs found in the genotype data files from UKB. Once we have sample IDs that map between the phenotype (proteomic) data and the genotype (array, GEL imputed) data, we can input this into REGENIE."
   ]
  },
  {
   "cell_type": "markdown",
   "id": "6455635b",
   "metadata": {},
   "source": [
    "### As-Is Software Disclaimer\n",
    "\n",
    "This notebook is delivered \"As-Is\". Notwithstanding anything to the contrary, DNAnexus will have no warranty, support, liability or other obligations with respect to Materials provided hereunder.\n",
    "\n",
    "[MIT License](https://github.com/dnanexus/UKB_RAP/blob/main/LICENSE) applies to this notebook."
   ]
  },
  {
   "cell_type": "markdown",
   "id": "6be053a8",
   "metadata": {},
   "source": [
    "### JupyterLab app details\n",
    "\n",
    "<b>Launch spec:</b>\n",
    "- App name: JupyterLab\n",
    "- Kernel: Python_R\n",
    "- Instance type: mem1_ssd1_v2_x2\n",
    "- Runtime: =~ 1 min\n",
    "- Cost: =~ £0.0069\n",
    "\n",
    "\n",
    "<b>Data description:</b> File input for this notebook is csv file containing post-QC'd data from [Table S1 of the associated publication](https://oup.silverchair-cdn.com/oup/backfile/Content_public/Journal/braincomms/4/4/10.1093_braincomms_fcac155/7/fcac155_supplementary_data.zip?Expires=1677768977&Signature=hS7ey1m3UtIF3cV8qEUrfVjgbMTVcf0GPOZpHhVqRh3H44MhG0cFcZz6qwP6GbY2mize0Z1qG87iuYvNQd6-T~KEAPlNR-Ub1YVmenkT~MhkvtURg-MEIns79I9Q49DsKu8LzdbPMWIHvICoiQd~5ET3cUyWRacOkdgfnPsvkN4QTIKWY5uAnHOejaWZHTaf5KgzvqtMcg-dZMx4uuXUyb~3bFLwVCFtU-NwV4J0WdWd0R2QeQuVQMfi5aTdhZWI-QeeAUNvtm1VSQx0NzdQ9TG2Hyfitd8FczWFI32cwWLj~CrtTYbGgtEW3wANXrf89i0fknzRI141ir5XwoHSbQ__&Key-Pair-Id=APKAIE5G5CRDK6RD3PGA)"
   ]
  },
  {
   "cell_type": "markdown",
   "id": "f7ff9f70",
   "metadata": {},
   "source": [
    "### Dependencies\n",
    "\n",
    "|Library |License|\n",
    "|:------------- |:-------------|\n",
    "|[pandas](https://pandas.pydata.org/) |[BSD-3](https://github.com/pandas-dev/pandas/blob/main/LICENSE)|"
   ]
  },
  {
   "cell_type": "code",
   "execution_count": null,
   "id": "187663ef",
   "metadata": {},
   "outputs": [],
   "source": [
    "import os\n",
    "import pandas as pd"
   ]
  },
  {
   "cell_type": "markdown",
   "id": "73d1e44a",
   "metadata": {},
   "source": [
    "## 1. Load proteomic expression data\n",
    "\n",
    "Load in the proteomics data and get the number of samples."
   ]
  },
  {
   "cell_type": "code",
   "execution_count": null,
   "id": "320e5b07",
   "metadata": {},
   "outputs": [],
   "source": [
    "# Number of times to replicate NPX dataframe to boost\n",
    "# the number of samples we have.\n",
    "# If there are not enough samples we will have too low variance for\n",
    "# running REGENIE.\n",
    "n = 700"
   ]
  },
  {
   "cell_type": "code",
   "execution_count": null,
   "id": "23600b13",
   "metadata": {},
   "outputs": [],
   "source": [
    "# Load data\n",
    "filename_download = \"<file path on where Supplementary_Table1_Baseline_Olink_Data.csv is stored off of RAP>\"\n",
    "filename = \"Supplementary_Table1_Baseline_Olink_Data.csv\"\n",
    "\n",
    "# Output directory\n",
    "output_dir = \"/output/\""
   ]
  },
  {
   "cell_type": "code",
   "execution_count": null,
   "id": "5ca67d9d",
   "metadata": {},
   "outputs": [],
   "source": [
    "os.system(\" \".join([\"dx download\", filename_download]))"
   ]
  },
  {
   "cell_type": "code",
   "execution_count": null,
   "id": "ca430b20",
   "metadata": {},
   "outputs": [],
   "source": [
    "df = pd.read_csv(filename, index_col=0, header=0)"
   ]
  },
  {
   "cell_type": "code",
   "execution_count": null,
   "id": "c35a760c",
   "metadata": {},
   "outputs": [],
   "source": [
    "print(df.shape)\n",
    "df.head()"
   ]
  },
  {
   "cell_type": "markdown",
   "id": "992542b8",
   "metadata": {},
   "source": [
    "### Remove missing data\n",
    "\n",
    "Check if there are any missing values (None, numpy.na, also included is numpy.inf, \"\" since we set pandas.options.mode.use_inf_as_na = True) before we extend the expression matrix\n",
    "\n",
    "REGENIE will throw an error if missing values are included (`ERROR: could not convert value to double: ''`)"
   ]
  },
  {
   "cell_type": "code",
   "execution_count": null,
   "id": "cdbb5181",
   "metadata": {},
   "outputs": [],
   "source": [
    "pd.options.mode.use_inf_as_na = True\n",
    "print(df.isna().values.any().sum())"
   ]
  },
  {
   "cell_type": "code",
   "execution_count": null,
   "id": "359ac2c3",
   "metadata": {},
   "outputs": [],
   "source": [
    "# Get columns with NaN\n",
    "df.columns[df.isna().any()].tolist()"
   ]
  },
  {
   "cell_type": "code",
   "execution_count": null,
   "id": "df5472b5",
   "metadata": {},
   "outputs": [],
   "source": [
    "# Drop column\n",
    "df = df.drop(columns=\"TNC\")\n",
    "print(df.shape)"
   ]
  },
  {
   "cell_type": "code",
   "execution_count": null,
   "id": "6c6d0473",
   "metadata": {},
   "outputs": [],
   "source": [
    "df = pd.concat([df] * n)\n",
    "print(df.shape)"
   ]
  },
  {
   "cell_type": "code",
   "execution_count": null,
   "id": "47bfd00c",
   "metadata": {},
   "outputs": [],
   "source": [
    "n_samples = df.shape[0]"
   ]
  },
  {
   "cell_type": "markdown",
   "id": "8b6be7d9",
   "metadata": {},
   "source": [
    "## 2. Get sample IDs\n",
    "\n",
    "Load in sample data from .fam files in UKB and select `n_samples` identifiers"
   ]
  },
  {
   "cell_type": "code",
   "execution_count": null,
   "id": "c15304f1",
   "metadata": {},
   "outputs": [],
   "source": [
    "# Download .fam sample file\n",
    "gel_sample_filename = (\n",
    "    \"<file path on platform containing ukb21008_c1_b0_v1.sample using /mnt/project/>\"\n",
    ")"
   ]
  },
  {
   "cell_type": "code",
   "execution_count": null,
   "id": "96c836fb",
   "metadata": {},
   "outputs": [],
   "source": [
    "sample_df = pd.read_csv(\n",
    "    gel_sample_filename, sep=\" \", skiprows=[1], index_col=0, header=0\n",
    ")"
   ]
  },
  {
   "cell_type": "code",
   "execution_count": null,
   "id": "0e14f6d8",
   "metadata": {},
   "outputs": [],
   "source": [
    "print(sample_df.shape)\n",
    "sample_df.head()"
   ]
  },
  {
   "cell_type": "code",
   "execution_count": null,
   "id": "df2ccc22",
   "metadata": {},
   "outputs": [],
   "source": [
    "sample_ids = list(sample_df.head(n_samples).index)"
   ]
  },
  {
   "cell_type": "code",
   "execution_count": null,
   "id": "f765f9a8",
   "metadata": {},
   "outputs": [],
   "source": [
    "print(len(sample_ids))"
   ]
  },
  {
   "cell_type": "markdown",
   "id": "7cf7afde",
   "metadata": {},
   "source": [
    "## 3. Format expression data\n",
    "\n",
    "Now that we have our sample ID that map to our genotype data we'll replace the proteomic sample IDs (`Plasma_Sample`) with our genotype sample IDs. We'll also remove all columns except those that contain expression (i.e. remove PIDN, Age_at_Baseline, Sex, and Outcome).\n",
    "\n",
    "Note: We need a column for FID and IID for REGENIE."
   ]
  },
  {
   "cell_type": "code",
   "execution_count": null,
   "id": "536370d0",
   "metadata": {},
   "outputs": [],
   "source": [
    "metadata_colnames = [\"PIDN\", \"Age_at_Baseline\", \"Sex\", \"Outcome\"]\n",
    "npx_df = df.drop(metadata_colnames, axis=1)"
   ]
  },
  {
   "cell_type": "code",
   "execution_count": null,
   "id": "76032ec6",
   "metadata": {},
   "outputs": [],
   "source": [
    "# Add FID\n",
    "npx_df[\"FID\"] = sample_ids"
   ]
  },
  {
   "cell_type": "code",
   "execution_count": null,
   "id": "091503ef",
   "metadata": {},
   "outputs": [],
   "source": [
    "# Set index to FID\n",
    "npx_df = npx_df.set_index(\"FID\")"
   ]
  },
  {
   "cell_type": "code",
   "execution_count": null,
   "id": "c92f49ec",
   "metadata": {},
   "outputs": [],
   "source": [
    "# IID column\n",
    "npx_df.insert(0, \"IID\", sample_ids)"
   ]
  },
  {
   "cell_type": "code",
   "execution_count": null,
   "id": "b9cbee77",
   "metadata": {},
   "outputs": [],
   "source": [
    "print(npx_df.shape)\n",
    "npx_df.head()"
   ]
  },
  {
   "cell_type": "code",
   "execution_count": null,
   "id": "c6a330d0",
   "metadata": {},
   "outputs": [],
   "source": [
    "# Check if missing values values\n",
    "print(npx_df.isnull().values.any())\n",
    "print(npx_df.isnull().values.sum())"
   ]
  },
  {
   "cell_type": "code",
   "execution_count": null,
   "id": "4977b594",
   "metadata": {},
   "outputs": [],
   "source": [
    "npx_df.std().plot.hist()"
   ]
  },
  {
   "cell_type": "markdown",
   "id": "badace05",
   "metadata": {},
   "source": [
    "## 4. Save\n",
    "\n",
    "Save un-normalized and normalized data to test the affect of normalization on differential expression analysis results."
   ]
  },
  {
   "cell_type": "code",
   "execution_count": null,
   "id": "2711443a",
   "metadata": {},
   "outputs": [],
   "source": [
    "# npx_df.to_csv(\"pheno.txt\", sep=\"\\t\")\n",
    "npx_df.iloc[:, :201].to_csv(\"pheno_200.txt\", sep=\"\\t\")"
   ]
  },
  {
   "cell_type": "code",
   "execution_count": null,
   "id": "fd45e0c9",
   "metadata": {},
   "outputs": [],
   "source": [
    "# Upload the counts csv to the project\n",
    "os.system(\" \".join([\"dx upload\", \"pheno_200.txt\", \"--destination\", output_dir]))"
   ]
  },
  {
   "cell_type": "code",
   "execution_count": null,
   "metadata": {},
   "outputs": [],
   "source": []
  }
 ],
 "metadata": {
  "jupytext": {
   "formats": "ipynb,py"
  },
  "kernelspec": {
   "display_name": "Python 3 (ipykernel)",
   "language": "python",
   "name": "python3"
  },
  "language_info": {
   "codemirror_mode": {
    "name": "ipython",
    "version": 3
   },
   "file_extension": ".py",
   "mimetype": "text/x-python",
   "name": "python",
   "nbconvert_exporter": "python",
   "pygments_lexer": "ipython3",
   "version": "3.9.13"
  },
  "vscode": {
   "interpreter": {
    "hash": "31f2aee4e71d21fbe5cf8b01ff0e069b9275f58929596ceb00d14d90e3e16cd6"
   }
  }
 },
 "nbformat": 4,
 "nbformat_minor": 5
}
